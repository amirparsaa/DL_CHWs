{
  "cells": [
    {
      "cell_type": "markdown",
      "metadata": {
        "id": "JgIbvMSdfRix"
      },
      "source": [
        "# **Deep Learning Course**\n",
        "\n",
        "## **Loss Functions and Multilayer Perceptrons (MLP)**\n",
        "\n",
        "---\n",
        "\n",
        "### **Student Information:**\n",
        "\n",
        "- **Name:** *(Amirparsa Bahrami)*\n",
        "- **Student Number:** *(401101332)*\n",
        "\n",
        "---\n",
        "\n",
        "### **Assignment Overview**\n",
        "\n",
        "In this notebook, we will explore various loss functions used in neural networks, with a specific focus on their role in training **Multilayer Perceptrons (MLPs)**. By the end of this notebook, you will have a deeper understanding of:\n",
        "- Types of loss functions\n",
        "- How loss functions affect the training process\n",
        "- The relationship between loss functions and model optimization in MLPs\n",
        "\n",
        "---\n",
        "\n",
        "### **Table of Contents**\n",
        "\n",
        "1. Introduction to Loss Functions\n",
        "2. Types of Loss Functions\n",
        "3. Multilayer Perceptrons (MLP)\n",
        "4. Implementing Loss Functions in MLP\n",
        "5. Conclusion\n",
        "\n",
        "---\n",
        "\n"
      ]
    },
    {
      "cell_type": "markdown",
      "metadata": {
        "id": "Mlsr1yr9fRiz"
      },
      "source": [
        "# 1.Introduction to Loss Functions\n",
        "\n",
        "In deep learning, **loss functions** play a crucial role in training models by quantifying the difference between the predicted outputs and the actual targets. Selecting the appropriate loss function is essential for the success of your model. In this assay, we will explore various loss functions available in PyTorch, understand their theoretical backgrounds, and provide you with a scaffolded class to experiment with these loss functions.\n",
        "\n",
        "Before begining, let's train a simle MLP model using the **L1Loss** function. We'll return to this model later to experiment with different loss functions. We'll start by importing the necessary libraries and defining the model architecture.\n",
        "\n",
        "First things first, let's talk about **L1Loss**.\n",
        "\n",
        "### 1. L1Loss (`torch.nn.L1Loss`)\n",
        "- **Description:** Also known as Mean Absolute Error (MAE), L1Loss computes the average absolute difference between the predicted values and the target values.\n",
        "- **Use Case:** Suitable for regression tasks where robustness to outliers is desired.\n",
        "\n",
        "Here is the mathematical formulation of L1Loss:\n",
        "\\begin{equation}\n",
        "\\text{L1Loss} = \\frac{1}{n} \\sum_{i=1}^{n} |y_{\\text{pred}_i} - y_{\\text{true}_i}|\n",
        "\\end{equation}\n",
        "\n",
        "Let's implement a simple MLP model using the L1Loss function."
      ]
    },
    {
      "cell_type": "code",
      "execution_count": 61,
      "metadata": {
        "id": "OcXE2GAVfRi0"
      },
      "outputs": [],
      "source": [
        "import torch\n",
        "import torch.nn as nn\n",
        "import torch.optim as optim\n",
        "import pandas as pd\n",
        "from torch.utils.data import TensorDataset, DataLoader\n",
        "from sklearn.model_selection import train_test_split\n",
        "from torch.optim import Adam\n",
        "# Don't be courious about Adam, it's just a fancy name for a fancy optimization algorithm\n",
        "from tqdm import tqdm\n",
        "from sklearn.preprocessing import StandardScaler\n",
        "from sklearn.metrics import accuracy_score"
      ]
    },
    {
      "cell_type": "markdown",
      "metadata": {
        "id": "iVgagoU3fRi1"
      },
      "source": [
        "Here, we'll define a class called `SimpleMLP` that inherits from `nn.Module`. This class can have multiple layers, and we'll use the `nn.Sequential` module to define the layers of the model. The model will have the following architecture:"
      ]
    },
    {
      "cell_type": "code",
      "execution_count": 62,
      "metadata": {
        "id": "YrQJpe-OfRi1"
      },
      "outputs": [],
      "source": [
        "class SimpleMLP(nn.Module):\n",
        "    def __init__(self, input_dim, hidden_dim, output_dim, num_hidden_layers=1, last_layer_activation_fn=nn.ReLU):\n",
        "        super(SimpleMLP, self).__init__()\n",
        "        layers = []\n",
        "        # Input layer\n",
        "        layers.append(nn.Linear(input_dim, hidden_dim))\n",
        "        layers.append(nn.ReLU())\n",
        "        # Hidden layers\n",
        "        for _ in range(num_hidden_layers - 1):\n",
        "            layers.append(nn.Linear(hidden_dim, hidden_dim))\n",
        "            layers.append(nn.ReLU())\n",
        "        # Output layer\n",
        "        layers.append(nn.Linear(hidden_dim, output_dim))\n",
        "        if last_layer_activation_fn is not None:\n",
        "            layers.append(last_layer_activation_fn())\n",
        "        self.model = nn.Sequential(*layers)\n",
        "\n",
        "    def forward(self, x):\n",
        "        return self.model(x)"
      ]
    },
    {
      "cell_type": "markdown",
      "metadata": {
        "id": "PaQTo7lnfRi1"
      },
      "source": [
        "Now, let's define a class called `SimpleMLP_Loss` that has the following architecture:"
      ]
    },
    {
      "cell_type": "code",
      "execution_count": 63,
      "metadata": {
        "id": "U3upGXh-fRi1"
      },
      "outputs": [],
      "source": [
        "class SimpleMLPTrainer:\n",
        "    def __init__(self, model, criterion, optimizer):\n",
        "        self.model = model\n",
        "        self.criterion = criterion\n",
        "        self.optimizer = optimizer\n",
        "\n",
        "    def train(self, train_loader, num_epochs):\n",
        "        self.model.train()\n",
        "        train_losses = []\n",
        "        for epoch in range(num_epochs):\n",
        "            epoch_loss = 0\n",
        "            for inputs, targets in tqdm(train_loader, desc=f'Epoch {epoch+1}/{num_epochs}'):\n",
        "                outputs = self.model(inputs)\n",
        "                loss = self.criterion(outputs, targets)\n",
        "                self.optimizer.zero_grad()\n",
        "                loss.backward()\n",
        "                self.optimizer.step()\n",
        "                epoch_loss += loss.item()\n",
        "            avg_loss = epoch_loss / len(train_loader)\n",
        "            train_losses.append(avg_loss)\n",
        "            print(f'Epoch [{epoch+1}/{num_epochs}], Loss: {avg_loss:.4f}')\n",
        "        return train_losses\n",
        "\n",
        "    def evaluate(self, val_loader):\n",
        "        self.model.eval()\n",
        "        total_loss = 0\n",
        "        correct = 0\n",
        "        with torch.no_grad():\n",
        "            for inputs, targets in val_loader:\n",
        "                outputs = self.model(inputs)\n",
        "                outputs = outputs.view(-1)  # Reshape outputs to match targets\n",
        "                loss = self.criterion(outputs, targets)\n",
        "                total_loss += loss.item()\n",
        "                if isinstance(self.criterion, (nn.CrossEntropyLoss, nn.NLLLoss)):\n",
        "                    _, predicted = torch.max(outputs.data, 1)\n",
        "                    correct += (predicted == targets).sum().item()\n",
        "                else:\n",
        "                    predicted = outputs.round()\n",
        "                    correct += (predicted == targets).sum().item()\n",
        "        avg_loss = total_loss / len(val_loader)\n",
        "        accuracy = 100 * correct / (len(val_loader.dataset))\n",
        "        print(f'Validation Loss: {avg_loss:.4f}, Accuracy: {accuracy:.2f}%')\n",
        "        return avg_loss, accuracy"
      ]
    },
    {
      "cell_type": "markdown",
      "metadata": {
        "id": "S11ny-z9fRi2"
      },
      "source": [
        "Next, lets test our model using the L1Loss function. You'll use <span style=\"color:red\">*Titanic Dataset*</span> to train the model.\n"
      ]
    },
    {
      "cell_type": "code",
      "execution_count": 64,
      "metadata": {
        "id": "xr3I3I_AfRi2"
      },
      "outputs": [],
      "source": [
        "# Load dataset\n",
        "train_url = \"https://raw.githubusercontent.com/datasciencedojo/datasets/master/titanic.csv\"\n",
        "data = pd.read_csv(train_url)\n",
        "\n",
        "# Preprocessing\n",
        "data = data[['Pclass', 'Sex', 'Age', 'Fare', 'Survived']].dropna()\n",
        "data['Sex'] = data['Sex'].map({'male': 0, 'female': 1})\n",
        "\n",
        "# Features and target\n",
        "X = data[['Pclass', 'Sex', 'Age', 'Fare']].values.astype('float32')\n",
        "y = data['Survived'].values.astype('float32')\n",
        "\n",
        "# Convert to tensors\n",
        "X_tensor = torch.tensor(X)\n",
        "y_tensor = torch.tensor(y)\n",
        "\n",
        "# Split the data\n",
        "X_train, X_val, y_train, y_val = train_test_split(X_tensor, y_tensor, test_size=0.2, random_state=42)\n",
        "\n",
        "# Create DataLoaders\n",
        "train_dataset = TensorDataset(X_train, y_train)\n",
        "val_dataset = TensorDataset(X_val, y_val)\n",
        "\n",
        "batch_size = 32\n",
        "train_loader = DataLoader(train_dataset, batch_size=batch_size, shuffle=True)\n",
        "val_loader = DataLoader(val_dataset, batch_size=batch_size)\n"
      ]
    },
    {
      "cell_type": "markdown",
      "metadata": {
        "id": "2ch4P67gfRi2"
      },
      "source": [
        "<div style=\"text-align: center;\"> <span style=\"color:red; font-size: 26px; font-weight: bold;\">Let's train!</span> </div>"
      ]
    },
    {
      "cell_type": "code",
      "execution_count": 65,
      "metadata": {
        "colab": {
          "base_uri": "https://localhost:8080/"
        },
        "id": "WhTxjXb3fRi2",
        "outputId": "e6c13a01-fd30-4173-8802-ced31b4b4f04"
      },
      "outputs": [
        {
          "output_type": "stream",
          "name": "stderr",
          "text": [
            "Epoch 1/20: 100%|██████████| 18/18 [00:00<00:00, 393.87it/s]\n"
          ]
        },
        {
          "output_type": "stream",
          "name": "stdout",
          "text": [
            "Epoch [1/20], Loss: 1.0195\n"
          ]
        },
        {
          "output_type": "stream",
          "name": "stderr",
          "text": [
            "Epoch 2/20: 100%|██████████| 18/18 [00:00<00:00, 557.94it/s]\n"
          ]
        },
        {
          "output_type": "stream",
          "name": "stdout",
          "text": [
            "Epoch [2/20], Loss: 0.5878\n"
          ]
        },
        {
          "output_type": "stream",
          "name": "stderr",
          "text": [
            "Epoch 3/20: 100%|██████████| 18/18 [00:00<00:00, 435.91it/s]\n"
          ]
        },
        {
          "output_type": "stream",
          "name": "stdout",
          "text": [
            "Epoch [3/20], Loss: 0.4827\n"
          ]
        },
        {
          "output_type": "stream",
          "name": "stderr",
          "text": [
            "Epoch 4/20: 100%|██████████| 18/18 [00:00<00:00, 322.82it/s]\n"
          ]
        },
        {
          "output_type": "stream",
          "name": "stdout",
          "text": [
            "Epoch [4/20], Loss: 0.4719\n"
          ]
        },
        {
          "output_type": "stream",
          "name": "stderr",
          "text": [
            "Epoch 5/20: 100%|██████████| 18/18 [00:00<00:00, 544.51it/s]\n"
          ]
        },
        {
          "output_type": "stream",
          "name": "stdout",
          "text": [
            "Epoch [5/20], Loss: 0.4614\n"
          ]
        },
        {
          "output_type": "stream",
          "name": "stderr",
          "text": [
            "Epoch 6/20: 100%|██████████| 18/18 [00:00<00:00, 538.83it/s]\n"
          ]
        },
        {
          "output_type": "stream",
          "name": "stdout",
          "text": [
            "Epoch [6/20], Loss: 0.4618\n"
          ]
        },
        {
          "output_type": "stream",
          "name": "stderr",
          "text": [
            "Epoch 7/20: 100%|██████████| 18/18 [00:00<00:00, 534.05it/s]\n"
          ]
        },
        {
          "output_type": "stream",
          "name": "stdout",
          "text": [
            "Epoch [7/20], Loss: 0.4548\n"
          ]
        },
        {
          "output_type": "stream",
          "name": "stderr",
          "text": [
            "Epoch 8/20: 100%|██████████| 18/18 [00:00<00:00, 513.81it/s]\n"
          ]
        },
        {
          "output_type": "stream",
          "name": "stdout",
          "text": [
            "Epoch [8/20], Loss: 0.4508\n"
          ]
        },
        {
          "output_type": "stream",
          "name": "stderr",
          "text": [
            "Epoch 9/20: 100%|██████████| 18/18 [00:00<00:00, 522.44it/s]\n"
          ]
        },
        {
          "output_type": "stream",
          "name": "stdout",
          "text": [
            "Epoch [9/20], Loss: 0.4428\n"
          ]
        },
        {
          "output_type": "stream",
          "name": "stderr",
          "text": [
            "Epoch 10/20: 100%|██████████| 18/18 [00:00<00:00, 495.59it/s]\n"
          ]
        },
        {
          "output_type": "stream",
          "name": "stdout",
          "text": [
            "Epoch [10/20], Loss: 0.4362\n"
          ]
        },
        {
          "output_type": "stream",
          "name": "stderr",
          "text": [
            "Epoch 11/20: 100%|██████████| 18/18 [00:00<00:00, 440.03it/s]\n"
          ]
        },
        {
          "output_type": "stream",
          "name": "stdout",
          "text": [
            "Epoch [11/20], Loss: 0.4327\n"
          ]
        },
        {
          "output_type": "stream",
          "name": "stderr",
          "text": [
            "Epoch 12/20: 100%|██████████| 18/18 [00:00<00:00, 450.85it/s]\n"
          ]
        },
        {
          "output_type": "stream",
          "name": "stdout",
          "text": [
            "Epoch [12/20], Loss: 0.4289\n"
          ]
        },
        {
          "output_type": "stream",
          "name": "stderr",
          "text": [
            "Epoch 13/20: 100%|██████████| 18/18 [00:00<00:00, 500.46it/s]\n"
          ]
        },
        {
          "output_type": "stream",
          "name": "stdout",
          "text": [
            "Epoch [13/20], Loss: 0.4261\n"
          ]
        },
        {
          "output_type": "stream",
          "name": "stderr",
          "text": [
            "Epoch 14/20: 100%|██████████| 18/18 [00:00<00:00, 481.51it/s]\n"
          ]
        },
        {
          "output_type": "stream",
          "name": "stdout",
          "text": [
            "Epoch [14/20], Loss: 0.4260\n"
          ]
        },
        {
          "output_type": "stream",
          "name": "stderr",
          "text": [
            "Epoch 15/20: 100%|██████████| 18/18 [00:00<00:00, 464.39it/s]\n"
          ]
        },
        {
          "output_type": "stream",
          "name": "stdout",
          "text": [
            "Epoch [15/20], Loss: 0.4224\n"
          ]
        },
        {
          "output_type": "stream",
          "name": "stderr",
          "text": [
            "Epoch 16/20: 100%|██████████| 18/18 [00:00<00:00, 447.58it/s]\n"
          ]
        },
        {
          "output_type": "stream",
          "name": "stdout",
          "text": [
            "Epoch [16/20], Loss: 0.4210\n"
          ]
        },
        {
          "output_type": "stream",
          "name": "stderr",
          "text": [
            "Epoch 17/20: 100%|██████████| 18/18 [00:00<00:00, 510.76it/s]\n"
          ]
        },
        {
          "output_type": "stream",
          "name": "stdout",
          "text": [
            "Epoch [17/20], Loss: 0.4182\n"
          ]
        },
        {
          "output_type": "stream",
          "name": "stderr",
          "text": [
            "Epoch 18/20: 100%|██████████| 18/18 [00:00<00:00, 467.01it/s]\n"
          ]
        },
        {
          "output_type": "stream",
          "name": "stdout",
          "text": [
            "Epoch [18/20], Loss: 0.4180\n"
          ]
        },
        {
          "output_type": "stream",
          "name": "stderr",
          "text": [
            "Epoch 19/20: 100%|██████████| 18/18 [00:00<00:00, 433.27it/s]\n"
          ]
        },
        {
          "output_type": "stream",
          "name": "stdout",
          "text": [
            "Epoch [19/20], Loss: 0.4166\n"
          ]
        },
        {
          "output_type": "stream",
          "name": "stderr",
          "text": [
            "Epoch 20/20: 100%|██████████| 18/18 [00:00<00:00, 489.17it/s]"
          ]
        },
        {
          "output_type": "stream",
          "name": "stdout",
          "text": [
            "Epoch [20/20], Loss: 0.4167\n",
            "Validation Loss: 0.3994, Accuracy: 60.84%\n"
          ]
        },
        {
          "output_type": "stream",
          "name": "stderr",
          "text": [
            "\n"
          ]
        },
        {
          "output_type": "execute_result",
          "data": {
            "text/plain": [
              "(0.3994342446327209, 60.83916083916084)"
            ]
          },
          "metadata": {},
          "execution_count": 65
        }
      ],
      "source": [
        "from torch.nn import L1Loss\n",
        "\n",
        "# Define the model\n",
        "input_dim = X_train.shape[1]\n",
        "hidden_dim = 16\n",
        "output_dim = 1  # Regression output for L1Loss\n",
        "num_hidden_layers = 2\n",
        "model = SimpleMLP(input_dim, hidden_dim, output_dim, num_hidden_layers, last_layer_activation_fn=None)\n",
        "\n",
        "# Define the criterion and optimizer\n",
        "criterion = nn.L1Loss()\n",
        "optimizer = torch.optim.Adam(model.parameters(), lr=0.001)\n",
        "\n",
        "# Create trainer instance\n",
        "trainer = SimpleMLPTrainer(model, criterion, optimizer)\n",
        "\n",
        "# Train the model\n",
        "num_epochs = 20\n",
        "trainer.train(train_loader, num_epochs)\n",
        "\n",
        "# Evaluate the model\n",
        "trainer.evaluate(val_loader)"
      ]
    },
    {
      "cell_type": "markdown",
      "metadata": {
        "id": "HjCDHG2PfRi2"
      },
      "source": [
        "---\n",
        "# 2. Types of Loss Functions\n",
        "\n",
        "PyTorch offers a variety of built-in loss functions tailored for different types of problems, such as regression, classification, and more. Below, we discuss several commonly used loss functions, their theoretical foundations, and typical use cases.\n",
        "\n",
        "### 2. MSELoss (`torch.nn.MSELoss`)\n",
        "- **Description:** Mean Squared Error (MSE) calculates the average of the squares of the differences between predicted and target values.\n",
        "- **Use Case:** Commonly used in regression problems where larger errors are significantly penalized.\n",
        "\n",
        "Here is boring math stuff for MSE:\n",
        "\\begin{equation}\n",
        "\\text{MSE} = \\frac{1}{n} \\sum_{i=1}^{n} (y_{i} - \\hat{y}_{i})^{2}\n",
        "\\end{equation}\n",
        "\n",
        "<span style=\"color:red; font-size: 18px; font-weight: bold;\">Warning:</span> Don't forget to reinitialize the model before experimenting with different loss functions."
      ]
    },
    {
      "cell_type": "code",
      "execution_count": 68,
      "metadata": {
        "colab": {
          "base_uri": "https://localhost:8080/"
        },
        "id": "ZNNNpritfRi3",
        "outputId": "f48d8343-44b5-4223-ba9e-2fe252598ab9"
      },
      "outputs": [
        {
          "output_type": "stream",
          "name": "stderr",
          "text": [
            "Epoch 1/20: 100%|██████████| 18/18 [00:00<00:00, 549.19it/s]\n"
          ]
        },
        {
          "output_type": "stream",
          "name": "stdout",
          "text": [
            "Epoch [1/20], Loss: 5.8768\n"
          ]
        },
        {
          "output_type": "stream",
          "name": "stderr",
          "text": [
            "Epoch 2/20: 100%|██████████| 18/18 [00:00<00:00, 504.01it/s]\n"
          ]
        },
        {
          "output_type": "stream",
          "name": "stdout",
          "text": [
            "Epoch [2/20], Loss: 0.5782\n"
          ]
        },
        {
          "output_type": "stream",
          "name": "stderr",
          "text": [
            "Epoch 3/20: 100%|██████████| 18/18 [00:00<00:00, 528.69it/s]\n"
          ]
        },
        {
          "output_type": "stream",
          "name": "stdout",
          "text": [
            "Epoch [3/20], Loss: 0.3223\n"
          ]
        },
        {
          "output_type": "stream",
          "name": "stderr",
          "text": [
            "Epoch 4/20: 100%|██████████| 18/18 [00:00<00:00, 419.21it/s]\n"
          ]
        },
        {
          "output_type": "stream",
          "name": "stdout",
          "text": [
            "Epoch [4/20], Loss: 0.2965\n"
          ]
        },
        {
          "output_type": "stream",
          "name": "stderr",
          "text": [
            "Epoch 5/20: 100%|██████████| 18/18 [00:00<00:00, 512.45it/s]\n"
          ]
        },
        {
          "output_type": "stream",
          "name": "stdout",
          "text": [
            "Epoch [5/20], Loss: 0.2874\n"
          ]
        },
        {
          "output_type": "stream",
          "name": "stderr",
          "text": [
            "Epoch 6/20: 100%|██████████| 18/18 [00:00<00:00, 388.48it/s]\n"
          ]
        },
        {
          "output_type": "stream",
          "name": "stdout",
          "text": [
            "Epoch [6/20], Loss: 0.2750\n"
          ]
        },
        {
          "output_type": "stream",
          "name": "stderr",
          "text": [
            "Epoch 7/20: 100%|██████████| 18/18 [00:00<00:00, 542.96it/s]\n"
          ]
        },
        {
          "output_type": "stream",
          "name": "stdout",
          "text": [
            "Epoch [7/20], Loss: 0.2722\n"
          ]
        },
        {
          "output_type": "stream",
          "name": "stderr",
          "text": [
            "Epoch 8/20: 100%|██████████| 18/18 [00:00<00:00, 449.80it/s]\n"
          ]
        },
        {
          "output_type": "stream",
          "name": "stdout",
          "text": [
            "Epoch [8/20], Loss: 0.2704\n"
          ]
        },
        {
          "output_type": "stream",
          "name": "stderr",
          "text": [
            "Epoch 9/20: 100%|██████████| 18/18 [00:00<00:00, 361.30it/s]\n"
          ]
        },
        {
          "output_type": "stream",
          "name": "stdout",
          "text": [
            "Epoch [9/20], Loss: 0.2578\n"
          ]
        },
        {
          "output_type": "stream",
          "name": "stderr",
          "text": [
            "Epoch 10/20: 100%|██████████| 18/18 [00:00<00:00, 420.68it/s]\n"
          ]
        },
        {
          "output_type": "stream",
          "name": "stdout",
          "text": [
            "Epoch [10/20], Loss: 0.2565\n"
          ]
        },
        {
          "output_type": "stream",
          "name": "stderr",
          "text": [
            "Epoch 11/20: 100%|██████████| 18/18 [00:00<00:00, 367.32it/s]\n"
          ]
        },
        {
          "output_type": "stream",
          "name": "stdout",
          "text": [
            "Epoch [11/20], Loss: 0.2532\n"
          ]
        },
        {
          "output_type": "stream",
          "name": "stderr",
          "text": [
            "Epoch 12/20: 100%|██████████| 18/18 [00:00<00:00, 392.11it/s]\n"
          ]
        },
        {
          "output_type": "stream",
          "name": "stdout",
          "text": [
            "Epoch [12/20], Loss: 0.2534\n"
          ]
        },
        {
          "output_type": "stream",
          "name": "stderr",
          "text": [
            "Epoch 13/20: 100%|██████████| 18/18 [00:00<00:00, 407.90it/s]\n"
          ]
        },
        {
          "output_type": "stream",
          "name": "stdout",
          "text": [
            "Epoch [13/20], Loss: 0.2520\n"
          ]
        },
        {
          "output_type": "stream",
          "name": "stderr",
          "text": [
            "Epoch 14/20: 100%|██████████| 18/18 [00:00<00:00, 510.24it/s]\n"
          ]
        },
        {
          "output_type": "stream",
          "name": "stdout",
          "text": [
            "Epoch [14/20], Loss: 0.2502\n"
          ]
        },
        {
          "output_type": "stream",
          "name": "stderr",
          "text": [
            "Epoch 15/20: 100%|██████████| 18/18 [00:00<00:00, 378.13it/s]\n"
          ]
        },
        {
          "output_type": "stream",
          "name": "stdout",
          "text": [
            "Epoch [15/20], Loss: 0.2490\n"
          ]
        },
        {
          "output_type": "stream",
          "name": "stderr",
          "text": [
            "Epoch 16/20: 100%|██████████| 18/18 [00:00<00:00, 487.23it/s]\n"
          ]
        },
        {
          "output_type": "stream",
          "name": "stdout",
          "text": [
            "Epoch [16/20], Loss: 0.2497\n"
          ]
        },
        {
          "output_type": "stream",
          "name": "stderr",
          "text": [
            "Epoch 17/20: 100%|██████████| 18/18 [00:00<00:00, 508.24it/s]\n"
          ]
        },
        {
          "output_type": "stream",
          "name": "stdout",
          "text": [
            "Epoch [17/20], Loss: 0.2477\n"
          ]
        },
        {
          "output_type": "stream",
          "name": "stderr",
          "text": [
            "Epoch 18/20: 100%|██████████| 18/18 [00:00<00:00, 531.63it/s]\n"
          ]
        },
        {
          "output_type": "stream",
          "name": "stdout",
          "text": [
            "Epoch [18/20], Loss: 0.2500\n"
          ]
        },
        {
          "output_type": "stream",
          "name": "stderr",
          "text": [
            "Epoch 19/20: 100%|██████████| 18/18 [00:00<00:00, 544.53it/s]\n"
          ]
        },
        {
          "output_type": "stream",
          "name": "stdout",
          "text": [
            "Epoch [19/20], Loss: 0.2475\n"
          ]
        },
        {
          "output_type": "stream",
          "name": "stderr",
          "text": [
            "Epoch 20/20: 100%|██████████| 18/18 [00:00<00:00, 435.91it/s]"
          ]
        },
        {
          "output_type": "stream",
          "name": "stdout",
          "text": [
            "Epoch [20/20], Loss: 0.2490\n",
            "Validation Loss: 0.2346, Accuracy: 66.43%\n"
          ]
        },
        {
          "output_type": "stream",
          "name": "stderr",
          "text": [
            "\n"
          ]
        },
        {
          "output_type": "execute_result",
          "data": {
            "text/plain": [
              "(0.23455969989299774, 66.43356643356644)"
            ]
          },
          "metadata": {},
          "execution_count": 68
        }
      ],
      "source": [
        "from torch.nn import MSELoss\n",
        "\n",
        "# Reinitialize the model\n",
        "model = SimpleMLP(input_dim, hidden_dim, output_dim, num_hidden_layers, last_layer_activation_fn=None)\n",
        "\n",
        "# Define the criterion and optimizer\n",
        "criterion = nn.MSELoss()\n",
        "optimizer = optim.Adam(model.parameters(), lr=0.001)\n",
        "\n",
        "trainer = SimpleMLPTrainer(model, criterion, optimizer)\n",
        "\n",
        "# Train the model\n",
        "trainer.train(train_loader, num_epochs)\n",
        "\n",
        "# Evaluate the model\n",
        "trainer.evaluate(val_loader)"
      ]
    },
    {
      "cell_type": "markdown",
      "metadata": {
        "id": "opeasGtLfRi3"
      },
      "source": [
        "### 3. NLLLoss (`torch.nn.NLLLoss`)\n",
        "- **Description:** Negative Log-Likelihood Loss measures the likelihood of the target class under the predicted probability distribution.\n",
        "- **Use Case:** Typically used in multi-class classification tasks, especially when combined with `log_softmax` activation.\n",
        "\n",
        "Here is the mathematical formulation of NLLLoss:\n",
        "\\begin{equation}\n",
        "\\text{NLLLoss} = -\\frac{1}{n} \\sum_{i=1}^{n} \\log(y_{i})\n",
        "\\end{equation}\n",
        "\n",
        "I hope you note the logarithm in the formula. It's important!\n",
        "\n",
        "Why?\n",
        "\n",
        "In this part, run your training with Relu at last layer. <span style=\"color:red; font-weight: bold;\">Discuss </span> and explain the difference between the results of the two models. Find a proper solution to the problem.\n"
      ]
    },
    {
      "cell_type": "markdown",
      "source": [
        "# the line outputs = outputs.view(-1) is Removed from the evaluate method, so the model’s output shape is not altered unintentionally."
      ],
      "metadata": {
        "id": "_nvO3Sj5MeS5"
      }
    },
    {
      "cell_type": "code",
      "source": [
        "class SimpleMLPTrainer:\n",
        "    def __init__(self, model, criterion, optimizer):\n",
        "        self.model = model\n",
        "        self.criterion = criterion\n",
        "        self.optimizer = optimizer\n",
        "\n",
        "    def train(self, train_loader, num_epochs):\n",
        "        self.model.train()\n",
        "        train_losses = []\n",
        "        for epoch in range(num_epochs):\n",
        "            epoch_loss = 0\n",
        "            for inputs, targets in tqdm(train_loader, desc=f'Epoch {epoch+1}/{num_epochs}'):\n",
        "                outputs = self.model(inputs)\n",
        "                loss = self.criterion(outputs, targets)\n",
        "                self.optimizer.zero_grad()\n",
        "                loss.backward()\n",
        "                self.optimizer.step()\n",
        "                epoch_loss += loss.item()\n",
        "            avg_loss = epoch_loss / len(train_loader)\n",
        "            train_losses.append(avg_loss)\n",
        "            print(f'Epoch [{epoch+1}/{num_epochs}], Loss: {avg_loss:.4f}')\n",
        "        return train_losses\n",
        "\n",
        "    def evaluate(self, val_loader):\n",
        "        self.model.eval()\n",
        "        total_loss = 0\n",
        "        correct = 0\n",
        "        with torch.no_grad():\n",
        "            for inputs, targets in val_loader:\n",
        "                outputs = self.model(inputs)\n",
        "                outputs = outputs\n",
        "                loss = self.criterion(outputs, targets)\n",
        "                total_loss += loss.item()\n",
        "                if isinstance(self.criterion, (nn.CrossEntropyLoss, nn.NLLLoss)):\n",
        "                    _, predicted = torch.max(outputs.data, 1)\n",
        "                    correct += (predicted == targets).sum().item()\n",
        "                else:\n",
        "                    predicted = outputs.round()\n",
        "                    correct += (predicted == targets).sum().item()\n",
        "        avg_loss = total_loss / len(val_loader)\n",
        "        accuracy = 100 * correct / (len(val_loader.dataset))\n",
        "        print(f'Validation Loss: {avg_loss:.4f}, Accuracy: {accuracy:.2f}%')\n",
        "        return avg_loss, accuracy"
      ],
      "metadata": {
        "id": "rIudAoPTMWsL"
      },
      "execution_count": 69,
      "outputs": []
    },
    {
      "cell_type": "code",
      "execution_count": 70,
      "metadata": {
        "colab": {
          "base_uri": "https://localhost:8080/"
        },
        "id": "un2RCtvCfRi3",
        "outputId": "d09ca369-e2f9-4d75-a4b6-45f2f5a3a071"
      },
      "outputs": [
        {
          "output_type": "stream",
          "name": "stderr",
          "text": [
            "Epoch 1/20: 100%|██████████| 18/18 [00:00<00:00, 486.23it/s]\n"
          ]
        },
        {
          "output_type": "stream",
          "name": "stdout",
          "text": [
            "Epoch [1/20], Loss: -0.8004\n"
          ]
        },
        {
          "output_type": "stream",
          "name": "stderr",
          "text": [
            "Epoch 2/20: 100%|██████████| 18/18 [00:00<00:00, 350.53it/s]\n"
          ]
        },
        {
          "output_type": "stream",
          "name": "stdout",
          "text": [
            "Epoch [2/20], Loss: -2.0685\n"
          ]
        },
        {
          "output_type": "stream",
          "name": "stderr",
          "text": [
            "Epoch 3/20: 100%|██████████| 18/18 [00:00<00:00, 328.09it/s]\n"
          ]
        },
        {
          "output_type": "stream",
          "name": "stdout",
          "text": [
            "Epoch [3/20], Loss: -3.8088\n"
          ]
        },
        {
          "output_type": "stream",
          "name": "stderr",
          "text": [
            "Epoch 4/20: 100%|██████████| 18/18 [00:00<00:00, 317.40it/s]\n"
          ]
        },
        {
          "output_type": "stream",
          "name": "stdout",
          "text": [
            "Epoch [4/20], Loss: -6.6676\n"
          ]
        },
        {
          "output_type": "stream",
          "name": "stderr",
          "text": [
            "Epoch 5/20: 100%|██████████| 18/18 [00:00<00:00, 472.54it/s]\n"
          ]
        },
        {
          "output_type": "stream",
          "name": "stdout",
          "text": [
            "Epoch [5/20], Loss: -10.8292\n"
          ]
        },
        {
          "output_type": "stream",
          "name": "stderr",
          "text": [
            "Epoch 6/20: 100%|██████████| 18/18 [00:00<00:00, 410.98it/s]\n"
          ]
        },
        {
          "output_type": "stream",
          "name": "stdout",
          "text": [
            "Epoch [6/20], Loss: -16.9392\n"
          ]
        },
        {
          "output_type": "stream",
          "name": "stderr",
          "text": [
            "Epoch 7/20: 100%|██████████| 18/18 [00:00<00:00, 481.20it/s]\n"
          ]
        },
        {
          "output_type": "stream",
          "name": "stdout",
          "text": [
            "Epoch [7/20], Loss: -25.7110\n"
          ]
        },
        {
          "output_type": "stream",
          "name": "stderr",
          "text": [
            "Epoch 8/20: 100%|██████████| 18/18 [00:00<00:00, 460.98it/s]\n"
          ]
        },
        {
          "output_type": "stream",
          "name": "stdout",
          "text": [
            "Epoch [8/20], Loss: -37.7600\n"
          ]
        },
        {
          "output_type": "stream",
          "name": "stderr",
          "text": [
            "Epoch 9/20: 100%|██████████| 18/18 [00:00<00:00, 395.21it/s]\n"
          ]
        },
        {
          "output_type": "stream",
          "name": "stdout",
          "text": [
            "Epoch [9/20], Loss: -53.8497\n"
          ]
        },
        {
          "output_type": "stream",
          "name": "stderr",
          "text": [
            "Epoch 10/20: 100%|██████████| 18/18 [00:00<00:00, 451.43it/s]\n"
          ]
        },
        {
          "output_type": "stream",
          "name": "stdout",
          "text": [
            "Epoch [10/20], Loss: -75.0161\n"
          ]
        },
        {
          "output_type": "stream",
          "name": "stderr",
          "text": [
            "Epoch 11/20: 100%|██████████| 18/18 [00:00<00:00, 443.07it/s]\n"
          ]
        },
        {
          "output_type": "stream",
          "name": "stdout",
          "text": [
            "Epoch [11/20], Loss: -101.4194\n"
          ]
        },
        {
          "output_type": "stream",
          "name": "stderr",
          "text": [
            "Epoch 12/20: 100%|██████████| 18/18 [00:00<00:00, 577.90it/s]\n"
          ]
        },
        {
          "output_type": "stream",
          "name": "stdout",
          "text": [
            "Epoch [12/20], Loss: -134.1188\n"
          ]
        },
        {
          "output_type": "stream",
          "name": "stderr",
          "text": [
            "Epoch 13/20: 100%|██████████| 18/18 [00:00<00:00, 465.37it/s]\n"
          ]
        },
        {
          "output_type": "stream",
          "name": "stdout",
          "text": [
            "Epoch [13/20], Loss: -176.4697\n"
          ]
        },
        {
          "output_type": "stream",
          "name": "stderr",
          "text": [
            "Epoch 14/20: 100%|██████████| 18/18 [00:00<00:00, 478.05it/s]\n"
          ]
        },
        {
          "output_type": "stream",
          "name": "stdout",
          "text": [
            "Epoch [14/20], Loss: -224.9504\n"
          ]
        },
        {
          "output_type": "stream",
          "name": "stderr",
          "text": [
            "Epoch 15/20: 100%|██████████| 18/18 [00:00<00:00, 437.53it/s]\n"
          ]
        },
        {
          "output_type": "stream",
          "name": "stdout",
          "text": [
            "Epoch [15/20], Loss: -286.6676\n"
          ]
        },
        {
          "output_type": "stream",
          "name": "stderr",
          "text": [
            "Epoch 16/20: 100%|██████████| 18/18 [00:00<00:00, 477.75it/s]\n"
          ]
        },
        {
          "output_type": "stream",
          "name": "stdout",
          "text": [
            "Epoch [16/20], Loss: -358.9829\n"
          ]
        },
        {
          "output_type": "stream",
          "name": "stderr",
          "text": [
            "Epoch 17/20: 100%|██████████| 18/18 [00:00<00:00, 474.18it/s]\n"
          ]
        },
        {
          "output_type": "stream",
          "name": "stdout",
          "text": [
            "Epoch [17/20], Loss: -441.4628\n"
          ]
        },
        {
          "output_type": "stream",
          "name": "stderr",
          "text": [
            "Epoch 18/20: 100%|██████████| 18/18 [00:00<00:00, 566.98it/s]\n"
          ]
        },
        {
          "output_type": "stream",
          "name": "stdout",
          "text": [
            "Epoch [18/20], Loss: -538.9040\n"
          ]
        },
        {
          "output_type": "stream",
          "name": "stderr",
          "text": [
            "Epoch 19/20: 100%|██████████| 18/18 [00:00<00:00, 477.61it/s]\n"
          ]
        },
        {
          "output_type": "stream",
          "name": "stdout",
          "text": [
            "Epoch [19/20], Loss: -648.6813\n"
          ]
        },
        {
          "output_type": "stream",
          "name": "stderr",
          "text": [
            "Epoch 20/20: 100%|██████████| 18/18 [00:00<00:00, 506.08it/s]"
          ]
        },
        {
          "output_type": "stream",
          "name": "stdout",
          "text": [
            "Epoch [20/20], Loss: -780.1832\n",
            "Validation Loss: -812.7282, Accuracy: 39.16%\n"
          ]
        },
        {
          "output_type": "stream",
          "name": "stderr",
          "text": [
            "\n"
          ]
        },
        {
          "output_type": "execute_result",
          "data": {
            "text/plain": [
              "(-812.7281860351562, 39.16083916083916)"
            ]
          },
          "metadata": {},
          "execution_count": 70
        }
      ],
      "source": [
        "from torch.nn import NLLLoss\n",
        "\n",
        "# Modify the model for classification\n",
        "output_dim = 2  # Number of classes\n",
        "model = SimpleMLP(input_dim, hidden_dim, output_dim, num_hidden_layers, last_layer_activation_fn=nn.ReLU)\n",
        "\n",
        "# Define the criterion and optimizer\n",
        "criterion = nn.NLLLoss()\n",
        "optimizer = torch.optim.Adam(model.parameters(), lr=0.001)\n",
        "\n",
        "# Update the labels to be LongTensor for classification\n",
        "y_train_long = y_train.long()\n",
        "y_val_long = y_val.long()\n",
        "\n",
        "# Update datasets and loaders\n",
        "train_dataset = TensorDataset(X_train, y_train_long)\n",
        "val_dataset = TensorDataset(X_val, y_val_long)\n",
        "\n",
        "train_loader = DataLoader(train_dataset, batch_size=batch_size, shuffle=True)\n",
        "val_loader = DataLoader(val_dataset, batch_size=batch_size)\n",
        "\n",
        "# Create trainer instance\n",
        "trainer = SimpleMLPTrainer(model, criterion, optimizer)\n",
        "\n",
        "# Train the model\n",
        "trainer.train(train_loader, num_epochs)\n",
        "\n",
        "# Evaluate the model\n",
        "trainer.evaluate(val_loader)"
      ]
    },
    {
      "cell_type": "markdown",
      "source": [
        "# Using LogSoftmax Activation Function"
      ],
      "metadata": {
        "id": "BrTZ4jegNKyQ"
      }
    },
    {
      "cell_type": "code",
      "execution_count": 72,
      "metadata": {
        "colab": {
          "base_uri": "https://localhost:8080/"
        },
        "id": "jIhjdsWQfRi3",
        "outputId": "413da8c4-099d-45fc-bd7a-758977b324cc"
      },
      "outputs": [
        {
          "output_type": "stream",
          "name": "stderr",
          "text": [
            "Epoch 1/20: 100%|██████████| 18/18 [00:00<00:00, 578.30it/s]\n"
          ]
        },
        {
          "output_type": "stream",
          "name": "stdout",
          "text": [
            "Epoch [1/20], Loss: 0.8284\n"
          ]
        },
        {
          "output_type": "stream",
          "name": "stderr",
          "text": [
            "Epoch 2/20: 100%|██████████| 18/18 [00:00<00:00, 518.93it/s]\n"
          ]
        },
        {
          "output_type": "stream",
          "name": "stdout",
          "text": [
            "Epoch [2/20], Loss: 0.6095\n"
          ]
        },
        {
          "output_type": "stream",
          "name": "stderr",
          "text": [
            "Epoch 3/20: 100%|██████████| 18/18 [00:00<00:00, 526.16it/s]\n"
          ]
        },
        {
          "output_type": "stream",
          "name": "stdout",
          "text": [
            "Epoch [3/20], Loss: 0.6097\n"
          ]
        },
        {
          "output_type": "stream",
          "name": "stderr",
          "text": [
            "Epoch 4/20: 100%|██████████| 18/18 [00:00<00:00, 560.57it/s]\n"
          ]
        },
        {
          "output_type": "stream",
          "name": "stdout",
          "text": [
            "Epoch [4/20], Loss: 0.5983\n"
          ]
        },
        {
          "output_type": "stream",
          "name": "stderr",
          "text": [
            "Epoch 5/20: 100%|██████████| 18/18 [00:00<00:00, 526.42it/s]\n"
          ]
        },
        {
          "output_type": "stream",
          "name": "stdout",
          "text": [
            "Epoch [5/20], Loss: 0.5961\n"
          ]
        },
        {
          "output_type": "stream",
          "name": "stderr",
          "text": [
            "Epoch 6/20: 100%|██████████| 18/18 [00:00<00:00, 357.98it/s]\n"
          ]
        },
        {
          "output_type": "stream",
          "name": "stdout",
          "text": [
            "Epoch [6/20], Loss: 0.6003\n"
          ]
        },
        {
          "output_type": "stream",
          "name": "stderr",
          "text": [
            "Epoch 7/20: 100%|██████████| 18/18 [00:00<00:00, 375.59it/s]\n"
          ]
        },
        {
          "output_type": "stream",
          "name": "stdout",
          "text": [
            "Epoch [7/20], Loss: 0.5902\n"
          ]
        },
        {
          "output_type": "stream",
          "name": "stderr",
          "text": [
            "Epoch 8/20: 100%|██████████| 18/18 [00:00<00:00, 383.24it/s]\n"
          ]
        },
        {
          "output_type": "stream",
          "name": "stdout",
          "text": [
            "Epoch [8/20], Loss: 0.5894\n"
          ]
        },
        {
          "output_type": "stream",
          "name": "stderr",
          "text": [
            "Epoch 9/20: 100%|██████████| 18/18 [00:00<00:00, 462.99it/s]\n"
          ]
        },
        {
          "output_type": "stream",
          "name": "stdout",
          "text": [
            "Epoch [9/20], Loss: 0.5960\n"
          ]
        },
        {
          "output_type": "stream",
          "name": "stderr",
          "text": [
            "Epoch 10/20: 100%|██████████| 18/18 [00:00<00:00, 464.78it/s]\n"
          ]
        },
        {
          "output_type": "stream",
          "name": "stdout",
          "text": [
            "Epoch [10/20], Loss: 0.5994\n"
          ]
        },
        {
          "output_type": "stream",
          "name": "stderr",
          "text": [
            "Epoch 11/20: 100%|██████████| 18/18 [00:00<00:00, 519.31it/s]\n"
          ]
        },
        {
          "output_type": "stream",
          "name": "stdout",
          "text": [
            "Epoch [11/20], Loss: 0.5896\n"
          ]
        },
        {
          "output_type": "stream",
          "name": "stderr",
          "text": [
            "Epoch 12/20: 100%|██████████| 18/18 [00:00<00:00, 544.24it/s]\n"
          ]
        },
        {
          "output_type": "stream",
          "name": "stdout",
          "text": [
            "Epoch [12/20], Loss: 0.5886\n"
          ]
        },
        {
          "output_type": "stream",
          "name": "stderr",
          "text": [
            "Epoch 13/20: 100%|██████████| 18/18 [00:00<00:00, 561.56it/s]\n"
          ]
        },
        {
          "output_type": "stream",
          "name": "stdout",
          "text": [
            "Epoch [13/20], Loss: 0.5950\n"
          ]
        },
        {
          "output_type": "stream",
          "name": "stderr",
          "text": [
            "Epoch 14/20: 100%|██████████| 18/18 [00:00<00:00, 556.57it/s]\n"
          ]
        },
        {
          "output_type": "stream",
          "name": "stdout",
          "text": [
            "Epoch [14/20], Loss: 0.5825\n"
          ]
        },
        {
          "output_type": "stream",
          "name": "stderr",
          "text": [
            "Epoch 15/20: 100%|██████████| 18/18 [00:00<00:00, 587.40it/s]\n"
          ]
        },
        {
          "output_type": "stream",
          "name": "stdout",
          "text": [
            "Epoch [15/20], Loss: 0.5806\n"
          ]
        },
        {
          "output_type": "stream",
          "name": "stderr",
          "text": [
            "Epoch 16/20: 100%|██████████| 18/18 [00:00<00:00, 378.89it/s]\n"
          ]
        },
        {
          "output_type": "stream",
          "name": "stdout",
          "text": [
            "Epoch [16/20], Loss: 0.5822\n"
          ]
        },
        {
          "output_type": "stream",
          "name": "stderr",
          "text": [
            "Epoch 17/20: 100%|██████████| 18/18 [00:00<00:00, 521.37it/s]\n"
          ]
        },
        {
          "output_type": "stream",
          "name": "stdout",
          "text": [
            "Epoch [17/20], Loss: 0.5854\n"
          ]
        },
        {
          "output_type": "stream",
          "name": "stderr",
          "text": [
            "Epoch 18/20: 100%|██████████| 18/18 [00:00<00:00, 558.76it/s]\n"
          ]
        },
        {
          "output_type": "stream",
          "name": "stdout",
          "text": [
            "Epoch [18/20], Loss: 0.5896\n"
          ]
        },
        {
          "output_type": "stream",
          "name": "stderr",
          "text": [
            "Epoch 19/20: 100%|██████████| 18/18 [00:00<00:00, 529.47it/s]\n"
          ]
        },
        {
          "output_type": "stream",
          "name": "stdout",
          "text": [
            "Epoch [19/20], Loss: 0.5838\n"
          ]
        },
        {
          "output_type": "stream",
          "name": "stderr",
          "text": [
            "Epoch 20/20: 100%|██████████| 18/18 [00:00<00:00, 501.10it/s]"
          ]
        },
        {
          "output_type": "stream",
          "name": "stdout",
          "text": [
            "Epoch [20/20], Loss: 0.5816\n",
            "Validation Loss: 0.6686, Accuracy: 62.24%\n"
          ]
        },
        {
          "output_type": "stream",
          "name": "stderr",
          "text": [
            "\n"
          ]
        },
        {
          "output_type": "execute_result",
          "data": {
            "text/plain": [
              "(0.6686157703399658, 62.23776223776224)"
            ]
          },
          "metadata": {},
          "execution_count": 72
        }
      ],
      "source": [
        "# Run with --- activation function\n",
        "from torch.nn import NLLLoss\n",
        "\n",
        "# Modify the model to use LogSoftmax\n",
        "class SimpleMLP(nn.Module):\n",
        "    def __init__(self, input_dim, hidden_dim, output_dim, num_hidden_layers=1):\n",
        "        super(SimpleMLP, self).__init__()\n",
        "        layers = []\n",
        "        # Input layer\n",
        "        layers.append(nn.Linear(input_dim, hidden_dim))\n",
        "        layers.append(nn.ReLU())\n",
        "        # Hidden layers\n",
        "        for _ in range(num_hidden_layers - 1):\n",
        "            layers.append(nn.Linear(hidden_dim, hidden_dim))\n",
        "            layers.append(nn.ReLU())\n",
        "        # Output layer without activation\n",
        "        layers.append(nn.Linear(hidden_dim, output_dim))\n",
        "        self.hidden_layers = nn.Sequential(*layers)\n",
        "        self.output_activation = nn.LogSoftmax(dim=1)\n",
        "\n",
        "    def forward(self, x):\n",
        "        x = self.hidden_layers(x)\n",
        "        x = self.output_activation(x)\n",
        "        return x\n",
        "\n",
        "# Reinitialize the model\n",
        "model = SimpleMLP(input_dim, hidden_dim, output_dim, num_hidden_layers)\n",
        "\n",
        "# Define the criterion and optimizer\n",
        "criterion = nn.NLLLoss()\n",
        "optimizer = torch.optim.Adam(model.parameters(), lr=0.001)\n",
        "\n",
        "# Create trainer instance\n",
        "trainer = SimpleMLPTrainer(model, criterion, optimizer)\n",
        "\n",
        "# Train the model\n",
        "trainer.train(train_loader, num_epochs)\n",
        "\n",
        "# Evaluate the model\n",
        "trainer.evaluate(val_loader)"
      ]
    },
    {
      "cell_type": "markdown",
      "metadata": {
        "id": "Hu1KWqTnfRi3"
      },
      "source": [
        "Your reason for your choice:\n",
        "<div>\n",
        "** By using LogSoftmax as the activation function for the last layer, we ensure that the outputs are log probabilities, which is what NLLLoss expects. This change aligns the model's output with the requirements of the loss function, allowing for proper training. **\n",
        "</div>\n"
      ]
    },
    {
      "cell_type": "markdown",
      "metadata": {
        "id": "71oMdt3ZfRi3"
      },
      "source": [
        "\n",
        "### 4. CrossEntropyLoss (`torch.nn.CrossEntropyLoss`)\n",
        "- **Description:** Combines `LogSoftmax` and `NLLLoss` in one single class. It computes the cross-entropy loss between the target and the output logits.\n",
        "- **Use Case:** Widely used for multi-class classification problems.\n",
        "\n",
        "The mathematical formulation of CrossEntropyLoss is as follows:\n",
        "\\begin{equation}\n",
        "  \\text{CrossEntropy}(y, \\hat{y}) = - \\sum_{i=1}^{C} y_i \\log\\left(\\frac{e^{\\hat{y}_i}}{\\sum_{j=1}^{C} e^{\\hat{y}_j}}\\right)\n",
        "\\end{equation}\n",
        "  where:\n",
        "  - \\( C \\) is the number of classes,\n",
        "  - \\( y_i \\) is a one-hot encoded target vector (or a scalar class label),\n",
        "  - \\( \\hat{y}_i \\) represents the logits (unnormalized model outputs) for each class.\n",
        "  \n",
        "  In practice, `torch.nn.CrossEntropyLoss` expects raw logits as input and internally applies the softmax function to convert the logits into probabilities, followed by the negative log-likelihood computation.\n",
        "\n",
        "- **Background:** Cross-entropy measures the difference between the true distribution \\( y \\) and the predicted distribution \\( \\hat{y} \\). The function minimizes the negative log-probability assigned to the correct class, effectively penalizing predictions that deviate from the true class, making it a standard choice for classification tasks in deep learning.\n",
        "\n",
        "Now, let's implement a class called `SimpleMLP_Loss` that has the following architecture:\n"
      ]
    },
    {
      "cell_type": "code",
      "execution_count": 73,
      "metadata": {
        "id": "xq8cApe9fRi4",
        "colab": {
          "base_uri": "https://localhost:8080/"
        },
        "outputId": "f9c04c53-d7cc-4799-b180-3a729d2ccc66"
      },
      "outputs": [
        {
          "output_type": "stream",
          "name": "stderr",
          "text": [
            "Epoch 1/20: 100%|██████████| 18/18 [00:00<00:00, 537.45it/s]\n"
          ]
        },
        {
          "output_type": "stream",
          "name": "stdout",
          "text": [
            "Epoch [1/20], Loss: 1.4005\n"
          ]
        },
        {
          "output_type": "stream",
          "name": "stderr",
          "text": [
            "Epoch 2/20: 100%|██████████| 18/18 [00:00<00:00, 547.02it/s]\n"
          ]
        },
        {
          "output_type": "stream",
          "name": "stdout",
          "text": [
            "Epoch [2/20], Loss: 0.7790\n"
          ]
        },
        {
          "output_type": "stream",
          "name": "stderr",
          "text": [
            "Epoch 3/20: 100%|██████████| 18/18 [00:00<00:00, 542.22it/s]\n"
          ]
        },
        {
          "output_type": "stream",
          "name": "stdout",
          "text": [
            "Epoch [3/20], Loss: 0.6791\n"
          ]
        },
        {
          "output_type": "stream",
          "name": "stderr",
          "text": [
            "Epoch 4/20: 100%|██████████| 18/18 [00:00<00:00, 565.45it/s]\n"
          ]
        },
        {
          "output_type": "stream",
          "name": "stdout",
          "text": [
            "Epoch [4/20], Loss: 0.6499\n"
          ]
        },
        {
          "output_type": "stream",
          "name": "stderr",
          "text": [
            "Epoch 5/20: 100%|██████████| 18/18 [00:00<00:00, 547.69it/s]\n"
          ]
        },
        {
          "output_type": "stream",
          "name": "stdout",
          "text": [
            "Epoch [5/20], Loss: 0.6275\n"
          ]
        },
        {
          "output_type": "stream",
          "name": "stderr",
          "text": [
            "Epoch 6/20: 100%|██████████| 18/18 [00:00<00:00, 426.44it/s]\n"
          ]
        },
        {
          "output_type": "stream",
          "name": "stdout",
          "text": [
            "Epoch [6/20], Loss: 0.6149\n"
          ]
        },
        {
          "output_type": "stream",
          "name": "stderr",
          "text": [
            "Epoch 7/20: 100%|██████████| 18/18 [00:00<00:00, 400.50it/s]\n"
          ]
        },
        {
          "output_type": "stream",
          "name": "stdout",
          "text": [
            "Epoch [7/20], Loss: 0.6031\n"
          ]
        },
        {
          "output_type": "stream",
          "name": "stderr",
          "text": [
            "Epoch 8/20: 100%|██████████| 18/18 [00:00<00:00, 382.52it/s]\n"
          ]
        },
        {
          "output_type": "stream",
          "name": "stdout",
          "text": [
            "Epoch [8/20], Loss: 0.5988\n"
          ]
        },
        {
          "output_type": "stream",
          "name": "stderr",
          "text": [
            "Epoch 9/20: 100%|██████████| 18/18 [00:00<00:00, 402.17it/s]\n"
          ]
        },
        {
          "output_type": "stream",
          "name": "stdout",
          "text": [
            "Epoch [9/20], Loss: 0.5923\n"
          ]
        },
        {
          "output_type": "stream",
          "name": "stderr",
          "text": [
            "Epoch 10/20: 100%|██████████| 18/18 [00:00<00:00, 501.43it/s]\n"
          ]
        },
        {
          "output_type": "stream",
          "name": "stdout",
          "text": [
            "Epoch [10/20], Loss: 0.5886\n"
          ]
        },
        {
          "output_type": "stream",
          "name": "stderr",
          "text": [
            "Epoch 11/20: 100%|██████████| 18/18 [00:00<00:00, 491.57it/s]\n"
          ]
        },
        {
          "output_type": "stream",
          "name": "stdout",
          "text": [
            "Epoch [11/20], Loss: 0.5878\n"
          ]
        },
        {
          "output_type": "stream",
          "name": "stderr",
          "text": [
            "Epoch 12/20: 100%|██████████| 18/18 [00:00<00:00, 548.82it/s]\n"
          ]
        },
        {
          "output_type": "stream",
          "name": "stdout",
          "text": [
            "Epoch [12/20], Loss: 0.5837\n"
          ]
        },
        {
          "output_type": "stream",
          "name": "stderr",
          "text": [
            "Epoch 13/20: 100%|██████████| 18/18 [00:00<00:00, 553.27it/s]\n"
          ]
        },
        {
          "output_type": "stream",
          "name": "stdout",
          "text": [
            "Epoch [13/20], Loss: 0.5872\n"
          ]
        },
        {
          "output_type": "stream",
          "name": "stderr",
          "text": [
            "Epoch 14/20: 100%|██████████| 18/18 [00:00<00:00, 455.46it/s]\n"
          ]
        },
        {
          "output_type": "stream",
          "name": "stdout",
          "text": [
            "Epoch [14/20], Loss: 0.5866\n"
          ]
        },
        {
          "output_type": "stream",
          "name": "stderr",
          "text": [
            "Epoch 15/20: 100%|██████████| 18/18 [00:00<00:00, 494.83it/s]\n"
          ]
        },
        {
          "output_type": "stream",
          "name": "stdout",
          "text": [
            "Epoch [15/20], Loss: 0.5817\n"
          ]
        },
        {
          "output_type": "stream",
          "name": "stderr",
          "text": [
            "Epoch 16/20: 100%|██████████| 18/18 [00:00<00:00, 437.59it/s]\n"
          ]
        },
        {
          "output_type": "stream",
          "name": "stdout",
          "text": [
            "Epoch [16/20], Loss: 0.5840\n"
          ]
        },
        {
          "output_type": "stream",
          "name": "stderr",
          "text": [
            "Epoch 17/20: 100%|██████████| 18/18 [00:00<00:00, 520.78it/s]\n"
          ]
        },
        {
          "output_type": "stream",
          "name": "stdout",
          "text": [
            "Epoch [17/20], Loss: 0.6023\n"
          ]
        },
        {
          "output_type": "stream",
          "name": "stderr",
          "text": [
            "Epoch 18/20: 100%|██████████| 18/18 [00:00<00:00, 496.26it/s]\n"
          ]
        },
        {
          "output_type": "stream",
          "name": "stdout",
          "text": [
            "Epoch [18/20], Loss: 0.5836\n"
          ]
        },
        {
          "output_type": "stream",
          "name": "stderr",
          "text": [
            "Epoch 19/20: 100%|██████████| 18/18 [00:00<00:00, 451.89it/s]\n"
          ]
        },
        {
          "output_type": "stream",
          "name": "stdout",
          "text": [
            "Epoch [19/20], Loss: 0.5938\n"
          ]
        },
        {
          "output_type": "stream",
          "name": "stderr",
          "text": [
            "Epoch 20/20: 100%|██████████| 18/18 [00:00<00:00, 407.30it/s]\n"
          ]
        },
        {
          "output_type": "stream",
          "name": "stdout",
          "text": [
            "Epoch [20/20], Loss: 0.5879\n",
            "Validation Loss: 0.6777, Accuracy: 62.24%\n"
          ]
        },
        {
          "output_type": "execute_result",
          "data": {
            "text/plain": [
              "(0.677659022808075, 62.23776223776224)"
            ]
          },
          "metadata": {},
          "execution_count": 73
        }
      ],
      "source": [
        "from torch.nn import CrossEntropyLoss\n",
        "\n",
        "# Modify the model to output raw logits\n",
        "class SimpleMLP(nn.Module):\n",
        "    def __init__(self, input_dim, hidden_dim, output_dim, num_hidden_layers=1):\n",
        "        super(SimpleMLP, self).__init__()\n",
        "        layers = []\n",
        "        # Input layer\n",
        "        layers.append(nn.Linear(input_dim, hidden_dim))\n",
        "        layers.append(nn.ReLU())\n",
        "        # Hidden layers\n",
        "        for _ in range(num_hidden_layers - 1):\n",
        "            layers.append(nn.Linear(hidden_dim, hidden_dim))\n",
        "            layers.append(nn.ReLU())\n",
        "        # Output layer without activation\n",
        "        layers.append(nn.Linear(hidden_dim, output_dim))\n",
        "        self.model = nn.Sequential(*layers)\n",
        "\n",
        "    def forward(self, x):\n",
        "        return self.model(x)\n",
        "\n",
        "# Reinitialize the model\n",
        "model = SimpleMLP(input_dim, hidden_dim, 2, num_hidden_layers)\n",
        "\n",
        "# Define the criterion and optimizer\n",
        "criterion = nn.CrossEntropyLoss()\n",
        "optimizer = torch.optim.Adam(model.parameters(), lr=0.001)\n",
        "\n",
        "# Create trainer instance\n",
        "trainer = SimpleMLPTrainer(model, criterion, optimizer)\n",
        "\n",
        "# Train the model\n",
        "trainer.train(train_loader, num_epochs)\n",
        "\n",
        "# Evaluate the model\n",
        "trainer.evaluate(val_loader)\n",
        "\n"
      ]
    },
    {
      "cell_type": "markdown",
      "metadata": {
        "id": "Kzuk7ZYWfRi4"
      },
      "source": [
        "\n",
        "### 5. KLDivLoss (`torch.nn.KLDivLoss`)\n",
        "- **Description:** Kullback-Leibler Divergence Loss measures how one probability distribution diverges from a second, reference distribution. Unlike other loss functions that focus on classification, KL divergence specifically compares the relative entropy between two distributions. It quantifies the information loss when using the predicted distribution to approximate the true distribution.\n",
        "\n",
        "- **Mathematical Function:**\n",
        "\\begin{equation}\n",
        "  \\text{KL}(P \\parallel Q) = \\sum_{i=1}^{C} P(i) \\left( \\log P(i) - \\log Q(i) \\right)\n",
        "\\end{equation}\n",
        "  where:\n",
        "  - \\( P \\) is the target (true) probability distribution,\n",
        "  - \\( Q \\) is the predicted distribution (often the output of `log_softmax`),\n",
        "  - \\( C \\) is the number of classes.\n",
        "\n",
        "  KL divergence is always non-negative, and it equals zero if the two distributions are identical. The loss function expects the model's output to be in the form of log-probabilities (using `log_softmax`) and compares this against a target probability distribution, which is typically a normalized distribution (using softmax).\n",
        "\n",
        "- **Use Case:** KLDivLoss is frequently used in:\n",
        "  - **Variational Autoencoders (VAEs):** In VAEs, KL divergence is used to measure how much the learned latent space distribution deviates from a prior distribution (often Gaussian).\n",
        "  - **Knowledge Distillation:** In teacher-student models, KL divergence is used to transfer the \"soft\" knowledge from a teacher model to a student model by comparing their output probability distributions.\n",
        "  - **Reinforcement Learning:** It can be used to update policies while minimizing the divergence from a previous policy.\n",
        "\n",
        "- **Background:** Kullback-Leibler divergence, a core concept in information theory, measures the inefficiency of assuming the predicted distribution \\( Q \\) when the true distribution is \\( P \\). It is asymmetric, meaning that \\( KL(P \\parallel Q) \\neq KL(Q \\parallel P) \\), so the direction of the comparison matters.\n",
        "\n",
        "Again, in this part, run your training with Relu at last layer. <span style=\"color:red; font-weight: bold;\">Discuss </span> and explain the difference between the results of the two models. Find a proper solution to the problem.\n"
      ]
    },
    {
      "cell_type": "code",
      "execution_count": 75,
      "metadata": {
        "id": "fI9VmCMGfRi4",
        "colab": {
          "base_uri": "https://localhost:8080/"
        },
        "outputId": "00549452-18fa-45b6-e5ae-a2f1bda9654d"
      },
      "outputs": [
        {
          "output_type": "stream",
          "name": "stderr",
          "text": [
            "Epoch 1/20: 100%|██████████| 18/18 [00:00<00:00, 542.48it/s]\n"
          ]
        },
        {
          "output_type": "stream",
          "name": "stdout",
          "text": [
            "Epoch [1/20], Loss: -0.7262\n"
          ]
        },
        {
          "output_type": "stream",
          "name": "stderr",
          "text": [
            "Epoch 2/20: 100%|██████████| 18/18 [00:00<00:00, 536.13it/s]\n"
          ]
        },
        {
          "output_type": "stream",
          "name": "stdout",
          "text": [
            "Epoch [2/20], Loss: -2.2893\n"
          ]
        },
        {
          "output_type": "stream",
          "name": "stderr",
          "text": [
            "Epoch 3/20: 100%|██████████| 18/18 [00:00<00:00, 516.88it/s]\n"
          ]
        },
        {
          "output_type": "stream",
          "name": "stdout",
          "text": [
            "Epoch [3/20], Loss: -4.5896\n"
          ]
        },
        {
          "output_type": "stream",
          "name": "stderr",
          "text": [
            "Epoch 4/20: 100%|██████████| 18/18 [00:00<00:00, 536.01it/s]\n"
          ]
        },
        {
          "output_type": "stream",
          "name": "stdout",
          "text": [
            "Epoch [4/20], Loss: -8.0171\n"
          ]
        },
        {
          "output_type": "stream",
          "name": "stderr",
          "text": [
            "Epoch 5/20: 100%|██████████| 18/18 [00:00<00:00, 551.99it/s]\n"
          ]
        },
        {
          "output_type": "stream",
          "name": "stdout",
          "text": [
            "Epoch [5/20], Loss: -14.1495\n"
          ]
        },
        {
          "output_type": "stream",
          "name": "stderr",
          "text": [
            "Epoch 6/20: 100%|██████████| 18/18 [00:00<00:00, 490.83it/s]\n"
          ]
        },
        {
          "output_type": "stream",
          "name": "stdout",
          "text": [
            "Epoch [6/20], Loss: -23.5059\n"
          ]
        },
        {
          "output_type": "stream",
          "name": "stderr",
          "text": [
            "Epoch 7/20: 100%|██████████| 18/18 [00:00<00:00, 480.05it/s]\n"
          ]
        },
        {
          "output_type": "stream",
          "name": "stdout",
          "text": [
            "Epoch [7/20], Loss: -37.4686\n"
          ]
        },
        {
          "output_type": "stream",
          "name": "stderr",
          "text": [
            "Epoch 8/20: 100%|██████████| 18/18 [00:00<00:00, 478.01it/s]\n"
          ]
        },
        {
          "output_type": "stream",
          "name": "stdout",
          "text": [
            "Epoch [8/20], Loss: -56.5854\n"
          ]
        },
        {
          "output_type": "stream",
          "name": "stderr",
          "text": [
            "Epoch 9/20: 100%|██████████| 18/18 [00:00<00:00, 421.07it/s]\n"
          ]
        },
        {
          "output_type": "stream",
          "name": "stdout",
          "text": [
            "Epoch [9/20], Loss: -89.5649\n"
          ]
        },
        {
          "output_type": "stream",
          "name": "stderr",
          "text": [
            "Epoch 10/20: 100%|██████████| 18/18 [00:00<00:00, 493.40it/s]\n"
          ]
        },
        {
          "output_type": "stream",
          "name": "stdout",
          "text": [
            "Epoch [10/20], Loss: -140.3739\n"
          ]
        },
        {
          "output_type": "stream",
          "name": "stderr",
          "text": [
            "Epoch 11/20: 100%|██████████| 18/18 [00:00<00:00, 459.24it/s]\n"
          ]
        },
        {
          "output_type": "stream",
          "name": "stdout",
          "text": [
            "Epoch [11/20], Loss: -209.9956\n"
          ]
        },
        {
          "output_type": "stream",
          "name": "stderr",
          "text": [
            "Epoch 12/20: 100%|██████████| 18/18 [00:00<00:00, 490.14it/s]\n"
          ]
        },
        {
          "output_type": "stream",
          "name": "stdout",
          "text": [
            "Epoch [12/20], Loss: -299.4946\n"
          ]
        },
        {
          "output_type": "stream",
          "name": "stderr",
          "text": [
            "Epoch 13/20: 100%|██████████| 18/18 [00:00<00:00, 395.17it/s]\n"
          ]
        },
        {
          "output_type": "stream",
          "name": "stdout",
          "text": [
            "Epoch [13/20], Loss: -415.4422\n"
          ]
        },
        {
          "output_type": "stream",
          "name": "stderr",
          "text": [
            "Epoch 14/20: 100%|██████████| 18/18 [00:00<00:00, 463.19it/s]\n"
          ]
        },
        {
          "output_type": "stream",
          "name": "stdout",
          "text": [
            "Epoch [14/20], Loss: -562.4066\n"
          ]
        },
        {
          "output_type": "stream",
          "name": "stderr",
          "text": [
            "Epoch 15/20: 100%|██████████| 18/18 [00:00<00:00, 507.22it/s]\n"
          ]
        },
        {
          "output_type": "stream",
          "name": "stdout",
          "text": [
            "Epoch [15/20], Loss: -740.0564\n"
          ]
        },
        {
          "output_type": "stream",
          "name": "stderr",
          "text": [
            "Epoch 16/20: 100%|██████████| 18/18 [00:00<00:00, 462.60it/s]\n"
          ]
        },
        {
          "output_type": "stream",
          "name": "stdout",
          "text": [
            "Epoch [16/20], Loss: -959.0925\n"
          ]
        },
        {
          "output_type": "stream",
          "name": "stderr",
          "text": [
            "Epoch 17/20: 100%|██████████| 18/18 [00:00<00:00, 550.83it/s]\n"
          ]
        },
        {
          "output_type": "stream",
          "name": "stdout",
          "text": [
            "Epoch [17/20], Loss: -1220.6294\n"
          ]
        },
        {
          "output_type": "stream",
          "name": "stderr",
          "text": [
            "Epoch 18/20: 100%|██████████| 18/18 [00:00<00:00, 471.42it/s]\n"
          ]
        },
        {
          "output_type": "stream",
          "name": "stdout",
          "text": [
            "Epoch [18/20], Loss: -1520.2678\n"
          ]
        },
        {
          "output_type": "stream",
          "name": "stderr",
          "text": [
            "Epoch 19/20: 100%|██████████| 18/18 [00:00<00:00, 397.35it/s]\n"
          ]
        },
        {
          "output_type": "stream",
          "name": "stdout",
          "text": [
            "Epoch [19/20], Loss: -1877.7461\n"
          ]
        },
        {
          "output_type": "stream",
          "name": "stderr",
          "text": [
            "Epoch 20/20: 100%|██████████| 18/18 [00:00<00:00, 395.96it/s]\n"
          ]
        },
        {
          "output_type": "stream",
          "name": "stdout",
          "text": [
            "Epoch [20/20], Loss: -2269.9305\n",
            "Validation Loss: -2315.3808, Accuracy: 39.16%\n"
          ]
        },
        {
          "output_type": "execute_result",
          "data": {
            "text/plain": [
              "(-2315.3808349609376, 39.16083916083916)"
            ]
          },
          "metadata": {},
          "execution_count": 75
        }
      ],
      "source": [
        "# Run with relu activation function\n",
        "from torch.nn import NLLLoss\n",
        "\n",
        "# Modify the model to output log probabilities\n",
        "class SimpleMLP(nn.Module):\n",
        "    def __init__(self, input_dim, hidden_dim, output_dim, num_hidden_layers=1):\n",
        "        super(SimpleMLP, self).__init__()\n",
        "        layers = []\n",
        "        # Input layer\n",
        "        layers.append(nn.Linear(input_dim, hidden_dim))\n",
        "        layers.append(nn.ReLU())\n",
        "        # Hidden layers\n",
        "        for _ in range(num_hidden_layers - 1):\n",
        "            layers.append(nn.Linear(hidden_dim, hidden_dim))\n",
        "            layers.append(nn.ReLU())\n",
        "        # Output layer\n",
        "        layers.append(nn.Linear(hidden_dim, output_dim))\n",
        "        layers.append(nn.ReLU())  # Using ReLU activation\n",
        "        self.model = nn.Sequential(*layers)\n",
        "\n",
        "    def forward(self, x):\n",
        "        return self.model(x)\n",
        "\n",
        "# Define the prepare_targets function\n",
        "def prepare_targets(targets, num_classes):\n",
        "    # Ensure targets are LongTensors for indexing\n",
        "    targets = targets.long()\n",
        "    # Create a zero tensor of floats\n",
        "    targets_one_hot = torch.zeros(targets.size(0), num_classes, device=targets.device, dtype=torch.float)\n",
        "    # Use scatter_ to create one-hot encoding\n",
        "    targets_one_hot.scatter_(1, targets.unsqueeze(1), 1.0)\n",
        "    # No need to apply softmax to targets\n",
        "    return targets_one_hot\n",
        "\n",
        "    # Define the model\n",
        "input_dim = X_train.shape[1]\n",
        "hidden_dim = 16\n",
        "output_dim = 2  # Number of classes\n",
        "num_hidden_layers = 2\n",
        "model = SimpleMLP(input_dim, hidden_dim, output_dim, num_hidden_layers)\n",
        "\n",
        "# Define the criterion and optimizer\n",
        "criterion = nn.KLDivLoss(reduction='batchmean')\n",
        "optimizer = torch.optim.Adam(model.parameters(), lr=0.001)\n",
        "\n",
        "# Update the trainer class\n",
        "class SimpleMLPTrainer:\n",
        "    def __init__(self, model, criterion, optimizer):\n",
        "        self.model = model\n",
        "        self.criterion = criterion\n",
        "        self.optimizer = optimizer\n",
        "\n",
        "    def train(self, train_loader, num_epochs):\n",
        "        self.model.train()\n",
        "        train_losses = []\n",
        "        for epoch in range(num_epochs):\n",
        "            epoch_loss = 0\n",
        "            for inputs, targets in tqdm(train_loader, desc=f'Epoch {epoch+1}/{num_epochs}'):\n",
        "                outputs = self.model(inputs)\n",
        "                # Prepare targets as one-hot encoded probabilities\n",
        "                targets_prob = prepare_targets(targets, outputs.size(1))\n",
        "                loss = self.criterion(outputs, targets_prob)\n",
        "                self.optimizer.zero_grad()\n",
        "                loss.backward()\n",
        "                self.optimizer.step()\n",
        "                epoch_loss += loss.item()\n",
        "            avg_loss = epoch_loss / len(train_loader)\n",
        "            train_losses.append(avg_loss)\n",
        "            print(f'Epoch [{epoch+1}/{num_epochs}], Loss: {avg_loss:.4f}')\n",
        "        return train_losses\n",
        "\n",
        "    def evaluate(self, val_loader):\n",
        "        self.model.eval()\n",
        "        total_loss = 0\n",
        "        correct = 0\n",
        "        total_samples = 0\n",
        "        with torch.no_grad():\n",
        "            for inputs, targets in val_loader:\n",
        "                outputs = self.model(inputs)\n",
        "                # Prepare targets as one-hot encoded probabilities\n",
        "                targets_prob = prepare_targets(targets, outputs.size(1))\n",
        "                loss = self.criterion(outputs, targets_prob)\n",
        "                total_loss += loss.item()\n",
        "                _, predicted = torch.max(outputs.data, 1)\n",
        "                correct += (predicted == targets).sum().item()\n",
        "                total_samples += targets.size(0)\n",
        "        avg_loss = total_loss / len(val_loader)\n",
        "        accuracy = 100 * correct / total_samples\n",
        "        print(f'Validation Loss: {avg_loss:.4f}, Accuracy: {accuracy:.2f}%')\n",
        "        return avg_loss, accuracy\n",
        "\n",
        "# Create trainer instance\n",
        "trainer = SimpleMLPTrainer(model, criterion, optimizer)\n",
        "\n",
        "# Train the model\n",
        "num_epochs = 20\n",
        "trainer.train(train_loader, num_epochs)\n",
        "\n",
        "# Evaluate the model\n",
        "trainer.evaluate(val_loader)"
      ]
    },
    {
      "cell_type": "markdown",
      "source": [
        "# Issue: Using ReLU activation at the last layer outputs non-negative values but does not produce a valid probability distribution required for KLDivLoss.\n",
        "\n",
        "# Solution: Use LogSoftmax for the model output and Softmax for the target distribution to compute KL divergence properly."
      ],
      "metadata": {
        "id": "VW6bEkVkVAAx"
      }
    },
    {
      "cell_type": "code",
      "execution_count": 76,
      "metadata": {
        "id": "LcCEjzIbfRi4",
        "colab": {
          "base_uri": "https://localhost:8080/"
        },
        "outputId": "7fabc99f-6881-4ea1-c3da-7667818afcfa"
      },
      "outputs": [
        {
          "output_type": "stream",
          "name": "stderr",
          "text": [
            "Epoch 1/20: 100%|██████████| 18/18 [00:00<00:00, 482.68it/s]\n"
          ]
        },
        {
          "output_type": "stream",
          "name": "stdout",
          "text": [
            "Epoch [1/20], Loss: 1.6738\n"
          ]
        },
        {
          "output_type": "stream",
          "name": "stderr",
          "text": [
            "Epoch 2/20: 100%|██████████| 18/18 [00:00<00:00, 531.76it/s]\n"
          ]
        },
        {
          "output_type": "stream",
          "name": "stdout",
          "text": [
            "Epoch [2/20], Loss: 0.7565\n"
          ]
        },
        {
          "output_type": "stream",
          "name": "stderr",
          "text": [
            "Epoch 3/20: 100%|██████████| 18/18 [00:00<00:00, 470.93it/s]\n"
          ]
        },
        {
          "output_type": "stream",
          "name": "stdout",
          "text": [
            "Epoch [3/20], Loss: 0.6342\n"
          ]
        },
        {
          "output_type": "stream",
          "name": "stderr",
          "text": [
            "Epoch 4/20: 100%|██████████| 18/18 [00:00<00:00, 505.17it/s]\n"
          ]
        },
        {
          "output_type": "stream",
          "name": "stdout",
          "text": [
            "Epoch [4/20], Loss: 0.6209\n"
          ]
        },
        {
          "output_type": "stream",
          "name": "stderr",
          "text": [
            "Epoch 5/20: 100%|██████████| 18/18 [00:00<00:00, 521.55it/s]\n"
          ]
        },
        {
          "output_type": "stream",
          "name": "stdout",
          "text": [
            "Epoch [5/20], Loss: 0.6147\n"
          ]
        },
        {
          "output_type": "stream",
          "name": "stderr",
          "text": [
            "Epoch 6/20: 100%|██████████| 18/18 [00:00<00:00, 531.67it/s]\n"
          ]
        },
        {
          "output_type": "stream",
          "name": "stdout",
          "text": [
            "Epoch [6/20], Loss: 0.6170\n"
          ]
        },
        {
          "output_type": "stream",
          "name": "stderr",
          "text": [
            "Epoch 7/20: 100%|██████████| 18/18 [00:00<00:00, 487.61it/s]\n"
          ]
        },
        {
          "output_type": "stream",
          "name": "stdout",
          "text": [
            "Epoch [7/20], Loss: 0.6120\n"
          ]
        },
        {
          "output_type": "stream",
          "name": "stderr",
          "text": [
            "Epoch 8/20: 100%|██████████| 18/18 [00:00<00:00, 481.11it/s]\n"
          ]
        },
        {
          "output_type": "stream",
          "name": "stdout",
          "text": [
            "Epoch [8/20], Loss: 0.6089\n"
          ]
        },
        {
          "output_type": "stream",
          "name": "stderr",
          "text": [
            "Epoch 9/20: 100%|██████████| 18/18 [00:00<00:00, 518.03it/s]\n"
          ]
        },
        {
          "output_type": "stream",
          "name": "stdout",
          "text": [
            "Epoch [9/20], Loss: 0.6031\n"
          ]
        },
        {
          "output_type": "stream",
          "name": "stderr",
          "text": [
            "Epoch 10/20: 100%|██████████| 18/18 [00:00<00:00, 498.13it/s]\n"
          ]
        },
        {
          "output_type": "stream",
          "name": "stdout",
          "text": [
            "Epoch [10/20], Loss: 0.6035\n"
          ]
        },
        {
          "output_type": "stream",
          "name": "stderr",
          "text": [
            "Epoch 11/20: 100%|██████████| 18/18 [00:00<00:00, 488.33it/s]\n"
          ]
        },
        {
          "output_type": "stream",
          "name": "stdout",
          "text": [
            "Epoch [11/20], Loss: 0.6047\n"
          ]
        },
        {
          "output_type": "stream",
          "name": "stderr",
          "text": [
            "Epoch 12/20: 100%|██████████| 18/18 [00:00<00:00, 425.60it/s]\n"
          ]
        },
        {
          "output_type": "stream",
          "name": "stdout",
          "text": [
            "Epoch [12/20], Loss: 0.5991\n"
          ]
        },
        {
          "output_type": "stream",
          "name": "stderr",
          "text": [
            "Epoch 13/20: 100%|██████████| 18/18 [00:00<00:00, 472.85it/s]\n"
          ]
        },
        {
          "output_type": "stream",
          "name": "stdout",
          "text": [
            "Epoch [13/20], Loss: 0.5995\n"
          ]
        },
        {
          "output_type": "stream",
          "name": "stderr",
          "text": [
            "Epoch 14/20: 100%|██████████| 18/18 [00:00<00:00, 361.90it/s]\n"
          ]
        },
        {
          "output_type": "stream",
          "name": "stdout",
          "text": [
            "Epoch [14/20], Loss: 0.6003\n"
          ]
        },
        {
          "output_type": "stream",
          "name": "stderr",
          "text": [
            "Epoch 15/20: 100%|██████████| 18/18 [00:00<00:00, 544.59it/s]\n"
          ]
        },
        {
          "output_type": "stream",
          "name": "stdout",
          "text": [
            "Epoch [15/20], Loss: 0.5933\n"
          ]
        },
        {
          "output_type": "stream",
          "name": "stderr",
          "text": [
            "Epoch 16/20: 100%|██████████| 18/18 [00:00<00:00, 458.08it/s]\n"
          ]
        },
        {
          "output_type": "stream",
          "name": "stdout",
          "text": [
            "Epoch [16/20], Loss: 0.5967\n"
          ]
        },
        {
          "output_type": "stream",
          "name": "stderr",
          "text": [
            "Epoch 17/20: 100%|██████████| 18/18 [00:00<00:00, 409.35it/s]\n"
          ]
        },
        {
          "output_type": "stream",
          "name": "stdout",
          "text": [
            "Epoch [17/20], Loss: 0.5976\n"
          ]
        },
        {
          "output_type": "stream",
          "name": "stderr",
          "text": [
            "Epoch 18/20: 100%|██████████| 18/18 [00:00<00:00, 355.78it/s]\n"
          ]
        },
        {
          "output_type": "stream",
          "name": "stdout",
          "text": [
            "Epoch [18/20], Loss: 0.5884\n"
          ]
        },
        {
          "output_type": "stream",
          "name": "stderr",
          "text": [
            "Epoch 19/20: 100%|██████████| 18/18 [00:00<00:00, 362.64it/s]\n"
          ]
        },
        {
          "output_type": "stream",
          "name": "stdout",
          "text": [
            "Epoch [19/20], Loss: 0.5966\n"
          ]
        },
        {
          "output_type": "stream",
          "name": "stderr",
          "text": [
            "Epoch 20/20: 100%|██████████| 18/18 [00:00<00:00, 381.67it/s]"
          ]
        },
        {
          "output_type": "stream",
          "name": "stdout",
          "text": [
            "Epoch [20/20], Loss: 0.5920\n",
            "Validation Loss: 0.6278, Accuracy: 65.03%\n"
          ]
        },
        {
          "output_type": "stream",
          "name": "stderr",
          "text": [
            "\n"
          ]
        },
        {
          "output_type": "execute_result",
          "data": {
            "text/plain": [
              "(0.6278239727020264, 65.03496503496504)"
            ]
          },
          "metadata": {},
          "execution_count": 76
        }
      ],
      "source": [
        "# Run with --- activation function\n",
        "from torch.nn import NLLLoss\n",
        "\n",
        "# Modify the model to use LogSoftmax\n",
        "class SimpleMLP(nn.Module):\n",
        "    def __init__(self, input_dim, hidden_dim, output_dim, num_hidden_layers=1):\n",
        "        super(SimpleMLP, self).__init__()\n",
        "        layers = []\n",
        "        # Input layer\n",
        "        layers.append(nn.Linear(input_dim, hidden_dim))\n",
        "        layers.append(nn.ReLU())\n",
        "        # Hidden layers\n",
        "        for _ in range(num_hidden_layers - 1):\n",
        "            layers.append(nn.Linear(hidden_dim, hidden_dim))\n",
        "            layers.append(nn.ReLU())\n",
        "        # Output layer without activation\n",
        "        layers.append(nn.Linear(hidden_dim, output_dim))\n",
        "        self.hidden_layers = nn.Sequential(*layers)\n",
        "        self.output_activation = nn.LogSoftmax(dim=1)\n",
        "\n",
        "    def forward(self, x):\n",
        "        x = self.hidden_layers(x)\n",
        "        x = self.output_activation(x)\n",
        "        return x\n",
        "\n",
        "# Define the prepare_targets function\n",
        "def prepare_targets(targets, num_classes):\n",
        "    # Ensure targets are LongTensors for indexing\n",
        "    targets = targets.long()\n",
        "    # Create a zero tensor of floats\n",
        "    targets_one_hot = torch.zeros(targets.size(0), num_classes, device=targets.device, dtype=torch.float)\n",
        "    # Use scatter_ to create one-hot encoding\n",
        "    targets_one_hot.scatter_(1, targets.unsqueeze(1), 1.0)\n",
        "    # No need to apply softmax to targets\n",
        "    return targets_one_hot\n",
        "\n",
        "    # Define the model\n",
        "input_dim = X_train.shape[1]\n",
        "hidden_dim = 16\n",
        "output_dim = 2  # Number of classes\n",
        "num_hidden_layers = 2\n",
        "model = SimpleMLP(input_dim, hidden_dim, output_dim, num_hidden_layers)\n",
        "\n",
        "# Define the criterion and optimizer\n",
        "criterion = nn.KLDivLoss(reduction='batchmean')\n",
        "optimizer = torch.optim.Adam(model.parameters(), lr=0.001)\n",
        "\n",
        "# Update the trainer class\n",
        "class SimpleMLPTrainer:\n",
        "    def __init__(self, model, criterion, optimizer):\n",
        "        self.model = model\n",
        "        self.criterion = criterion\n",
        "        self.optimizer = optimizer\n",
        "\n",
        "    def train(self, train_loader, num_epochs):\n",
        "        self.model.train()\n",
        "        train_losses = []\n",
        "        for epoch in range(num_epochs):\n",
        "            epoch_loss = 0\n",
        "            for inputs, targets in tqdm(train_loader, desc=f'Epoch {epoch+1}/{num_epochs}'):\n",
        "                outputs = self.model(inputs)\n",
        "                # Prepare targets as one-hot encoded probabilities\n",
        "                targets_prob = prepare_targets(targets, outputs.size(1))\n",
        "                loss = self.criterion(outputs, targets_prob)\n",
        "                self.optimizer.zero_grad()\n",
        "                loss.backward()\n",
        "                self.optimizer.step()\n",
        "                epoch_loss += loss.item()\n",
        "            avg_loss = epoch_loss / len(train_loader)\n",
        "            train_losses.append(avg_loss)\n",
        "            print(f'Epoch [{epoch+1}/{num_epochs}], Loss: {avg_loss:.4f}')\n",
        "        return train_losses\n",
        "\n",
        "    def evaluate(self, val_loader):\n",
        "        self.model.eval()\n",
        "        total_loss = 0\n",
        "        correct = 0\n",
        "        total_samples = 0\n",
        "        with torch.no_grad():\n",
        "            for inputs, targets in val_loader:\n",
        "                outputs = self.model(inputs)\n",
        "                # Prepare targets as one-hot encoded probabilities\n",
        "                targets_prob = prepare_targets(targets, outputs.size(1))\n",
        "                loss = self.criterion(outputs, targets_prob)\n",
        "                total_loss += loss.item()\n",
        "                _, predicted = torch.max(outputs.data, 1)\n",
        "                correct += (predicted == targets).sum().item()\n",
        "                total_samples += targets.size(0)\n",
        "        avg_loss = total_loss / len(val_loader)\n",
        "        accuracy = 100 * correct / total_samples\n",
        "        print(f'Validation Loss: {avg_loss:.4f}, Accuracy: {accuracy:.2f}%')\n",
        "        return avg_loss, accuracy\n",
        "\n",
        "# Create trainer instance\n",
        "trainer = SimpleMLPTrainer(model, criterion, optimizer)\n",
        "\n",
        "# Train the model\n",
        "num_epochs = 20\n",
        "trainer.train(train_loader, num_epochs)\n",
        "\n",
        "# Evaluate the model\n",
        "trainer.evaluate(val_loader)"
      ]
    },
    {
      "cell_type": "markdown",
      "metadata": {
        "id": "ajwlqrnyfRi4"
      },
      "source": [
        "Your reason for your choice:\n",
        "\n",
        "<div>\n",
        "**By using LogSoftmax at the output layer and preparing the targets as probability distributions using Softmax, we ensure that both the model outputs and targets are valid probability distributions required for KL divergence computation.**\n",
        "</div>"
      ]
    },
    {
      "cell_type": "markdown",
      "metadata": {
        "id": "3k1GxHNHfRi4"
      },
      "source": [
        "### 6. CosineEmbeddingLoss (`torch.nn.CosineEmbeddingLoss`)\n",
        "- **Description:** Measures the cosine similarity between two input tensors, `x1` and `x2`, and computes the loss based on a label `y` that indicates whether the tensors should be similar (`y = 1`) or dissimilar (`y = -1`). Cosine similarity focuses on the angle between vectors, disregarding their magnitude.\n",
        "\n",
        "- **Mathematical Function:**\n",
        "\\begin{equation}\n",
        "  \\text{CosineEmbeddingLoss}(x1, x2, y) =\n",
        "  \\begin{cases}\n",
        "  1 - \\cos(x_1, x_2), & \\text{if } y = 1 \\\\\n",
        "  \\max(0, \\cos(x_1, x_2) - \\text{margin}), & \\text{if } y = -1\n",
        "  \\end{cases}\n",
        "\\end{equation}\n",
        "  where $ \\cos(x_1, x_2) $ is the cosine similarity between the two vectors, and `margin` is a threshold that determines how dissimilar the vectors should be.\n",
        "\n",
        "- **Use Case:** Commonly used in tasks like face verification, image similarity, and other scenarios where the relative orientation of vectors (angle) is more important than their length, such as in embeddings and metric learning.\n",
        "\n",
        "- **Background:** Cosine similarity compares the directional alignment of vectors, making it ideal for high-dimensional data where the magnitude may not be as informative. This loss is particularly useful when training models to learn meaningful embeddings that capture semantic similarity.\n",
        "\n",
        "You'll become more fimiliar with this loss function in future.\n",
        "\n",
        "---"
      ]
    },
    {
      "cell_type": "markdown",
      "metadata": {
        "id": "lYic5nzwfRi4"
      },
      "source": [
        "# Regularization in Machine Learning\n",
        "\n",
        "## Introduction\n",
        "\n",
        "Regularization is a fundamental technique in machine learning that helps prevent overfitting by adding a penalty to the loss function. This penalty discourages the model from becoming too complex, ensuring better generalization to unseen data. In this notebook, you will explore the concepts of regularization, understand different types of regularization techniques, and apply them using Python's popular libraries.\n",
        "\n",
        "## What is Regularization?\n",
        "\n",
        "Regularization involves adding a regularization term to the loss function used to train machine learning models. This term imposes a constraint on the model's coefficients, effectively reducing their magnitude. By doing so, regularization helps in:\n",
        "\n",
        "- **Preventing Overfitting:** Ensures the model does not become too tailored to the training data.\n",
        "- **Improving Generalization:** Enhances the model's performance on new, unseen data.\n",
        "- **Feature Selection:** Especially in L1 regularization, it can drive some coefficients to zero, effectively selecting important features.\n",
        "\n",
        "## Types of Regularization\n",
        "\n",
        "There are several types of regularization techniques, each imposing different constraints on the model's parameters:\n",
        "\n",
        "### 1. L1 Regularization (Lasso)\n",
        "\n",
        "L1 regularization adds the absolute value of the magnitude of coefficients as a penalty term to the loss function. It can lead to sparse models where some feature coefficients are exactly zero.\n",
        "\n",
        "### 2. L2 Regularization (Ridge)\n",
        "\n",
        "L2 regularization adds the squared magnitude of coefficients as a penalty term to the loss function. It tends to shrink the coefficients evenly but does not set them to zero.\n",
        "\n",
        "### 3. Elastic Net\n",
        "\n",
        "Elastic Net combines both L1 and L2 regularization penalties. It balances the benefits of both Lasso and Ridge methods, allowing for feature selection and coefficient shrinkage."
      ]
    },
    {
      "cell_type": "markdown",
      "metadata": {
        "id": "AF1RVw_WfRi5"
      },
      "source": [
        "## Homework Time!\n",
        "Import Iris dataset from sklearn.datasets and apply ridge regression with different alpha values. Then, create a gif that shows the changes of the classification boundary with respect to alpha values."
      ]
    },
    {
      "cell_type": "markdown",
      "metadata": {
        "id": "PQtbHVW-fRi5"
      },
      "source": [
        "Import the libs that you need and start coding!"
      ]
    },
    {
      "cell_type": "code",
      "execution_count": 54,
      "metadata": {
        "id": "GTrMGTnofRi5"
      },
      "outputs": [],
      "source": [
        "import numpy as np\n",
        "import matplotlib.pyplot as plt\n",
        "from sklearn.datasets import load_iris\n",
        "from sklearn.preprocessing import StandardScaler\n",
        "from sklearn.model_selection import train_test_split\n",
        "from PIL import Image\n",
        "from io import BytesIO\n",
        "import imageio\n",
        "import warnings\n",
        "from sklearn.neural_network import MLPClassifier\n",
        "\n",
        "# Suppress warnings for cleaner output\n",
        "warnings.filterwarnings(\"ignore\")"
      ]
    },
    {
      "cell_type": "markdown",
      "metadata": {
        "id": "qr0Imgd3fRi5"
      },
      "source": [
        "Load the Iris dataset and select Setosa and Versicolor classes"
      ]
    },
    {
      "cell_type": "code",
      "execution_count": 49,
      "metadata": {
        "id": "fV4-v7b6fRi5"
      },
      "outputs": [],
      "source": [
        "# 1. Load and Prepare the Iris Dataset\n",
        "data = load_iris()\n",
        "X, y = data.data, data.target\n",
        "# Select only two classes for binary classification (Setosa and Versicolor)\n",
        "X, y = X[y != 2], y[y != 2]\n",
        "# Select two features for 2D visualization (Sepal Length and Petal Length)\n",
        "X = X[:, [0, 2]]\n",
        "# Split into training and testing sets\n",
        "X_train, X_test, y_train, y_test = train_test_split(X, y, test_size=0.3, random_state=42)\n",
        "# Standardize the features\n",
        "scaler = StandardScaler()\n",
        "X_train = scaler.fit_transform(X_train)\n",
        "X_test = scaler.transform(X_test)\n"
      ]
    },
    {
      "cell_type": "markdown",
      "metadata": {
        "id": "UkXLENm_fRi6"
      },
      "source": [
        "Define Function to Plot Decision Boundary"
      ]
    },
    {
      "cell_type": "code",
      "execution_count": 50,
      "metadata": {
        "id": "4JdtT2G-fRi6"
      },
      "outputs": [],
      "source": [
        "def plot_decision_boundary(model, X, y, alpha):\n",
        "    # Define the grid (use meshgrid)\n",
        "    x_min, x_max = X[:, 0].min() - 1, X[:, 0].max() + 1\n",
        "    y_min, y_max = X[:, 1].min() - 1, X[:, 1].max() + 1\n",
        "    xx, yy = np.meshgrid(np.linspace(x_min, x_max, 100), np.linspace(y_min, y_max, 100))\n",
        "\n",
        "    # Predict over the grid\n",
        "    Z = model.predict(np.c_[xx.ravel(), yy.ravel()])\n",
        "    Z = Z.reshape(xx.shape)\n",
        "\n",
        "    # Create a figure\n",
        "    fig, ax = plt.subplots(figsize=(6, 5))\n",
        "\n",
        "    # Plot the decision boundary\n",
        "    ax.contourf(xx, yy, Z, alpha=0.3, levels=[-0.1, 0.1, 1.1], colors=['blue', 'red'])\n",
        "\n",
        "    # Scatter plot of the training data\n",
        "    scatter = ax.scatter(\n",
        "        X[:, 0], X[:, 1], c=y, cmap='bwr', edgecolor='k', s=50\n",
        "    )\n",
        "\n",
        "    # Title and labels\n",
        "    ax.set_title(f'MLP Decision Boundary (alpha={alpha})')\n",
        "    ax.set_xlabel('Sepal Length (standardized)')\n",
        "    ax.set_ylabel('Petal Length (standardized)')\n",
        "\n",
        "    # Remove axes for clarity\n",
        "    ax.set_xticks([])\n",
        "    ax.set_yticks([])\n",
        "\n",
        "    # Tight layout\n",
        "    plt.tight_layout()\n",
        "\n",
        "    # Save the plot to a BytesIO object\n",
        "    buf = BytesIO()\n",
        "    plt.savefig(buf, format='png')\n",
        "    plt.close(fig)\n",
        "    buf.seek(0)\n",
        "    return Image.open(buf)"
      ]
    },
    {
      "cell_type": "markdown",
      "metadata": {
        "id": "nB5npmlufRi6"
      },
      "source": [
        "Train MLP with Varying Alpha Values and Collect Images"
      ]
    },
    {
      "cell_type": "code",
      "execution_count": 52,
      "metadata": {
        "id": "oc7urAflfRi6"
      },
      "outputs": [],
      "source": [
        "def create_decision_boundary_gif(alpha_values, X_train, y_train, n_neurons):\n",
        "\n",
        "    # List to store images\n",
        "    images = []\n",
        "\n",
        "    for idx, alpha in enumerate(alpha_values):\n",
        "        print(f\"Processing alpha={alpha:.4f} ({idx + 1}/{len(alpha_values)})\")\n",
        "\n",
        "        # Create and train the MLP\n",
        "        mlp = MLPClassifier(hidden_layer_sizes=(n_neurons,), alpha=alpha, max_iter=1000, random_state=42)\n",
        "        mlp.fit(X_train, y_train)\n",
        "\n",
        "        # Plot decision boundary and get the image\n",
        "        img = plot_decision_boundary(mlp, X_train, y_train, alpha)\n",
        "        images.append(img)\n",
        "\n",
        "    # Save the images as a GIF\n",
        "    gif_filename = 'mlp_classification_boundaries.gif'\n",
        "    images[0].save(\n",
        "        gif_filename,\n",
        "        save_all=True,\n",
        "        append_images=images[1:],\n",
        "        duration=500,\n",
        "        loop=0\n",
        "    )\n",
        "\n",
        "    print(f\"GIF saved as '{gif_filename}'\")\n",
        "\n",
        "    # return the gif\n",
        "    return gif_filename"
      ]
    },
    {
      "cell_type": "markdown",
      "metadata": {
        "id": "wrdj718MfRi6"
      },
      "source": [
        "## RUN"
      ]
    },
    {
      "cell_type": "code",
      "execution_count": 58,
      "metadata": {
        "id": "d5fAxbkSfRi6",
        "colab": {
          "base_uri": "https://localhost:8080/"
        },
        "outputId": "90160d89-f4ef-47ec-981d-1928c81608bd"
      },
      "outputs": [
        {
          "output_type": "stream",
          "name": "stdout",
          "text": [
            "Processing alpha=0.0010 (1/20)\n",
            "Processing alpha=0.0021 (2/20)\n",
            "Processing alpha=0.0043 (3/20)\n",
            "Processing alpha=0.0089 (4/20)\n",
            "Processing alpha=0.0183 (5/20)\n",
            "Processing alpha=0.0379 (6/20)\n",
            "Processing alpha=0.0785 (7/20)\n",
            "Processing alpha=0.1624 (8/20)\n",
            "Processing alpha=0.3360 (9/20)\n",
            "Processing alpha=0.6952 (10/20)\n",
            "Processing alpha=1.4384 (11/20)\n",
            "Processing alpha=2.9764 (12/20)\n",
            "Processing alpha=6.1585 (13/20)\n",
            "Processing alpha=12.7427 (14/20)\n",
            "Processing alpha=26.3665 (15/20)\n",
            "Processing alpha=54.5559 (16/20)\n",
            "Processing alpha=112.8838 (17/20)\n",
            "Processing alpha=233.5721 (18/20)\n",
            "Processing alpha=483.2930 (19/20)\n",
            "Processing alpha=1000.0000 (20/20)\n",
            "GIF saved as 'mlp_classification_boundaries.gif'\n"
          ]
        }
      ],
      "source": [
        "\n",
        "# Use np.logspace to generate alpha values, with at least 20 values\n",
        "alpha_values = np.logspace(-3, 3, 20)\n",
        "# Define the number of neurons in the hidden layer\n",
        "n_neurons =  10\n",
        "\n",
        "# Create the decision boundary GIF\n",
        "gif_dir = create_decision_boundary_gif(alpha_values, X_train, y_train, n_neurons)"
      ]
    },
    {
      "cell_type": "markdown",
      "metadata": {
        "id": "LYNdGwUWfRi7"
      },
      "source": [
        "Your gif should look like this:"
      ]
    },
    {
      "cell_type": "markdown",
      "metadata": {
        "id": "GBp5HOlvfRi7"
      },
      "source": [
        "<div style=\"text-align: center;\">\n",
        "\n",
        "### **Multilayer Perceptron Classification Boundaries**\n",
        "\n",
        "![Classification Boundaries](mlp_classification_boundaries_example.gif)\n",
        "\n",
        "*Figure 1: Demonstration of classification boundaries created by a Multilayer Perceptron (MLP) model.*\n",
        "\n",
        "</div>\n",
        "\n"
      ]
    }
  ],
  "metadata": {
    "colab": {
      "provenance": []
    },
    "kernelspec": {
      "display_name": "Python 3",
      "name": "python3"
    },
    "language_info": {
      "codemirror_mode": {
        "name": "ipython",
        "version": 3
      },
      "file_extension": ".py",
      "mimetype": "text/x-python",
      "name": "python",
      "nbconvert_exporter": "python",
      "pygments_lexer": "ipython3",
      "version": "3.11.5"
    }
  },
  "nbformat": 4,
  "nbformat_minor": 0
}