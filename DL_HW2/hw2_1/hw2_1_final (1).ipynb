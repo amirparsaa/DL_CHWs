{
  "cells": [
    {
      "cell_type": "code",
      "execution_count": null,
      "metadata": {
        "id": "i7I7O1kv0S21"
      },
      "outputs": [],
      "source": [
        "# Feel free to import any other libraries and modules.\n",
        "import numpy as np\n",
        "import matplotlib.pyplot as plt\n",
        "import torch\n",
        "from torchvision import datasets, transforms\n",
        "import torch.nn.functional as F\n",
        "from torch.utils.data import TensorDataset, DataLoader\n",
        "from torch import nn"
      ]
    },
    {
      "cell_type": "markdown",
      "metadata": {
        "id": "CeXRppkryQBV"
      },
      "source": [
        "# Part One: Optimization Algorithms\n",
        "## 1. Gradient Descent\n",
        "The Gradient Descent (GD) algorithm finds the minimum of a given\n",
        "function by taking small steps along the function's gradient:\n",
        "\n",
        ">$\\Theta \\leftarrow \\Theta_0$\n",
        "\n",
        ">**while** stop condition not met **do**\n",
        "\n",
        ">$~~~~$$\\Theta \\leftarrow \\Theta - \\alpha \\nabla_\\Theta f(\\Theta)$\n",
        "\n",
        ">**end while**\n",
        "\n",
        "where $f$ is the function to minimize, $\\nabla_\\Theta f(\\Theta)$\n",
        "denotes $f$'s gradient at $\\Theta$ and $\\alpha$ is the learning rate.\n",
        "\n",
        "**Task1:** Implement the GD algorithm as a function:\n",
        "\n",
        "  \\begin{equation}\n",
        "      \\Theta_{opt} = \\text{GD}(f, \\Theta_0, \\alpha, \\rho)\n",
        "  \\end{equation}\n",
        "where $f$ is a function returning the cost and its gradient with respect to parameter vector $\\Theta$, $\\Theta_0$ is the initial value, and $\\alpha$\n",
        "is the learning rate. You can assume that $\\alpha$. remains constant during the optimization. $\\rho$ is stop condition. \\\\\n",
        "Then, use the GD algorithm to find the optimum of the [Rosenbrock function](https://en.wikipedia.org/wiki/Rosenbrock_function) (Consider $a=1, b=100$).\n",
        " \\\\\n",
        "Also, plot the values found by GD at subsequent iterations.\n",
        "\n",
        "## 2. Newton's Method\n",
        "Newton's method is an iterative optimization algorithm used to find the minimum of a function.\n",
        "The basic update step in Newton's method is given by:\n",
        "\n",
        "\\begin{equation}\n",
        "\\Theta = \\Theta - H^{-1} \\cdot \\nabla f(\\Theta)\n",
        "\\end{equation}\n",
        "\n",
        "\n",
        "Where  $ H $ is the Hessian matrix of the function at $ \\Theta $, and $ H^{-1} $ is the inverse of the Hessian matrix, used to adjust the step size and direction more accurately than just using the gradient alone (as done in gradient descent).\n",
        "\n",
        "#### Line Search\n",
        "Sometimes, Newton's method may take too large of a step, which can lead to divergence. To prevent this, a simple **line search** is used. This reduces the step size $ \\alpha $ if the function value doesn't improve after the step.\n",
        "\n",
        "Steps:\n",
        "1. Compute the gradient and Hessian matrix at the current point.\n",
        "2. Calculate the step direction by multiplying the inverse of the Hessian with the gradient.\n",
        "3. Update the point by subtracting the step from the current point.\n",
        "4. If the function value doesn't improve, reduce the step size $ \\alpha $.\n",
        "5. Repeat until the gradient becomes sufficiently small (close to zero), indicating convergence.\n",
        "\n",
        "\n",
        "\n",
        "**Task2:** Implement Newton's method and compare it with the gradient descent. You will also need to implement a line search alogithm, e.g. (https://en.wikipedia.org/wiki/Backtracking_line_search) and make sure that the Newton's direction is indeed one along which the function is minimized.\n"
      ]
    },
    {
      "cell_type": "code",
      "execution_count": null,
      "metadata": {
        "id": "DIsMJPFs-kLd"
      },
      "outputs": [],
      "source": [
        "def rosenbrock(x):\n",
        "    \"\"\"Returns the value and gradient of Rosenbrock's function at x: 2d vector\"\"\"\n",
        "    x0, x1 = x[0], x[1]\n",
        "    val = (1 - x0)**2 + 100 * (x1 - x0**2)**2\n",
        "    dv_dx0 = -2 * (1 - x0) - 400 * x0 * (x1 - x0**2)\n",
        "    dv_dx1 = 200 * (x1 - x0**2)\n",
        "    grad = np.array([dv_dx0, dv_dx1])\n",
        "    return val, grad\n",
        "\n",
        "def rosenbrock_hessian(x):\n",
        "    \"\"\"Returns the value, gradient and hessian of Rosenbrock's function at x: 2d vector\"\"\"\n",
        "    x0, x1 = x[0], x[1]\n",
        "    val, grad = rosenbrock(x)\n",
        "    d2v_dx0x0 = 2 - 400 * (x1 - x0**2) + 800 * x0**2\n",
        "    d2v_dx0x1 = -400 * x0\n",
        "    d2v_dx1x0 = -400 * x0\n",
        "    d2v_dx1x1 = 200\n",
        "    hessian = np.array([[d2v_dx0x0, d2v_dx0x1],\n",
        "                        [d2v_dx1x0, d2v_dx1x1]])\n",
        "    return val, grad, hessian\n",
        "\n",
        "\n",
        "def GD(f, theta0, alpha, stop_tolerance=1e-10, max_steps=1000000):\n",
        "    \"\"\"Runs gradient descent algorithm on f.\n",
        "\n",
        "    Args:\n",
        "        f: function that when evaluated on a Theta of same dtype and shape as Theta0\n",
        "            returns a tuple (value, dv_dtheta) with dv_dtheta of the same shape\n",
        "            as Theta\n",
        "        theta0: starting point\n",
        "        alpha: step length\n",
        "        stop_tolerance: stop iterations when improvement is below this threshold\n",
        "        max_steps: maximum number of steps\n",
        "    Returns:\n",
        "        tuple:\n",
        "        - theta: optimum theta found by the algorithm\n",
        "        - history: list of length num_steps containing tuples (theta, (val, dv_dtheta: np.array))\n",
        "\n",
        "    \"\"\"\n",
        "    history = []\n",
        "    theta = np.array(theta0, dtype=float)\n",
        "    step = 0\n",
        "    while step < max_steps:\n",
        "        val, grad = f(theta)\n",
        "        history.append((theta.copy(), (val, grad.copy())))\n",
        "        theta_new = theta - alpha * grad\n",
        "        if np.linalg.norm(theta_new - theta) < stop_tolerance:\n",
        "            break\n",
        "        theta = theta_new\n",
        "        step += 1\n",
        "    history.append((theta.copy(), f(theta)))\n",
        "    return theta, history"
      ]
    },
    {
      "cell_type": "code",
      "execution_count": null,
      "metadata": {
        "colab": {
          "base_uri": "https://localhost:8080/",
          "height": 581
        },
        "id": "yyb5unZNaSFq",
        "outputId": "ed2af448-784e-4d03-ec15-539bf3d38f4b"
      },
      "outputs": [
        {
          "name": "stdout",
          "output_type": "stream",
          "text": [
            "Found optimum at [0.99999989 0.99999978] in 37028 steps (true minimum is at [1,1])\n"
          ]
        },
        {
          "data": {
            "image/png": "[encoded data removed]",
            "text/plain": [
              "<Figure size 1000x600 with 1 Axes>"
            ]
          },
          "metadata": {},
          "output_type": "display_data"
        }
      ],
      "source": [
        "# Find the optimum of rosenbrock function\n",
        "\n",
        "X0 = [0.,2.]\n",
        "Xopt, Xhist = GD(rosenbrock, X0, alpha=1e-3, stop_tolerance=1e-10, max_steps=1e6)\n",
        "\n",
        "print (\"Found optimum at %s in %d steps (true minimum is at [1,1])\" % (Xopt, len(Xhist)))\n",
        "\n",
        "# Plot how the value changes over iterations\n",
        "#TODO\n",
        "# Extract function values from history\n",
        "values = [item[1][0] for item in Xhist]\n",
        "\n",
        "plt.figure(figsize=(10, 6))\n",
        "plt.plot(values)\n",
        "plt.title('Function Value over Iterations (Gradient Descent)')\n",
        "plt.xlabel('Iteration')\n",
        "plt.ylabel('Function Value')\n",
        "plt.yscale('log')  # Log scale for better visibility\n",
        "plt.grid(True)\n",
        "plt.show()\n"
      ]
    },
    {
      "cell_type": "code",
      "execution_count": null,
      "metadata": {
        "colab": {
          "base_uri": "https://localhost:8080/"
        },
        "id": "JQ1Bf6sNMT_B",
        "outputId": "17817019-cb8d-4254-a9bf-08e20d64ccbb"
      },
      "outputs": [
        {
          "name": "stdout",
          "output_type": "stream",
          "text": [
            "Found optimum at [1. 1.] (true minimum is at [1,1])\n"
          ]
        }
      ],
      "source": [
        "# Newton's Method\n",
        "def Newton(f, theta0, alpha=1, stop_tolerance=1e-10, max_steps=1000000):\n",
        "    \"\"\"Performs Newton's optimization method with a simple line search.\n",
        "\n",
        "    Args:\n",
        "        f: function that when evaluated on a Theta of same dtype and shape as Theta0\n",
        "            returns a tuple (value, gradient, hessian), where gradient and Hessian\n",
        "            have the same shape as Theta.\n",
        "        theta0: starting point.\n",
        "        alpha: initial step length for backtracking line search.\n",
        "        stop_tolerance: stop iterations when the norm of the gradient is below this threshold.\n",
        "        max_steps: maximum number of iterations.\n",
        "    Returns:\n",
        "        tuple:\n",
        "        - theta: optimal Theta after convergence or maximum steps.\n",
        "        - history: list of tuples (theta, value, gradient) containing the optimization path.\n",
        "    \"\"\"\n",
        "    theta = np.array(theta0, dtype=float)\n",
        "    history = []\n",
        "    step = 0\n",
        "    while step < max_steps:\n",
        "        val, grad, hessian = f(theta)\n",
        "        history.append((theta.copy(), val, grad.copy()))\n",
        "        grad_norm = np.linalg.norm(grad)\n",
        "        if grad_norm < stop_tolerance:\n",
        "            break\n",
        "        try:\n",
        "            hessian_inv = np.linalg.inv(hessian)\n",
        "        except np.linalg.LinAlgError:\n",
        "            print(\"Hessian is singular at step %d\" % step)\n",
        "            break\n",
        "        # Newton's direction\n",
        "        direction = -hessian_inv @ grad\n",
        "        # Line search: backtracking line search\n",
        "        alpha_local = alpha\n",
        "        c = 1e-4\n",
        "        rho = 0.9\n",
        "        while True:\n",
        "            theta_new = theta + alpha_local * direction\n",
        "            val_new, grad_new, _ = f(theta_new)\n",
        "            if val_new <= val + c * alpha_local * grad @ direction:\n",
        "                break\n",
        "            alpha_local *= rho\n",
        "        if np.linalg.norm(theta_new - theta) < stop_tolerance:\n",
        "            theta = theta_new\n",
        "            break\n",
        "        theta = theta_new\n",
        "        step += 1\n",
        "    history.append((theta.copy(), val, grad.copy()))\n",
        "    return theta, history\n",
        "\n",
        "# Test Newton's method on the Rosenbrock function\n",
        "X0 = [0., 2.]  # Initial guess\n",
        "Xopt, Xhist = Newton(rosenbrock_hessian, X0)\n",
        "\n",
        "print(\"Found optimum at %s (true minimum is at [1,1])\" % Xopt)"
      ]
    },
    {
      "cell_type": "code",
      "execution_count": null,
      "metadata": {
        "colab": {
          "base_uri": "https://localhost:8080/",
          "height": 564
        },
        "id": "VANtjT8eA_SM",
        "outputId": "24fa15f7-a285-412a-e52b-290e4643de37"
      },
      "outputs": [
        {
          "data": {
            "image/png": "[encoded data removed]",
            "text/plain": [
              "<Figure size 1000x600 with 1 Axes>"
            ]
          },
          "metadata": {},
          "output_type": "display_data"
        }
      ],
      "source": [
        "# Extract function values from history\n",
        "values_newton = [item[1] for item in Xhist]\n",
        "\n",
        "plt.figure(figsize=(10, 6))\n",
        "plt.plot(values_newton)\n",
        "plt.title('Function Value over Iterations (Newton\\'s Method)')\n",
        "plt.xlabel('Iteration')\n",
        "plt.ylabel('Function Value')\n",
        "plt.yscale('log')  # Log scale for better visibility\n",
        "plt.grid(True)\n",
        "plt.show()"
      ]
    },
    {
      "cell_type": "code",
      "execution_count": null,
      "metadata": {
        "colab": {
          "base_uri": "https://localhost:8080/",
          "height": 564
        },
        "id": "RleEwIxOBNIV",
        "outputId": "ce7c05bc-a2cc-4be6-bfa4-b4a37f03d78d"
      },
      "outputs": [
        {
          "data": {
            "image/png": "[encoded data removed]",
            "text/plain": [
              "<Figure size 1000x600 with 1 Axes>"
            ]
          },
          "metadata": {},
          "output_type": "display_data"
        }
      ],
      "source": [
        "plt.figure(figsize=(10, 6))\n",
        "plt.plot(values, label='Gradient Descent')\n",
        "plt.plot(values_newton, label='Newton\\'s Method')\n",
        "plt.title('Comparison of Optimization Methods')\n",
        "plt.xlabel('Iteration')\n",
        "plt.ylabel('Function Value')\n",
        "plt.yscale('log')  # Log scale for better visibility\n",
        "plt.legend()\n",
        "plt.grid(True)\n",
        "plt.show()"
      ]
    },
    {
      "cell_type": "markdown",
      "metadata": {
        "id": "wNXtvq8u-JSo"
      },
      "source": [
        "# Part two: MLP for MNIST Classification\n",
        "In this part, we are going to use `PyTorch`. If you want to become more familiar with it, check this resource: https://www.learnpytorch.io/\n",
        "\n",
        "#### In this homework, you need to\n",
        "- implement SGD optimizer (`./optimizer.py`)\n",
        "- implement forward and backward for FCLayer (`layers.py`)\n",
        "- implement forward and backward for SigmoidLayer (`layers.py`)\n",
        "- implement forward and backward for ReLULayer (`layers.py`)\n",
        "- implement forward and backward for DropoutLayer (`layers.py`)\n",
        "- implement train and test process (`solver.py`)"
      ]
    },
    {
      "cell_type": "code",
      "execution_count": null,
      "metadata": {
        "id": "zWtm2k5Ir-XQ"
      },
      "outputs": [],
      "source": [
        "from layers import FCLayer, SigmoidLayer, ReLULayer\n",
        "from solver import train, test\n",
        "from optimizer import SGD"
      ]
    },
    {
      "cell_type": "code",
      "execution_count": null,
      "metadata": {
        "colab": {
          "base_uri": "https://localhost:8080/",
          "height": 35
        },
        "id": "NRwL2rM0O92Z",
        "outputId": "6d0b07c0-673f-4df2-c910-ec020048cc52"
      },
      "outputs": [
        {
          "data": {
            "application/vnd.google.colaboratory.intrinsic+json": {
              "type": "string"
            },
            "text/plain": [
              "'cuda'"
            ]
          },
          "execution_count": 9,
          "metadata": {},
          "output_type": "execute_result"
        }
      ],
      "source": [
        "seed = 42\n",
        "torch.manual_seed(seed)\n",
        "np.random.seed(seed)\n",
        "device = \"cuda\" if torch.cuda.is_available() else \"cpu\"\n",
        "device"
      ]
    },
    {
      "cell_type": "code",
      "execution_count": null,
      "metadata": {
        "colab": {
          "base_uri": "https://localhost:8080/"
        },
        "id": "bCXcnjSYaR-R",
        "outputId": "586418b5-c9e9-4eae-a55b-ec1ae4ce7109"
      },
      "outputs": [
        {
          "name": "stdout",
          "output_type": "stream",
          "text": [
            "Downloading http://yann.lecun.com/exdb/mnist/train-images-idx3-ubyte.gz\n",
            "Failed to download (trying next):\n",
            "<urlopen error [SSL: CERTIFICATE_VERIFY_FAILED] certificate verify failed: certificate has expired (_ssl.c:1007)>\n",
            "\n",
            "Downloading https://ossci-datasets.s3.amazonaws.com/mnist/train-images-idx3-ubyte.gz\n",
            "Downloading https://ossci-datasets.s3.amazonaws.com/mnist/train-images-idx3-ubyte.gz to ./data/MNIST/raw/train-images-idx3-ubyte.gz\n"
          ]
        },
        {
          "name": "stderr",
          "output_type": "stream",
          "text": [
            "100%|██████████| 9.91M/9.91M [00:00<00:00, 11.6MB/s]\n"
          ]
        },
        {
          "name": "stdout",
          "output_type": "stream",
          "text": [
            "Extracting ./data/MNIST/raw/train-images-idx3-ubyte.gz to ./data/MNIST/raw\n",
            "\n",
            "Downloading http://yann.lecun.com/exdb/mnist/train-labels-idx1-ubyte.gz\n",
            "Failed to download (trying next):\n",
            "<urlopen error [SSL: CERTIFICATE_VERIFY_FAILED] certificate verify failed: certificate has expired (_ssl.c:1007)>\n",
            "\n",
            "Downloading https://ossci-datasets.s3.amazonaws.com/mnist/train-labels-idx1-ubyte.gz\n",
            "Downloading https://ossci-datasets.s3.amazonaws.com/mnist/train-labels-idx1-ubyte.gz to ./data/MNIST/raw/train-labels-idx1-ubyte.gz\n"
          ]
        },
        {
          "name": "stderr",
          "output_type": "stream",
          "text": [
            "100%|██████████| 28.9k/28.9k [00:00<00:00, 348kB/s]\n"
          ]
        },
        {
          "name": "stdout",
          "output_type": "stream",
          "text": [
            "Extracting ./data/MNIST/raw/train-labels-idx1-ubyte.gz to ./data/MNIST/raw\n",
            "\n",
            "Downloading http://yann.lecun.com/exdb/mnist/t10k-images-idx3-ubyte.gz\n",
            "Failed to download (trying next):\n",
            "<urlopen error [SSL: CERTIFICATE_VERIFY_FAILED] certificate verify failed: certificate has expired (_ssl.c:1007)>\n",
            "\n",
            "Downloading https://ossci-datasets.s3.amazonaws.com/mnist/t10k-images-idx3-ubyte.gz\n",
            "Downloading https://ossci-datasets.s3.amazonaws.com/mnist/t10k-images-idx3-ubyte.gz to ./data/MNIST/raw/t10k-images-idx3-ubyte.gz\n"
          ]
        },
        {
          "name": "stderr",
          "output_type": "stream",
          "text": [
            "100%|██████████| 1.65M/1.65M [00:00<00:00, 3.20MB/s]\n"
          ]
        },
        {
          "name": "stdout",
          "output_type": "stream",
          "text": [
            "Extracting ./data/MNIST/raw/t10k-images-idx3-ubyte.gz to ./data/MNIST/raw\n",
            "\n",
            "Downloading http://yann.lecun.com/exdb/mnist/t10k-labels-idx1-ubyte.gz\n",
            "Failed to download (trying next):\n",
            "<urlopen error [SSL: CERTIFICATE_VERIFY_FAILED] certificate verify failed: certificate has expired (_ssl.c:1007)>\n",
            "\n",
            "Downloading https://ossci-datasets.s3.amazonaws.com/mnist/t10k-labels-idx1-ubyte.gz\n",
            "Downloading https://ossci-datasets.s3.amazonaws.com/mnist/t10k-labels-idx1-ubyte.gz to ./data/MNIST/raw/t10k-labels-idx1-ubyte.gz\n"
          ]
        },
        {
          "name": "stderr",
          "output_type": "stream",
          "text": [
            "100%|██████████| 4.54k/4.54k [00:00<00:00, 8.78MB/s]\n"
          ]
        },
        {
          "name": "stdout",
          "output_type": "stream",
          "text": [
            "Extracting ./data/MNIST/raw/t10k-labels-idx1-ubyte.gz to ./data/MNIST/raw\n",
            "\n"
          ]
        }
      ],
      "source": [
        "# Load MNIST dataset\n",
        "\n",
        "# Converts PIL image to tensor and scales to [0, 1] and flatten it\n",
        "transform = transforms.Compose([\n",
        "    transforms.ToTensor(),\n",
        "    transforms.Lambda(lambda x: x.view(-1)),\n",
        "])\n",
        "\n",
        "# Load MNIST dataset with the defined transform\n",
        "train_dataset = datasets.MNIST(root='./data', train=True, download=True, transform=transform)\n",
        "test_dataset = datasets.MNIST(root='./data', train=False, download=True, transform=transform)\n",
        "\n",
        "# One-hot encoding for labels\n",
        "def decode_label(label, num_classes=10):\n",
        "    return torch.nn.functional.one_hot(torch.tensor(label), num_classes=num_classes).float()\n",
        "\n",
        "# Preprocess labels and combine with transformed images\n",
        "y_train = [decode_label(label) for _, label in train_dataset]\n",
        "y_test = [decode_label(label) for _, label in test_dataset]\n",
        "\n",
        "# Convert the data into tensor datasets for training and testing\n",
        "train_dataset = TensorDataset(torch.stack([img for img, _ in train_dataset]), torch.stack(y_train))\n",
        "test_dataset = TensorDataset(torch.stack([img for img, _ in test_dataset]), torch.stack(y_test))\n",
        "\n",
        "# Create data loaders\n",
        "train_dataloader = DataLoader(train_dataset, batch_size=32, shuffle=True)\n",
        "test_dataloader = DataLoader(test_dataset, batch_size=32, shuffle=False)"
      ]
    },
    {
      "cell_type": "code",
      "execution_count": null,
      "metadata": {
        "colab": {
          "base_uri": "https://localhost:8080/"
        },
        "id": "NkRty2cM-kIt",
        "outputId": "58a0539d-f07c-4268-b7f6-ffc9d3434b1c"
      },
      "outputs": [
        {
          "name": "stdout",
          "output_type": "stream",
          "text": [
            "\n",
            "Epoch [0] Average training loss: 0.0771, Average training accuracy: 0.4956\n",
            "\n",
            "Epoch [1] Average training loss: 0.0556, Average training accuracy: 0.7378\n",
            "\n",
            "Epoch [2] Average training loss: 0.0506, Average training accuracy: 0.7835\n",
            "\n",
            "Epoch [3] Average training loss: 0.0482, Average training accuracy: 0.8046\n",
            "\n",
            "Epoch [4] Average training loss: 0.0466, Average training accuracy: 0.8173\n",
            "\n",
            "Epoch [5] Average training loss: 0.0456, Average training accuracy: 0.8254\n",
            "\n",
            "Epoch [6] Average training loss: 0.0448, Average training accuracy: 0.8307\n",
            "\n",
            "Epoch [7] Average training loss: 0.0442, Average training accuracy: 0.8344\n",
            "\n",
            "Epoch [8] Average training loss: 0.0437, Average training accuracy: 0.8384\n",
            "\n",
            "Epoch [9] Average training loss: 0.0432, Average training accuracy: 0.8408\n",
            "\n",
            "Epoch [10] Average training loss: 0.0429, Average training accuracy: 0.8430\n",
            "\n",
            "Epoch [11] Average training loss: 0.0426, Average training accuracy: 0.8455\n",
            "\n",
            "Epoch [12] Average training loss: 0.0423, Average training accuracy: 0.8465\n",
            "\n",
            "Epoch [13] Average training loss: 0.0420, Average training accuracy: 0.8474\n",
            "\n",
            "Epoch [14] Average training loss: 0.0418, Average training accuracy: 0.8489\n",
            "\n",
            "Epoch [15] Average training loss: 0.0415, Average training accuracy: 0.8504\n",
            "\n",
            "Epoch [16] Average training loss: 0.0413, Average training accuracy: 0.8517\n",
            "\n",
            "Epoch [17] Average training loss: 0.0411, Average training accuracy: 0.8514\n",
            "\n",
            "Epoch [18] Average training loss: 0.0409, Average training accuracy: 0.8529\n",
            "\n",
            "Epoch [19] Average training loss: 0.0407, Average training accuracy: 0.8533\n"
          ]
        }
      ],
      "source": [
        "num_epoch = 20\n",
        "\n",
        "criterion = nn.MSELoss()\n",
        "\n",
        "# Build MLP with FCLayer and SigmoidLayer you've implemented in layers.py\n",
        "sigmoidMLP = nn.Sequential(\n",
        "    FCLayer(784, 128),\n",
        "    SigmoidLayer(),\n",
        "    FCLayer(128, 10)\n",
        ")\n",
        "\n",
        "# Initialize optimizer you've implemented in optimizer.py\n",
        "sgd = SGD(params=sigmoidMLP.parameters(), learning_rate=0.01)\n",
        "\n",
        "# Train the model using train function you've implemented in solver.py\n",
        "sigmoidMLP = train(sigmoidMLP, criterion, sgd, train_dataloader, num_epoch, device=device)"
      ]
    },
    {
      "cell_type": "code",
      "execution_count": null,
      "metadata": {
        "colab": {
          "base_uri": "https://localhost:8080/"
        },
        "id": "F0otZUFrr7WW",
        "outputId": "c58a8939-8041-4272-8fd3-f98ad50027c9"
      },
      "outputs": [
        {
          "name": "stdout",
          "output_type": "stream",
          "text": [
            "The test accuracy is 0.8627.\n",
            "\n"
          ]
        }
      ],
      "source": [
        "# Test your model using test function you've implemented in solver.py\n",
        "test(sigmoidMLP, test_dataloader, device)"
      ]
    },
    {
      "cell_type": "code",
      "execution_count": null,
      "metadata": {
        "colab": {
          "base_uri": "https://localhost:8080/"
        },
        "id": "n-2V-B_er7T2",
        "outputId": "c50f46a3-237e-4dd3-a48c-556e9b485474"
      },
      "outputs": [
        {
          "name": "stdout",
          "output_type": "stream",
          "text": [
            "\n",
            "Epoch [0] Average training loss: 0.0712, Average training accuracy: 0.6373\n",
            "\n",
            "Epoch [1] Average training loss: 0.0467, Average training accuracy: 0.8231\n",
            "\n",
            "Epoch [2] Average training loss: 0.0399, Average training accuracy: 0.8589\n",
            "\n",
            "Epoch [3] Average training loss: 0.0357, Average training accuracy: 0.8765\n",
            "\n",
            "Epoch [4] Average training loss: 0.0327, Average training accuracy: 0.8875\n",
            "\n",
            "Epoch [5] Average training loss: 0.0305, Average training accuracy: 0.8953\n",
            "\n",
            "Epoch [6] Average training loss: 0.0288, Average training accuracy: 0.9011\n",
            "\n",
            "Epoch [7] Average training loss: 0.0274, Average training accuracy: 0.9060\n",
            "\n",
            "Epoch [8] Average training loss: 0.0262, Average training accuracy: 0.9103\n",
            "\n",
            "Epoch [9] Average training loss: 0.0253, Average training accuracy: 0.9131\n",
            "\n",
            "Epoch [10] Average training loss: 0.0244, Average training accuracy: 0.9162\n",
            "\n",
            "Epoch [11] Average training loss: 0.0237, Average training accuracy: 0.9185\n",
            "\n",
            "Epoch [12] Average training loss: 0.0231, Average training accuracy: 0.9205\n",
            "\n",
            "Epoch [13] Average training loss: 0.0225, Average training accuracy: 0.9227\n",
            "\n",
            "Epoch [14] Average training loss: 0.0220, Average training accuracy: 0.9248\n",
            "\n",
            "Epoch [15] Average training loss: 0.0215, Average training accuracy: 0.9264\n",
            "\n",
            "Epoch [16] Average training loss: 0.0211, Average training accuracy: 0.9279\n",
            "\n",
            "Epoch [17] Average training loss: 0.0207, Average training accuracy: 0.9289\n",
            "\n",
            "Epoch [18] Average training loss: 0.0204, Average training accuracy: 0.9297\n",
            "\n",
            "Epoch [19] Average training loss: 0.0200, Average training accuracy: 0.9309\n"
          ]
        }
      ],
      "source": [
        "# Build MLP with FCLayer and ReLULayer\n",
        "reluMLP = nn.Sequential(\n",
        "    FCLayer(784, 128),\n",
        "    ReLULayer(),\n",
        "    FCLayer(128, 10)\n",
        ")\n",
        "\n",
        "# Initialize optimizer\n",
        "sgd = SGD(reluMLP.parameters(), learning_rate=0.01)\n",
        "\n",
        "# Train the model\n",
        "reluMLP = train(reluMLP, criterion, sgd, train_dataloader, num_epoch, device=device)"
      ]
    },
    {
      "cell_type": "code",
      "execution_count": null,
      "metadata": {
        "colab": {
          "base_uri": "https://localhost:8080/"
        },
        "id": "sLjxTbq8r7RZ",
        "outputId": "22782557-e407-474f-dbaa-796dec06ec73"
      },
      "outputs": [
        {
          "name": "stdout",
          "output_type": "stream",
          "text": [
            "The test accuracy is 0.9313.\n",
            "\n"
          ]
        }
      ],
      "source": [
        "# Test the model\n",
        "test(reluMLP, test_dataloader, device)"
      ]
    },
    {
      "cell_type": "markdown",
      "metadata": {
        "id": "krsqZLJ-qQKH"
      },
      "source": [
        "### Overfit the model\n",
        "Try to overfit the reluMLP model. You can make the model as complex as you like, use subset of the data for training or any other approach you want.\n",
        "Then add **DropoutLayer** to your model in order to reduce overfitting problem."
      ]
    },
    {
      "cell_type": "code",
      "execution_count": null,
      "metadata": {
        "id": "XbVFtro9qP1i"
      },
      "outputs": [],
      "source": [
        "#TODO: overfit the reluMLP model\n",
        "\n",
        "# Build an even more complex overfitted reluMLP model\n",
        "reluMLP_overfit = nn.Sequential(\n",
        "    FCLayer(784, 16384),\n",
        "    ReLULayer(),\n",
        "    FCLayer(16384, 8192),\n",
        "    ReLULayer(),\n",
        "    FCLayer(8192, 4096),\n",
        "    ReLULayer(),\n",
        "    FCLayer(4096, 2048),\n",
        "    ReLULayer(),\n",
        "    FCLayer(2048, 1024),\n",
        "    ReLULayer(),\n",
        "    FCLayer(1024, 512),\n",
        "    ReLULayer(),\n",
        "    FCLayer(512, 256),\n",
        "    ReLULayer(),\n",
        "    FCLayer(256, 128),\n",
        "    ReLULayer(),\n",
        "    FCLayer(128, 64),\n",
        "    ReLULayer(),\n",
        "    FCLayer(64, 10)\n",
        ")"
      ]
    },
    {
      "cell_type": "code",
      "execution_count": null,
      "metadata": {
        "id": "3pYzkZ1q4x5u"
      },
      "outputs": [],
      "source": [
        "# Use a very small subset of the training data\n",
        "subset_size = int(len(train_dataset) * 0.005)  # 0.5% of the data\n",
        "train_subset, _ = torch.utils.data.random_split(\n",
        "    train_dataset, [subset_size, len(train_dataset) - subset_size],\n",
        "    generator=torch.Generator().manual_seed(seed)\n",
        ")\n",
        "train_dataloader_subset = DataLoader(train_subset, batch_size=16, shuffle=True)"
      ]
    },
    {
      "cell_type": "code",
      "execution_count": null,
      "metadata": {
        "colab": {
          "base_uri": "https://localhost:8080/"
        },
        "id": "YvsnlbHF4x5u",
        "outputId": "bef14e21-306b-4fbd-a6e4-dd3d42cc3ef6"
      },
      "outputs": [
        {
          "name": "stdout",
          "output_type": "stream",
          "text": [
            "\n",
            "Epoch [0] Average training loss: 0.0575, Average training accuracy: 0.8607\n",
            "\n",
            "Epoch [1] Average training loss: 0.0568, Average training accuracy: 0.8739\n",
            "\n",
            "Epoch [2] Average training loss: 0.0562, Average training accuracy: 0.8750\n",
            "\n",
            "Epoch [3] Average training loss: 0.0555, Average training accuracy: 0.8794\n",
            "\n",
            "Epoch [4] Average training loss: 0.0546, Average training accuracy: 0.8958\n",
            "\n",
            "Epoch [5] Average training loss: 0.0541, Average training accuracy: 0.8980\n",
            "\n",
            "Epoch [6] Average training loss: 0.0533, Average training accuracy: 0.9013\n",
            "\n",
            "Epoch [7] Average training loss: 0.0528, Average training accuracy: 0.8947\n",
            "\n",
            "Epoch [8] Average training loss: 0.0520, Average training accuracy: 0.9068\n",
            "\n",
            "Epoch [9] Average training loss: 0.0512, Average training accuracy: 0.9145\n",
            "\n",
            "Epoch [10] Average training loss: 0.0507, Average training accuracy: 0.9178\n",
            "\n",
            "Epoch [11] Average training loss: 0.0498, Average training accuracy: 0.9243\n",
            "\n",
            "Epoch [12] Average training loss: 0.0492, Average training accuracy: 0.9243\n",
            "\n",
            "Epoch [13] Average training loss: 0.0487, Average training accuracy: 0.9375\n",
            "\n",
            "Epoch [14] Average training loss: 0.0478, Average training accuracy: 0.9375\n",
            "\n",
            "Epoch [15] Average training loss: 0.0472, Average training accuracy: 0.9441\n",
            "\n",
            "Epoch [16] Average training loss: 0.0467, Average training accuracy: 0.9529\n",
            "\n",
            "Epoch [17] Average training loss: 0.0458, Average training accuracy: 0.9561\n",
            "\n",
            "Epoch [18] Average training loss: 0.0454, Average training accuracy: 0.9496\n",
            "\n",
            "Epoch [19] Average training loss: 0.0447, Average training accuracy: 0.9616\n",
            "\n",
            "Epoch [20] Average training loss: 0.0439, Average training accuracy: 0.9572\n",
            "\n",
            "Epoch [21] Average training loss: 0.0434, Average training accuracy: 0.9671\n",
            "\n",
            "Epoch [22] Average training loss: 0.0428, Average training accuracy: 0.9561\n",
            "\n",
            "Epoch [23] Average training loss: 0.0420, Average training accuracy: 0.9638\n",
            "\n",
            "Epoch [24] Average training loss: 0.0415, Average training accuracy: 0.9594\n",
            "\n",
            "Epoch [25] Average training loss: 0.0407, Average training accuracy: 0.9539\n",
            "\n",
            "Epoch [26] Average training loss: 0.0404, Average training accuracy: 0.9638\n",
            "\n",
            "Epoch [27] Average training loss: 0.0397, Average training accuracy: 0.9572\n",
            "\n",
            "Epoch [28] Average training loss: 0.0390, Average training accuracy: 0.9671\n",
            "\n",
            "Epoch [29] Average training loss: 0.0385, Average training accuracy: 0.9660\n",
            "\n",
            "Epoch [30] Average training loss: 0.0379, Average training accuracy: 0.9737\n",
            "\n",
            "Epoch [31] Average training loss: 0.0372, Average training accuracy: 0.9737\n",
            "\n",
            "Epoch [32] Average training loss: 0.0366, Average training accuracy: 0.9737\n",
            "\n",
            "Epoch [33] Average training loss: 0.0362, Average training accuracy: 0.9726\n",
            "\n",
            "Epoch [34] Average training loss: 0.0355, Average training accuracy: 0.9770\n",
            "\n",
            "Epoch [35] Average training loss: 0.0350, Average training accuracy: 0.9704\n",
            "\n",
            "Epoch [36] Average training loss: 0.0344, Average training accuracy: 0.9803\n",
            "\n",
            "Epoch [37] Average training loss: 0.0338, Average training accuracy: 0.9704\n",
            "\n",
            "Epoch [38] Average training loss: 0.0334, Average training accuracy: 0.9803\n",
            "\n",
            "Epoch [39] Average training loss: 0.0329, Average training accuracy: 0.9836\n",
            "\n",
            "Epoch [40] Average training loss: 0.0323, Average training accuracy: 0.9836\n",
            "\n",
            "Epoch [41] Average training loss: 0.0317, Average training accuracy: 0.9836\n",
            "\n",
            "Epoch [42] Average training loss: 0.0313, Average training accuracy: 0.9825\n",
            "\n",
            "Epoch [43] Average training loss: 0.0308, Average training accuracy: 0.9868\n",
            "\n",
            "Epoch [44] Average training loss: 0.0302, Average training accuracy: 0.9836\n",
            "\n",
            "Epoch [45] Average training loss: 0.0299, Average training accuracy: 0.9836\n",
            "\n",
            "Epoch [46] Average training loss: 0.0294, Average training accuracy: 0.9857\n",
            "\n",
            "Epoch [47] Average training loss: 0.0290, Average training accuracy: 0.9868\n",
            "\n",
            "Epoch [48] Average training loss: 0.0285, Average training accuracy: 0.9901\n",
            "\n",
            "Epoch [49] Average training loss: 0.0278, Average training accuracy: 0.9901\n",
            "\n",
            "Epoch [50] Average training loss: 0.0275, Average training accuracy: 0.9901\n",
            "\n",
            "Epoch [51] Average training loss: 0.0270, Average training accuracy: 0.9901\n",
            "\n",
            "Epoch [52] Average training loss: 0.0266, Average training accuracy: 0.9901\n",
            "\n",
            "Epoch [53] Average training loss: 0.0262, Average training accuracy: 0.9901\n",
            "\n",
            "Epoch [54] Average training loss: 0.0256, Average training accuracy: 0.9901\n",
            "\n",
            "Epoch [55] Average training loss: 0.0252, Average training accuracy: 0.9901\n",
            "\n",
            "Epoch [56] Average training loss: 0.0249, Average training accuracy: 0.9934\n",
            "\n",
            "Epoch [57] Average training loss: 0.0245, Average training accuracy: 0.9967\n",
            "\n",
            "Epoch [58] Average training loss: 0.0242, Average training accuracy: 0.9934\n",
            "\n",
            "Epoch [59] Average training loss: 0.0237, Average training accuracy: 0.9967\n",
            "\n",
            "Epoch [60] Average training loss: 0.0233, Average training accuracy: 0.9967\n",
            "\n",
            "Epoch [61] Average training loss: 0.0229, Average training accuracy: 0.9967\n",
            "\n",
            "Epoch [62] Average training loss: 0.0226, Average training accuracy: 0.9967\n",
            "\n",
            "Epoch [63] Average training loss: 0.0222, Average training accuracy: 0.9967\n",
            "\n",
            "Epoch [64] Average training loss: 0.0218, Average training accuracy: 0.9967\n",
            "\n",
            "Epoch [65] Average training loss: 0.0214, Average training accuracy: 0.9967\n",
            "\n",
            "Epoch [66] Average training loss: 0.0212, Average training accuracy: 0.9967\n",
            "\n",
            "Epoch [67] Average training loss: 0.0209, Average training accuracy: 0.9967\n",
            "\n",
            "Epoch [68] Average training loss: 0.0206, Average training accuracy: 0.9967\n",
            "\n",
            "Epoch [69] Average training loss: 0.0201, Average training accuracy: 0.9967\n",
            "\n",
            "Epoch [70] Average training loss: 0.0198, Average training accuracy: 0.9967\n",
            "\n",
            "Epoch [71] Average training loss: 0.0195, Average training accuracy: 0.9967\n",
            "\n",
            "Epoch [72] Average training loss: 0.0192, Average training accuracy: 0.9967\n",
            "\n",
            "Epoch [73] Average training loss: 0.0188, Average training accuracy: 0.9967\n",
            "\n",
            "Epoch [74] Average training loss: 0.0186, Average training accuracy: 0.9967\n"
          ]
        }
      ],
      "source": [
        "# Initialize optimizer\n",
        "sgd_overfit = SGD(reluMLP_overfit.parameters(), learning_rate=0.01)\n",
        "\n",
        "# Train the overfitted model\n",
        "num_epoch_overfit = 75\n",
        "reluMLP_overfit = train(reluMLP_overfit, criterion, sgd_overfit, train_dataloader_subset, num_epoch_overfit, device=device)"
      ]
    },
    {
      "cell_type": "code",
      "execution_count": null,
      "metadata": {
        "colab": {
          "base_uri": "https://localhost:8080/"
        },
        "id": "qeDxn1m34x5v",
        "outputId": "bc2534ad-d1a0-4559-feaf-94b46027394c"
      },
      "outputs": [
        {
          "name": "stdout",
          "output_type": "stream",
          "text": [
            "The test accuracy is 0.8343.\n",
            "\n"
          ]
        }
      ],
      "source": [
        "# Test the overfitted model\n",
        "test(reluMLP_overfit, test_dataloader, device)"
      ]
    },
    {
      "cell_type": "markdown",
      "metadata": {
        "id": "z3YDPEaqZ_4O"
      },
      "source": [
        "**Average training accuracy: 0.9967**\n",
        "\n",
        "**The test accuracy is 0.8343**"
      ]
    },
    {
      "cell_type": "code",
      "execution_count": null,
      "metadata": {
        "id": "BeCfvh6Jr7Om"
      },
      "outputs": [],
      "source": [
        "from layers import DropoutLayer\n",
        "\n",
        "#TODO: add DropoutLayer to your model\n",
        "\n",
        "# Build MLP with FCLayer, ReLULayer, and DropoutLayer\n",
        "reluMLP_dropout = nn.Sequential(\n",
        "    FCLayer(784, 16384),\n",
        "    ReLULayer(),\n",
        "    FCLayer(16384, 8192),\n",
        "    ReLULayer(),\n",
        "    FCLayer(8192, 4096),\n",
        "    ReLULayer(),\n",
        "    FCLayer(4096, 2048),\n",
        "    ReLULayer(),\n",
        "    FCLayer(2048, 1024),\n",
        "    ReLULayer(),\n",
        "    FCLayer(1024, 512),\n",
        "    DropoutLayer(0.2),\n",
        "    ReLULayer(),\n",
        "    DropoutLayer(0.2),\n",
        "    FCLayer(512, 256),\n",
        "    ReLULayer(),\n",
        "    DropoutLayer(0.2),\n",
        "    FCLayer(256, 128),\n",
        "    ReLULayer(),\n",
        "    FCLayer(128, 64),\n",
        "    ReLULayer(),\n",
        "    FCLayer(64, 10)\n",
        ")"
      ]
    },
    {
      "cell_type": "code",
      "execution_count": null,
      "metadata": {
        "colab": {
          "background_save": true,
          "base_uri": "https://localhost:8080/"
        },
        "id": "UShs-KYlr7L4",
        "outputId": "e662de1f-df0f-4ba0-b67e-36096ff5b2d5"
      },
      "outputs": [
        {
          "name": "stdout",
          "output_type": "stream",
          "text": [
            "\n",
            "Epoch [0] Average training loss: 0.0585, Average training accuracy: 0.8640\n",
            "\n",
            "Epoch [1] Average training loss: 0.0573, Average training accuracy: 0.8279\n",
            "\n",
            "Epoch [2] Average training loss: 0.0568, Average training accuracy: 0.8476\n",
            "\n",
            "Epoch [3] Average training loss: 0.0564, Average training accuracy: 0.8454\n",
            "\n",
            "Epoch [4] Average training loss: 0.0564, Average training accuracy: 0.8432\n",
            "\n",
            "Epoch [5] Average training loss: 0.0557, Average training accuracy: 0.8333\n",
            "\n",
            "Epoch [6] Average training loss: 0.0542, Average training accuracy: 0.8772\n",
            "\n",
            "Epoch [7] Average training loss: 0.0537, Average training accuracy: 0.8553\n",
            "\n",
            "Epoch [8] Average training loss: 0.0543, Average training accuracy: 0.8531\n",
            "\n",
            "Epoch [9] Average training loss: 0.0532, Average training accuracy: 0.8640\n",
            "\n",
            "Epoch [10] Average training loss: 0.0528, Average training accuracy: 0.8476\n",
            "\n",
            "Epoch [11] Average training loss: 0.0517, Average training accuracy: 0.8860\n",
            "\n",
            "Epoch [12] Average training loss: 0.0522, Average training accuracy: 0.8355\n",
            "\n",
            "Epoch [13] Average training loss: 0.0509, Average training accuracy: 0.8871\n",
            "\n",
            "Epoch [14] Average training loss: 0.0502, Average training accuracy: 0.8772\n",
            "\n",
            "Epoch [15] Average training loss: 0.0504, Average training accuracy: 0.8728\n",
            "\n",
            "Epoch [16] Average training loss: 0.0499, Average training accuracy: 0.8838\n",
            "\n",
            "Epoch [17] Average training loss: 0.0478, Average training accuracy: 0.8882\n",
            "\n",
            "Epoch [18] Average training loss: 0.0498, Average training accuracy: 0.8575\n",
            "\n",
            "Epoch [19] Average training loss: 0.0481, Average training accuracy: 0.9079\n",
            "\n",
            "Epoch [20] Average training loss: 0.0480, Average training accuracy: 0.8958\n",
            "\n",
            "Epoch [21] Average training loss: 0.0473, Average training accuracy: 0.8805\n",
            "\n",
            "Epoch [22] Average training loss: 0.0479, Average training accuracy: 0.9002\n",
            "\n",
            "Epoch [23] Average training loss: 0.0465, Average training accuracy: 0.8936\n",
            "\n",
            "Epoch [24] Average training loss: 0.0460, Average training accuracy: 0.8860\n",
            "\n",
            "Epoch [25] Average training loss: 0.0456, Average training accuracy: 0.9035\n",
            "\n",
            "Epoch [26] Average training loss: 0.0450, Average training accuracy: 0.9254\n",
            "\n",
            "Epoch [27] Average training loss: 0.0447, Average training accuracy: 0.9068\n",
            "\n",
            "Epoch [28] Average training loss: 0.0444, Average training accuracy: 0.9079\n",
            "\n",
            "Epoch [29] Average training loss: 0.0434, Average training accuracy: 0.9200\n",
            "\n",
            "Epoch [30] Average training loss: 0.0438, Average training accuracy: 0.9090\n",
            "\n",
            "Epoch [31] Average training loss: 0.0436, Average training accuracy: 0.9123\n",
            "\n",
            "Epoch [32] Average training loss: 0.0432, Average training accuracy: 0.9221\n",
            "\n",
            "Epoch [33] Average training loss: 0.0421, Average training accuracy: 0.9309\n",
            "\n",
            "Epoch [34] Average training loss: 0.0416, Average training accuracy: 0.9375\n",
            "\n",
            "Epoch [35] Average training loss: 0.0412, Average training accuracy: 0.9342\n",
            "\n",
            "Epoch [36] Average training loss: 0.0414, Average training accuracy: 0.9221\n",
            "\n",
            "Epoch [37] Average training loss: 0.0412, Average training accuracy: 0.9298\n",
            "\n",
            "Epoch [38] Average training loss: 0.0402, Average training accuracy: 0.9254\n",
            "\n",
            "Epoch [39] Average training loss: 0.0388, Average training accuracy: 0.9463\n",
            "\n",
            "Epoch [40] Average training loss: 0.0393, Average training accuracy: 0.9364\n",
            "\n",
            "Epoch [41] Average training loss: 0.0395, Average training accuracy: 0.9529\n",
            "\n",
            "Epoch [42] Average training loss: 0.0382, Average training accuracy: 0.9529\n",
            "\n",
            "Epoch [43] Average training loss: 0.0388, Average training accuracy: 0.9441\n",
            "\n",
            "Epoch [44] Average training loss: 0.0382, Average training accuracy: 0.9254\n",
            "\n",
            "Epoch [45] Average training loss: 0.0379, Average training accuracy: 0.9638\n",
            "\n",
            "Epoch [46] Average training loss: 0.0376, Average training accuracy: 0.9507\n",
            "\n",
            "Epoch [47] Average training loss: 0.0367, Average training accuracy: 0.9638\n",
            "\n",
            "Epoch [48] Average training loss: 0.0373, Average training accuracy: 0.9331\n",
            "\n",
            "Epoch [49] Average training loss: 0.0367, Average training accuracy: 0.9572\n",
            "\n",
            "Epoch [50] Average training loss: 0.0352, Average training accuracy: 0.9671\n",
            "\n",
            "Epoch [51] Average training loss: 0.0359, Average training accuracy: 0.9627\n",
            "\n",
            "Epoch [52] Average training loss: 0.0361, Average training accuracy: 0.9452\n",
            "\n",
            "Epoch [53] Average training loss: 0.0344, Average training accuracy: 0.9638\n",
            "\n",
            "Epoch [54] Average training loss: 0.0344, Average training accuracy: 0.9671\n",
            "\n",
            "Epoch [55] Average training loss: 0.0338, Average training accuracy: 0.9561\n",
            "\n",
            "Epoch [56] Average training loss: 0.0338, Average training accuracy: 0.9857\n",
            "\n",
            "Epoch [57] Average training loss: 0.0335, Average training accuracy: 0.9660\n",
            "\n",
            "Epoch [58] Average training loss: 0.0335, Average training accuracy: 0.9737\n",
            "\n",
            "Epoch [59] Average training loss: 0.0335, Average training accuracy: 0.9726\n",
            "\n",
            "Epoch [60] Average training loss: 0.0336, Average training accuracy: 0.9649\n",
            "\n",
            "Epoch [61] Average training loss: 0.0324, Average training accuracy: 0.9561\n",
            "\n",
            "Epoch [62] Average training loss: 0.0319, Average training accuracy: 0.9759\n",
            "\n",
            "Epoch [63] Average training loss: 0.0323, Average training accuracy: 0.9660\n",
            "\n",
            "Epoch [64] Average training loss: 0.0317, Average training accuracy: 0.9704\n",
            "\n",
            "Epoch [65] Average training loss: 0.0314, Average training accuracy: 0.9803\n",
            "\n",
            "Epoch [66] Average training loss: 0.0305, Average training accuracy: 0.9836\n",
            "\n",
            "Epoch [67] Average training loss: 0.0306, Average training accuracy: 0.9759\n",
            "\n",
            "Epoch [68] Average training loss: 0.0309, Average training accuracy: 0.9836\n",
            "\n",
            "Epoch [69] Average training loss: 0.0299, Average training accuracy: 0.9967\n",
            "\n",
            "Epoch [70] Average training loss: 0.0309, Average training accuracy: 0.9704\n",
            "\n",
            "Epoch [71] Average training loss: 0.0299, Average training accuracy: 0.9901\n",
            "\n",
            "Epoch [72] Average training loss: 0.0294, Average training accuracy: 0.9901\n",
            "\n",
            "Epoch [73] Average training loss: 0.0293, Average training accuracy: 0.9770\n",
            "\n",
            "Epoch [74] Average training loss: 0.0292, Average training accuracy: 0.9737\n"
          ]
        }
      ],
      "source": [
        "# Initialize optimizer\n",
        "sgd_dropout = SGD(reluMLP_dropout.parameters(), learning_rate=0.01)\n",
        "\n",
        "# Train the model with Dropout\n",
        "reluMLP_dropout = train(reluMLP_dropout, criterion, sgd_dropout, train_dataloader_subset, num_epoch_overfit, device=device)"
      ]
    },
    {
      "cell_type": "code",
      "execution_count": null,
      "metadata": {
        "colab": {
          "base_uri": "https://localhost:8080/"
        },
        "id": "0rg3t81mqNm9",
        "outputId": "541afe1a-9dd1-459c-9dd1-a099b73bdce4"
      },
      "outputs": [
        {
          "name": "stdout",
          "output_type": "stream",
          "text": [
            "The test accuracy is 0.8470.\n",
            "\n"
          ]
        }
      ],
      "source": [
        "# Test the model with Dropout\n",
        "test(reluMLP_dropout, test_dataloader, device)"
      ]
    },
    {
      "cell_type": "markdown",
      "source": [
        "The test accuracy increased by 1.3%"
      ],
      "metadata": {
        "id": "_24LfTukalyX"
      }
    }
  ],
  "metadata": {
    "accelerator": "GPU",
    "colab": {
      "gpuType": "T4",
      "provenance": []
    },
    "kernelspec": {
      "display_name": "Python 3",
      "name": "python3"
    },
    "language_info": {
      "name": "python"
    }
  },
  "nbformat": 4,
  "nbformat_minor": 0
}