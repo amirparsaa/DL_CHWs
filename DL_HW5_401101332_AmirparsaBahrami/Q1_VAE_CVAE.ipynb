{
  "cells": [
    {
      "cell_type": "markdown",
      "metadata": {
        "id": "2Vn26lahhFJd"
      },
      "source": [
        "# Variational AutoEncoders\n",
        "\n",
        "Full Name: Amirparsa Bahrami\n",
        "\n",
        "Student ID: 401101332"
      ]
    },
    {
      "cell_type": "markdown",
      "metadata": {
        "id": "VJZ8AefthL95"
      },
      "source": [
        "\n",
        "# Variational Autoencoder\n",
        "\n",
        "In this notebook, you will implement a variational autoencoder and a conditional variational autoencoder with slightly different architectures and apply them to the popular MNIST handwritten dataset."
      ]
    },
    {
      "cell_type": "markdown",
      "metadata": {
        "id": "JuIiv2bhjFoC"
      },
      "source": [
        "Load several useful packages that are used in this notebook:"
      ]
    },
    {
      "cell_type": "code",
      "execution_count": 1,
      "metadata": {
        "id": "sLdT7GSljI0f"
      },
      "outputs": [],
      "source": [
        "import math\n",
        "import torch\n",
        "import torch.nn as nn\n",
        "import torch.nn.functional as F\n",
        "from torch.nn import init\n",
        "import torchvision\n",
        "import torchvision.transforms as T\n",
        "import torch.optim as optim\n",
        "from torch.utils.data import DataLoader\n",
        "from torch.utils.data import sampler\n",
        "import torchvision.datasets as datasets\n",
        "import random\n",
        "import cv2\n",
        "import matplotlib as mpl\n",
        "import numpy as np\n",
        "from torchvision.utils import make_grid\n",
        "import matplotlib.pyplot as plt\n",
        "import matplotlib.gridspec as gridspec\n",
        "%matplotlib inline\n",
        "device = torch.device(\"cuda\" if torch.cuda.is_available() else \"cpu\")\n",
        "\n",
        "# for plotting\n",
        "plt.rcParams['figure.figsize'] = (10.0, 8.0)\n",
        "plt.rcParams['font.size'] = 16\n",
        "plt.rcParams['image.interpolation'] = 'nearest'\n",
        "plt.rcParams['image.cmap'] = 'gray'"
      ]
    },
    {
      "cell_type": "markdown",
      "metadata": {
        "id": "_nqWhiLojS8M"
      },
      "source": [
        "We will use GPUs to accelerate our computation in this notebook. Run the following to make sure GPUs are enabled:"
      ]
    },
    {
      "cell_type": "code",
      "execution_count": 2,
      "metadata": {
        "id": "RdQhVgi5jVQp",
        "colab": {
          "base_uri": "https://localhost:8080/"
        },
        "outputId": "ef1fbfb0-e88d-4c33-b9e3-ff9744d3fb30"
      },
      "outputs": [
        {
          "output_type": "stream",
          "name": "stdout",
          "text": [
            "Good to go!\n"
          ]
        }
      ],
      "source": [
        "if torch.cuda.is_available():\n",
        "    print('Good to go!')\n",
        "else:\n",
        "    print('Please set GPU via Edit -> Notebook Settings.')"
      ]
    },
    {
      "cell_type": "markdown",
      "metadata": {
        "id": "bcqRQILRjchz"
      },
      "source": [
        "## Load MNIST Dataset\n",
        "\n",
        "\n",
        "VAEs are notoriously finicky with hyperparameters, and also require many training epochs. In order to make this assignment approachable, we will be working on the MNIST dataset, which has 60,000 training and 10,000 test images. Each picture contains a centered image of white digit on black background (0 through 9). This was one of the first datasets used to train convolutional neural networks and it is fairly easy -- a standard CNN model can easily exceed 99% accuracy.\n",
        "\n",
        "To simplify our code here, we will use the PyTorch MNIST wrapper, which downloads and loads the MNIST dataset."
      ]
    },
    {
      "cell_type": "code",
      "execution_count": 3,
      "metadata": {
        "id": "mExnwvTXjcF_",
        "colab": {
          "base_uri": "https://localhost:8080/"
        },
        "outputId": "8a428468-c89c-47b1-c555-dbc564c041ce"
      },
      "outputs": [
        {
          "output_type": "stream",
          "name": "stdout",
          "text": [
            "Downloading http://yann.lecun.com/exdb/mnist/train-images-idx3-ubyte.gz\n",
            "Failed to download (trying next):\n",
            "<urlopen error [Errno 111] Connection refused>\n",
            "\n",
            "Downloading https://ossci-datasets.s3.amazonaws.com/mnist/train-images-idx3-ubyte.gz\n",
            "Downloading https://ossci-datasets.s3.amazonaws.com/mnist/train-images-idx3-ubyte.gz to ./MNIST_data/MNIST/raw/train-images-idx3-ubyte.gz\n"
          ]
        },
        {
          "output_type": "stream",
          "name": "stderr",
          "text": [
            "100%|██████████| 9.91M/9.91M [00:00<00:00, 16.0MB/s]\n"
          ]
        },
        {
          "output_type": "stream",
          "name": "stdout",
          "text": [
            "Extracting ./MNIST_data/MNIST/raw/train-images-idx3-ubyte.gz to ./MNIST_data/MNIST/raw\n",
            "\n",
            "Downloading http://yann.lecun.com/exdb/mnist/train-labels-idx1-ubyte.gz\n",
            "Failed to download (trying next):\n",
            "<urlopen error [Errno 111] Connection refused>\n",
            "\n",
            "Downloading https://ossci-datasets.s3.amazonaws.com/mnist/train-labels-idx1-ubyte.gz\n",
            "Downloading https://ossci-datasets.s3.amazonaws.com/mnist/train-labels-idx1-ubyte.gz to ./MNIST_data/MNIST/raw/train-labels-idx1-ubyte.gz\n"
          ]
        },
        {
          "output_type": "stream",
          "name": "stderr",
          "text": [
            "100%|██████████| 28.9k/28.9k [00:00<00:00, 486kB/s]\n"
          ]
        },
        {
          "output_type": "stream",
          "name": "stdout",
          "text": [
            "Extracting ./MNIST_data/MNIST/raw/train-labels-idx1-ubyte.gz to ./MNIST_data/MNIST/raw\n",
            "\n",
            "Downloading http://yann.lecun.com/exdb/mnist/t10k-images-idx3-ubyte.gz\n",
            "Failed to download (trying next):\n",
            "<urlopen error [Errno 111] Connection refused>\n",
            "\n",
            "Downloading https://ossci-datasets.s3.amazonaws.com/mnist/t10k-images-idx3-ubyte.gz\n",
            "Downloading https://ossci-datasets.s3.amazonaws.com/mnist/t10k-images-idx3-ubyte.gz to ./MNIST_data/MNIST/raw/t10k-images-idx3-ubyte.gz\n"
          ]
        },
        {
          "output_type": "stream",
          "name": "stderr",
          "text": [
            "100%|██████████| 1.65M/1.65M [00:00<00:00, 4.46MB/s]\n"
          ]
        },
        {
          "output_type": "stream",
          "name": "stdout",
          "text": [
            "Extracting ./MNIST_data/MNIST/raw/t10k-images-idx3-ubyte.gz to ./MNIST_data/MNIST/raw\n",
            "\n",
            "Downloading http://yann.lecun.com/exdb/mnist/t10k-labels-idx1-ubyte.gz\n",
            "Failed to download (trying next):\n",
            "<urlopen error [Errno 111] Connection refused>\n",
            "\n",
            "Downloading https://ossci-datasets.s3.amazonaws.com/mnist/t10k-labels-idx1-ubyte.gz\n",
            "Downloading https://ossci-datasets.s3.amazonaws.com/mnist/t10k-labels-idx1-ubyte.gz to ./MNIST_data/MNIST/raw/t10k-labels-idx1-ubyte.gz\n"
          ]
        },
        {
          "output_type": "stream",
          "name": "stderr",
          "text": [
            "100%|██████████| 4.54k/4.54k [00:00<00:00, 4.51MB/s]"
          ]
        },
        {
          "output_type": "stream",
          "name": "stdout",
          "text": [
            "Extracting ./MNIST_data/MNIST/raw/t10k-labels-idx1-ubyte.gz to ./MNIST_data/MNIST/raw\n",
            "\n"
          ]
        },
        {
          "output_type": "stream",
          "name": "stderr",
          "text": [
            "\n"
          ]
        }
      ],
      "source": [
        "batch_size = 128\n",
        "\n",
        "mnist_train = datasets.MNIST('./MNIST_data', train=True, download=True,\n",
        "                           transform=T.ToTensor())\n",
        "loader_train = DataLoader(mnist_train, batch_size=batch_size,\n",
        "                          shuffle=True, drop_last=True, num_workers=2)\n"
      ]
    },
    {
      "cell_type": "markdown",
      "metadata": {
        "id": "CwDmYBjdhTrM"
      },
      "source": [
        "## Visualize dataset"
      ]
    },
    {
      "cell_type": "markdown",
      "metadata": {
        "id": "Q2X_21cTwsox"
      },
      "source": [
        "It is always a good idea to look at examples from the dataset before working with it. Let's visualize the digits in the MNIST dataset. We have defined the function `show_images` to visualize the images.\n"
      ]
    },
    {
      "cell_type": "code",
      "execution_count": 4,
      "metadata": {
        "id": "3JMbbxMkwrYg",
        "colab": {
          "base_uri": "https://localhost:8080/",
          "height": 883
        },
        "outputId": "e082a71c-ee05-48bc-c2ac-3f6ca6e13ce3"
      },
      "outputs": [
        {
          "output_type": "display_data",
          "data": {
            "text/plain": [
              "<Figure size 1200x1200 with 128 Axes>"
            ],
            "image/png": "[encoded data removed]"
          },
          "metadata": {}
        }
      ],
      "source": [
        "def show_images(images):\n",
        "    images = torch.reshape(\n",
        "        images, [images.shape[0], -1]\n",
        "    )\n",
        "    sqrtn = int(math.ceil(math.sqrt(images.shape[0])))\n",
        "    sqrtimg = int(math.ceil(math.sqrt(images.shape[1])))\n",
        "\n",
        "    fig = plt.figure(figsize=(sqrtn, sqrtn))\n",
        "    gs = gridspec.GridSpec(sqrtn, sqrtn)\n",
        "    gs.update(wspace=0.05, hspace=0.05)\n",
        "\n",
        "    for i, img in enumerate(images):\n",
        "        ax = plt.subplot(gs[i])\n",
        "        plt.axis(\"off\")\n",
        "        ax.set_xticklabels([])\n",
        "        ax.set_yticklabels([])\n",
        "        ax.set_aspect(\"equal\")\n",
        "        plt.imshow(img.reshape([sqrtimg, sqrtimg]))\n",
        "    return\n",
        "\n",
        "data_iter = iter(loader_train)\n",
        "imgs, _ = next(data_iter)\n",
        "imgs = imgs.view(batch_size, 784)\n",
        "show_images(imgs)"
      ]
    },
    {
      "cell_type": "markdown",
      "metadata": {
        "id": "tOdQ3r5diEwr"
      },
      "source": [
        "# Fully Connected VAE\n",
        "\n",
        "Your first VAE implementation will consist solely of fully connected layers. You'll take the `1 x 28 x 28` shape of our input and flatten the features to create an input dimension size of 784. In this section you'll define the Encoder and Decoder models in the VAE class and implement the reparametrization trick, forward pass, and loss function to train your first VAE."
      ]
    },
    {
      "cell_type": "markdown",
      "metadata": {
        "id": "XOfC7oDrkUhl"
      },
      "source": [
        "## FC-VAE Forward\n",
        "\n",
        "Complete the VAE class by writing the initialization and the forward pass. The forward pass should pass the input image through the encoder to calculate the estimation of mu and logvar, reparametrize to estimate the latent space z, and finally pass z into the decoder to generate an image.\n",
        "\n"
      ]
    },
    {
      "cell_type": "code",
      "source": [
        "# Define a simple VAE class with MLP architecture\n",
        "\n",
        "class VAE_MLP(nn.Module):\n",
        "    def __init__(self, input_dim, hidden_dim, latent_dim, device):\n",
        "        super(VAE_MLP, self).__init__()\n",
        "        self.device = device\n",
        "\n",
        "        # ----------------------------------------------------\n",
        "        # Encoder\n",
        "        # ----------------------------------------------------\n",
        "        self.encoder = nn.Sequential(\n",
        "            nn.Linear(input_dim, hidden_dim),\n",
        "            nn.ReLU(),\n",
        "            nn.Linear(hidden_dim, hidden_dim),\n",
        "            nn.ReLU(),\n",
        "        )\n",
        "\n",
        "        self.fc_mu = nn.Linear(hidden_dim, latent_dim)\n",
        "        self.fc_logvar = nn.Linear(hidden_dim, latent_dim)\n",
        "\n",
        "        # ----------------------------------------------------\n",
        "        # Decoder\n",
        "        # ----------------------------------------------------\n",
        "        self.decoder = nn.Sequential(\n",
        "            nn.Linear(latent_dim, hidden_dim),\n",
        "            nn.ReLU(),\n",
        "            nn.Linear(hidden_dim, hidden_dim),\n",
        "            nn.ReLU(),\n",
        "            nn.Linear(hidden_dim, input_dim),\n",
        "            nn.Sigmoid()  # Since MNIST is 0..1, a sigmoid output is common\n",
        "        )\n",
        "\n",
        "    def reparameterize(self, mu, logvar):\n",
        "        # Reparameterization trick: z = mu + sigma * eps\n",
        "        # where eps ~ N(0, I)\n",
        "        std = torch.exp(0.5 * logvar)\n",
        "        eps = torch.randn_like(std).to(self.device)\n",
        "        z = mu + std * eps\n",
        "        return z\n",
        "\n",
        "    def forward(self, x):\n",
        "        \"\"\"\n",
        "        Forward pass:\n",
        "          1) encode x -> (mu, logvar)\n",
        "          2) reparameterize to get z\n",
        "          3) decode z -> reconstruction\n",
        "        \"\"\"\n",
        "        # Flatten input: x is [batch_size, 1, 28, 28] => [batch_size, 784]\n",
        "        x = x.view(x.size(0), -1)\n",
        "\n",
        "        # Encode\n",
        "        h_enc = self.encoder(x)\n",
        "        mu = self.fc_mu(h_enc)\n",
        "        logvar = self.fc_logvar(h_enc)\n",
        "\n",
        "        # Reparameterize\n",
        "        z = self.reparameterize(mu, logvar)\n",
        "\n",
        "        # Decode\n",
        "        recon = self.decoder(z)\n",
        "\n",
        "        return recon, mu, logvar"
      ],
      "metadata": {
        "id": "Wg7Yk0ODjWPa"
      },
      "execution_count": 5,
      "outputs": []
    },
    {
      "cell_type": "markdown",
      "source": [
        "## Loss Function\n",
        "\n",
        "Complete the vae_loss function below"
      ],
      "metadata": {
        "id": "qfNOoeJ3qPtR"
      }
    },
    {
      "cell_type": "code",
      "execution_count": 6,
      "metadata": {
        "id": "vF2ZUj2FjrFa"
      },
      "outputs": [],
      "source": [
        "# Define VAE loss function\n",
        "\n",
        "def vae_loss(recon, data, mu, logvar):\n",
        "    \"\"\"\n",
        "    Computes the VAE loss = Reconstruction Loss + KL Divergence\n",
        "    Here, we use binary cross-entropy as the reconstruction loss,\n",
        "    assuming the input pixels are in [0,1].\n",
        "    \"\"\"\n",
        "    # Flatten the data again to match recon's shape [N, 784]\n",
        "    data = data.view(data.size(0), -1)\n",
        "\n",
        "    # 1) Reconstruction loss (binary cross-entropy)\n",
        "    recon_loss = F.binary_cross_entropy(recon, data, reduction='sum')\n",
        "\n",
        "    # 2) KL Divergence loss\n",
        "    #    KL = -0.5 * sum(1 + logvar - mu^2 - exp(logvar))\n",
        "    #    We sum over latent dim, then average over batch.\n",
        "    kl_loss = -0.5 * torch.sum(1 + logvar - mu.pow(2) - logvar.exp())\n",
        "\n",
        "    # We typically return the sum of these terms.\n",
        "    # If you prefer average per batch, you can divide by batch size.\n",
        "    total_loss = recon_loss + kl_loss\n",
        "    return total_loss"
      ]
    },
    {
      "cell_type": "markdown",
      "metadata": {
        "id": "wV8fbzenkAXm"
      },
      "source": [
        "\n",
        "## Train a model\n",
        "\n",
        "Now that we have our VAE defined and loss function ready, lets train our model!\n",
        "\n",
        "Complete the train_vae_mlp function to train the network."
      ]
    },
    {
      "cell_type": "code",
      "source": [
        "def train_vae_mlp(model, train_loader, num_epochs=20, learning_rate=1e-3):\n",
        "    model.to(model.device)\n",
        "    model.train()\n",
        "    optimizer = optim.Adam(model.parameters(), lr=learning_rate)\n",
        "\n",
        "    for epoch in range(num_epochs):\n",
        "        print()\n",
        "        print(45 * \"=\")\n",
        "        total_loss = []\n",
        "\n",
        "        for batch_idx, (data, _) in enumerate(train_loader):\n",
        "            data = data.to(model.device)\n",
        "\n",
        "            # Forward pass\n",
        "            recon, mu, logvar = model(data)\n",
        "\n",
        "            # Compute loss\n",
        "            loss = vae_loss(recon, data, mu, logvar)\n",
        "\n",
        "            # Backprop and optimize\n",
        "            optimizer.zero_grad()\n",
        "            loss.backward()\n",
        "            optimizer.step()\n",
        "\n",
        "            total_loss.append(loss.item())\n",
        "\n",
        "        avg_loss = float(sum(total_loss) / len(total_loss))\n",
        "        print(f'VAE- Epoch [{epoch+1}/{num_epochs}], Loss: {avg_loss}')"
      ],
      "metadata": {
        "id": "aOc6Z94M3AbP"
      },
      "execution_count": 7,
      "outputs": []
    },
    {
      "cell_type": "code",
      "source": [
        "# TODO: Train VAE\n",
        "latent_size = 20\n",
        "hidden_dim = 400\n",
        "VAE = VAE_MLP(input_dim=784, hidden_dim=hidden_dim, latent_dim=latent_size, device=device)\n",
        "\n",
        "train_vae_mlp(VAE, loader_train, num_epochs=30, learning_rate=1e-3)"
      ],
      "metadata": {
        "id": "Ph7_ua333SFV",
        "colab": {
          "base_uri": "https://localhost:8080/"
        },
        "outputId": "8737f3ee-3d0e-41c9-f133-c169cca02984"
      },
      "execution_count": 10,
      "outputs": [
        {
          "output_type": "stream",
          "name": "stdout",
          "text": [
            "\n",
            "=============================================\n",
            "VAE- Epoch [1/30], Loss: 22966.852067474625\n",
            "\n",
            "=============================================\n",
            "VAE- Epoch [2/30], Loss: 16543.698208800746\n",
            "\n",
            "=============================================\n",
            "VAE- Epoch [3/30], Loss: 15130.119140625\n",
            "\n",
            "=============================================\n",
            "VAE- Epoch [4/30], Loss: 14476.677179320246\n",
            "\n",
            "=============================================\n",
            "VAE- Epoch [5/30], Loss: 14099.905306824252\n",
            "\n",
            "=============================================\n",
            "VAE- Epoch [6/30], Loss: 13858.864489433094\n",
            "\n",
            "=============================================\n",
            "VAE- Epoch [7/30], Loss: 13681.252213959002\n",
            "\n",
            "=============================================\n",
            "VAE- Epoch [8/30], Loss: 13543.289515307826\n",
            "\n",
            "=============================================\n",
            "VAE- Epoch [9/30], Loss: 13430.079293536324\n",
            "\n",
            "=============================================\n",
            "VAE- Epoch [10/30], Loss: 13347.18646083734\n",
            "\n",
            "=============================================\n",
            "VAE- Epoch [11/30], Loss: 13260.557489900508\n",
            "\n",
            "=============================================\n",
            "VAE- Epoch [12/30], Loss: 13197.467750484107\n",
            "\n",
            "=============================================\n",
            "VAE- Epoch [13/30], Loss: 13140.135402059963\n",
            "\n",
            "=============================================\n",
            "VAE- Epoch [14/30], Loss: 13082.832749065172\n",
            "\n",
            "=============================================\n",
            "VAE- Epoch [15/30], Loss: 13046.411366519766\n",
            "\n",
            "=============================================\n",
            "VAE- Epoch [16/30], Loss: 13000.444882645566\n",
            "\n",
            "=============================================\n",
            "VAE- Epoch [17/30], Loss: 12961.55275524172\n",
            "\n",
            "=============================================\n",
            "VAE- Epoch [18/30], Loss: 12923.03905206664\n",
            "\n",
            "=============================================\n",
            "VAE- Epoch [19/30], Loss: 12902.184263571715\n",
            "\n",
            "=============================================\n",
            "VAE- Epoch [20/30], Loss: 12864.825700287127\n",
            "\n",
            "=============================================\n",
            "VAE- Epoch [21/30], Loss: 12837.18556774172\n",
            "\n",
            "=============================================\n",
            "VAE- Epoch [22/30], Loss: 12821.915197649572\n",
            "\n",
            "=============================================\n",
            "VAE- Epoch [23/30], Loss: 12798.544598440838\n",
            "\n",
            "=============================================\n",
            "VAE- Epoch [24/30], Loss: 12780.152003622463\n",
            "\n",
            "=============================================\n",
            "VAE- Epoch [25/30], Loss: 12752.518049712873\n",
            "\n",
            "=============================================\n",
            "VAE- Epoch [26/30], Loss: 12739.992433727297\n",
            "\n",
            "=============================================\n",
            "VAE- Epoch [27/30], Loss: 12727.340012770434\n",
            "\n",
            "=============================================\n",
            "VAE- Epoch [28/30], Loss: 12701.348409538596\n",
            "\n",
            "=============================================\n",
            "VAE- Epoch [29/30], Loss: 12689.19539596688\n",
            "\n",
            "=============================================\n",
            "VAE- Epoch [30/30], Loss: 12673.514220669738\n"
          ]
        }
      ]
    },
    {
      "cell_type": "markdown",
      "metadata": {
        "id": "JT6Ek-26jjJD"
      },
      "source": [
        "## Visualize results\n",
        "\n",
        "After training our VAE network, we're able to take advantage of its power to generate new training examples. This process simply involves the decoder: we intialize some random distribution for our latent spaces z, and generate new examples by passing these latent space into the decoder.\n",
        "\n",
        "Run the cell below to generate new images! You should be able to visually recognize many of the digits, although some may be a bit blurry or badly formed. Our next model will see improvement in these results."
      ]
    },
    {
      "cell_type": "code",
      "execution_count": 11,
      "metadata": {
        "id": "RhhrsgrMTyTi",
        "colab": {
          "base_uri": "https://localhost:8080/",
          "height": 139
        },
        "outputId": "b7db3b8a-8517-44c8-a69e-9e6349ab5a27"
      },
      "outputs": [
        {
          "output_type": "display_data",
          "data": {
            "text/plain": [
              "<Figure size 1000x100 with 10 Axes>"
            ],
            "image/png": "[encoded data removed]"
          },
          "metadata": {}
        }
      ],
      "source": [
        "num_samples = 10\n",
        "z = torch.randn(num_samples, latent_size).to(device=device)\n",
        "\n",
        "VAE.eval()\n",
        "samples = VAE.decoder(z).data.cpu().numpy()\n",
        "\n",
        "fig = plt.figure(figsize=(num_samples, 1))\n",
        "gspec = gridspec.GridSpec(1, num_samples)\n",
        "gspec.update(wspace=0.05, hspace=0.05)\n",
        "for i, sample in enumerate(samples):\n",
        "    ax = plt.subplot(gspec[i])\n",
        "    plt.axis('off')\n",
        "    if i == 4:\n",
        "      plt.title('Generated Samples of VAE')\n",
        "    ax.set_xticklabels([])\n",
        "    ax.set_yticklabels([])\n",
        "    ax.set_aspect('equal')\n",
        "    plt.imshow(sample.reshape(28,28), cmap='Greys_r')"
      ]
    },
    {
      "cell_type": "markdown",
      "metadata": {
        "id": "wzS_ufzEkhah"
      },
      "source": [
        "# Conditional FC-VAE\n",
        "\n",
        "The second model you'll develop will be very similar to the FC-VAE, but with a slight conditional twist to it. We'll use what we know about the labels of each MNIST image, and *condition* our latent space and image generation on the specific class. Instead of $q_{\\phi} (z|x)$ and $p_{\\phi}(x|z)$ we have $q_{\\phi} (z|x,c)$  and $p_{\\phi}(x|z, c)$\n",
        "\n",
        "This will allow us to do some powerful conditional generation at inference time. We can specifically choose to generate more 1s, 2s, 9s, etc. instead of simply generating new digits randomly."
      ]
    },
    {
      "cell_type": "markdown",
      "metadata": {
        "id": "hle0JuhwklKc"
      },
      "source": [
        "## Define Network with class input\n",
        "\n",
        "Your CVAE architecture should be the same as your FC-VAE architecture, except you'll now concatenate a one-hot label vector to both the x input (in our case, the flattened image dimensions) and the z latent space.\n",
        "\n",
        "If the one-hot vector is called `c`, then `c[label] = 1` and `c = 0` elsewhere.\n",
        "\n",
        "For the `CVAE_MLP` class use the same FC-VAE architecture implemented in the last network.\n"
      ]
    },
    {
      "cell_type": "code",
      "source": [
        "# Define a simple CVAE class with MLP architecture\n",
        "\n",
        "class CVAE_MLP(nn.Module):\n",
        "    def __init__(self, input_dim, hidden_dim, latent_dim, num_classes, device):\n",
        "        super(CVAE_MLP, self).__init__()\n",
        "        self.device = device\n",
        "        self.num_classes = num_classes\n",
        "\n",
        "        # ----------------------------------------------------\n",
        "        # Encoder\n",
        "        # ----------------------------------------------------\n",
        "        # The input to the encoder is [x, y_onehot], dimension = 784 + num_classes\n",
        "        self.encoder = nn.Sequential(\n",
        "            nn.Linear(input_dim + num_classes, hidden_dim),\n",
        "            nn.ReLU(),\n",
        "            nn.Linear(hidden_dim, hidden_dim),\n",
        "            nn.ReLU(),\n",
        "        )\n",
        "\n",
        "        self.fc_mu = nn.Linear(hidden_dim, latent_dim)\n",
        "        self.fc_logvar = nn.Linear(hidden_dim, latent_dim)\n",
        "\n",
        "        # This classifier will predict the class from the latent features\n",
        "        self.fc_class = nn.Linear(hidden_dim, num_classes)\n",
        "\n",
        "        # ----------------------------------------------------\n",
        "        # Decoder\n",
        "        # ----------------------------------------------------\n",
        "        # The decoder sees [z, y_onehot], dimension = latent_dim + num_classes\n",
        "        self.decoder = nn.Sequential(\n",
        "            nn.Linear(latent_dim + num_classes, hidden_dim),\n",
        "            nn.ReLU(),\n",
        "            nn.Linear(hidden_dim, hidden_dim),\n",
        "            nn.ReLU(),\n",
        "            nn.Linear(hidden_dim, input_dim),\n",
        "            nn.Sigmoid()\n",
        "        )\n",
        "\n",
        "    def reparameterize(self, mu, logvar):\n",
        "        std = torch.exp(0.5 * logvar)\n",
        "        eps = torch.randn_like(std).to(self.device)\n",
        "        z = mu + std * eps\n",
        "        return z\n",
        "\n",
        "    def forward(self, x, y_onehot):\n",
        "        \"\"\"\n",
        "        Forward pass:\n",
        "          1) Flatten x\n",
        "          2) Concatenate x with y_onehot, encode => (mu, logvar)\n",
        "          3) Reparameterize => z\n",
        "          4) Concatenate z with y_onehot => decode => recon\n",
        "          5) Also produce class_logits from the encoder features\n",
        "        \"\"\"\n",
        "        # Flatten the image\n",
        "        x = x.view(x.size(0), -1)\n",
        "\n",
        "        # Encoder\n",
        "        enc_input = torch.cat([x, y_onehot], dim=1)  # [N, 784 + 10]\n",
        "        h_enc = self.encoder(enc_input)\n",
        "\n",
        "        mu = self.fc_mu(h_enc)\n",
        "        logvar = self.fc_logvar(h_enc)\n",
        "        class_logits = self.fc_class(h_enc)\n",
        "\n",
        "        # Reparameterize\n",
        "        z = self.reparameterize(mu, logvar)\n",
        "\n",
        "        # Decoder\n",
        "        dec_input = torch.cat([z, y_onehot], dim=1)  # [N, latent_dim + 10]\n",
        "        recon = self.decoder(dec_input)\n",
        "\n",
        "        return recon, mu, logvar, class_logits"
      ],
      "metadata": {
        "id": "iGox0wzC-NWJ"
      },
      "execution_count": 12,
      "outputs": []
    },
    {
      "cell_type": "markdown",
      "source": [
        "If you want to build helper functions, you can write the code in the below cell."
      ],
      "metadata": {
        "id": "FKw9Lidzwn55"
      }
    },
    {
      "cell_type": "code",
      "source": [],
      "metadata": {
        "id": "PHmq08N4w0Of"
      },
      "execution_count": null,
      "outputs": []
    },
    {
      "cell_type": "markdown",
      "source": [
        "# Loss Function"
      ],
      "metadata": {
        "id": "IQMuHF9Yw3ZY"
      }
    },
    {
      "cell_type": "markdown",
      "source": [
        "Complete the cvae_loss function below"
      ],
      "metadata": {
        "id": "yFIwbGnuw9qH"
      }
    },
    {
      "cell_type": "code",
      "source": [
        "# Define CVAE loss function\n",
        "def cvae_loss(recon, data, mu, logvar, class_logits, labels):\n",
        "    # Flatten data to match recon shape\n",
        "    data = data.view(data.size(0), -1)\n",
        "\n",
        "    # 1) Reconstruction loss\n",
        "    recon_loss = F.binary_cross_entropy(recon, data, reduction='sum')\n",
        "\n",
        "    # 2) KL divergence\n",
        "    kl_loss = -0.5 * torch.sum(1 + logvar - mu.pow(2) - logvar.exp())\n",
        "\n",
        "    # 3) Cross-entropy loss for predicted classes\n",
        "    #    class_logits shape: [batch_size, num_classes]\n",
        "    #    labels shape: [batch_size] (not one-hot)\n",
        "    class_loss = F.cross_entropy(class_logits, labels, reduction='sum')\n",
        "\n",
        "    total_loss = recon_loss + kl_loss + class_loss\n",
        "    return total_loss\n"
      ],
      "metadata": {
        "id": "5V181vOVxEHf"
      },
      "execution_count": 13,
      "outputs": []
    },
    {
      "cell_type": "markdown",
      "metadata": {
        "id": "bUzKyFI9kp8i"
      },
      "source": [
        "## Train model\n",
        "\n",
        "Using the same training script, let's now train our CVAE!\n",
        "\n"
      ]
    },
    {
      "cell_type": "code",
      "execution_count": 14,
      "metadata": {
        "id": "N1dzKDUsunbD"
      },
      "outputs": [],
      "source": [
        "# Training Loop - CVAE (MLP)\n",
        "def train_cvae_mlp(model, train_loader, num_epochs=10, learning_rate=1e-3):\n",
        "    model.to(model.device)\n",
        "    model.train()\n",
        "    optimizer = optim.Adam(model.parameters(), lr=learning_rate)\n",
        "\n",
        "    for epoch in range(num_epochs):\n",
        "        print()\n",
        "        print(45 * \"=\")\n",
        "        total_loss = []\n",
        "        for batch_idx, (data, labels) in enumerate(train_loader):\n",
        "            data = data.to(model.device)\n",
        "            labels = labels.to(model.device)\n",
        "\n",
        "            # One-hot encode the labels: shape [batch_size, num_classes]\n",
        "            # e.g. for MNIST, num_classes=10\n",
        "            y_onehot = F.one_hot(labels, num_classes=model.num_classes).float()\n",
        "\n",
        "            # Forward pass\n",
        "            recon, mu, logvar, class_logits = model(data, y_onehot)\n",
        "\n",
        "            # Compute loss\n",
        "            loss = cvae_loss(recon, data, mu, logvar, class_logits, labels)\n",
        "\n",
        "            # Backprop and optimize\n",
        "            optimizer.zero_grad()\n",
        "            loss.backward()\n",
        "            optimizer.step()\n",
        "\n",
        "            total_loss.append(loss.item())\n",
        "\n",
        "        avg_loss = float(sum(total_loss)/len(total_loss))\n",
        "        print(f'CVAE-MLP Epoch [{epoch+1}/{num_epochs}], Loss: {avg_loss}')"
      ]
    },
    {
      "cell_type": "code",
      "source": [
        "# TODO: Train CVAE\n",
        "latent_size = 20\n",
        "hidden_dim = 400\n",
        "num_classes = 10\n",
        "\n",
        "CVAE = CVAE_MLP(input_dim=784,\n",
        "                hidden_dim=hidden_dim,\n",
        "                latent_dim=latent_size,\n",
        "                num_classes=num_classes,\n",
        "                device=device)\n",
        "\n",
        "train_cvae_mlp(CVAE, loader_train, num_epochs=30, learning_rate=1e-3)"
      ],
      "metadata": {
        "id": "JgrqOKl4x0eX",
        "colab": {
          "base_uri": "https://localhost:8080/"
        },
        "outputId": "51009ec6-8d2b-4371-a239-9794637cadfc"
      },
      "execution_count": 16,
      "outputs": [
        {
          "output_type": "stream",
          "name": "stdout",
          "text": [
            "\n",
            "=============================================\n",
            "CVAE-MLP Epoch [1/30], Loss: 21428.037862663594\n",
            "\n",
            "=============================================\n",
            "CVAE-MLP Epoch [2/30], Loss: 15663.954462556758\n",
            "\n",
            "=============================================\n",
            "CVAE-MLP Epoch [3/30], Loss: 14488.32442533053\n",
            "\n",
            "=============================================\n",
            "CVAE-MLP Epoch [4/30], Loss: 13856.709011501736\n",
            "\n",
            "=============================================\n",
            "CVAE-MLP Epoch [5/30], Loss: 13471.921716412928\n",
            "\n",
            "=============================================\n",
            "CVAE-MLP Epoch [6/30], Loss: 13213.476007445246\n",
            "\n",
            "=============================================\n",
            "CVAE-MLP Epoch [7/30], Loss: 13024.178656684027\n",
            "\n",
            "=============================================\n",
            "CVAE-MLP Epoch [8/30], Loss: 12877.720112596822\n",
            "\n",
            "=============================================\n",
            "CVAE-MLP Epoch [9/30], Loss: 12769.385255992922\n",
            "\n",
            "=============================================\n",
            "CVAE-MLP Epoch [10/30], Loss: 12666.286752554086\n",
            "\n",
            "=============================================\n",
            "CVAE-MLP Epoch [11/30], Loss: 12578.467189169338\n",
            "\n",
            "=============================================\n",
            "CVAE-MLP Epoch [12/30], Loss: 12502.782045022035\n",
            "\n",
            "=============================================\n",
            "CVAE-MLP Epoch [13/30], Loss: 12451.447737212873\n",
            "\n",
            "=============================================\n",
            "CVAE-MLP Epoch [14/30], Loss: 12394.484120426016\n",
            "\n",
            "=============================================\n",
            "CVAE-MLP Epoch [15/30], Loss: 12351.101606320111\n",
            "\n",
            "=============================================\n",
            "CVAE-MLP Epoch [16/30], Loss: 12294.23578767695\n",
            "\n",
            "=============================================\n",
            "CVAE-MLP Epoch [17/30], Loss: 12255.774948250535\n",
            "\n",
            "=============================================\n",
            "CVAE-MLP Epoch [18/30], Loss: 12222.788056724092\n",
            "\n",
            "=============================================\n",
            "CVAE-MLP Epoch [19/30], Loss: 12191.649324335604\n",
            "\n",
            "=============================================\n",
            "CVAE-MLP Epoch [20/30], Loss: 12160.082790798611\n",
            "\n",
            "=============================================\n",
            "CVAE-MLP Epoch [21/30], Loss: 12128.572839459803\n",
            "\n",
            "=============================================\n",
            "CVAE-MLP Epoch [22/30], Loss: 12102.909753522303\n",
            "\n",
            "=============================================\n",
            "CVAE-MLP Epoch [23/30], Loss: 12074.300005008014\n",
            "\n",
            "=============================================\n",
            "CVAE-MLP Epoch [24/30], Loss: 12057.703755174947\n",
            "\n",
            "=============================================\n",
            "CVAE-MLP Epoch [25/30], Loss: 12038.325908954326\n",
            "\n",
            "=============================================\n",
            "CVAE-MLP Epoch [26/30], Loss: 12009.064014923879\n",
            "\n",
            "=============================================\n",
            "CVAE-MLP Epoch [27/30], Loss: 11996.29966905382\n",
            "\n",
            "=============================================\n",
            "CVAE-MLP Epoch [28/30], Loss: 11978.224911942441\n",
            "\n",
            "=============================================\n",
            "CVAE-MLP Epoch [29/30], Loss: 11957.918225410656\n",
            "\n",
            "=============================================\n",
            "CVAE-MLP Epoch [30/30], Loss: 11943.954170422676\n"
          ]
        }
      ]
    },
    {
      "cell_type": "markdown",
      "metadata": {
        "id": "GMAyFBZTkr1Y"
      },
      "source": [
        "## Visualize Results\n",
        "\n",
        "You've trained your CVAE, now let's conditionally generate some new data! This time, we can specify the class we want to generate by adding our one hot matrix of class labels. We use `torch.eye` to create an identity matrix, which effectively gives us one label for each digit. When you run the cell below, you should get one example per digit. Each digit should be reasonably distinguishable (it is ok to run this cell a few times to save your best results).\n",
        "\n"
      ]
    },
    {
      "cell_type": "code",
      "execution_count": 17,
      "metadata": {
        "id": "GCfwpz0NALdZ",
        "colab": {
          "base_uri": "https://localhost:8080/",
          "height": 139
        },
        "outputId": "d41d870c-419f-4585-d5f1-45bb3ac56ffa"
      },
      "outputs": [
        {
          "output_type": "display_data",
          "data": {
            "text/plain": [
              "<Figure size 1000x100 with 10 Axes>"
            ],
            "image/png": "[encoded data removed]"
          },
          "metadata": {}
        }
      ],
      "source": [
        "num_samples = 10\n",
        "z = torch.randn(num_samples, latent_size)\n",
        "\n",
        "c = torch.eye(num_samples, 10)\n",
        "\n",
        "z = torch.cat((z,c), dim=-1).to(device='cuda')\n",
        "CVAE.eval()\n",
        "samples = CVAE.decoder(z).data.cpu().numpy()\n",
        "\n",
        "fig = plt.figure(figsize=(num_samples, 1))\n",
        "gspec = gridspec.GridSpec(1, num_samples)\n",
        "gspec.update(wspace=0.05, hspace=0.05)\n",
        "for i, sample in enumerate(samples):\n",
        "    ax = plt.subplot(gspec[i])\n",
        "    if i == 4:\n",
        "      plt.title('Generated Samples of CVAE')\n",
        "    plt.axis('off')\n",
        "    ax.set_xticklabels([])\n",
        "    ax.set_yticklabels([])\n",
        "    ax.set_aspect('equal')\n",
        "    plt.imshow(sample.reshape(28, 28), cmap='Greys_r')"
      ]
    }
  ],
  "metadata": {
    "colab": {
      "provenance": [],
      "gpuType": "T4"
    },
    "kernelspec": {
      "display_name": "Python 3",
      "name": "python3"
    },
    "language_info": {
      "codemirror_mode": {
        "name": "ipython",
        "version": 3
      },
      "file_extension": ".py",
      "mimetype": "text/x-python",
      "name": "python",
      "nbconvert_exporter": "python",
      "pygments_lexer": "ipython3",
      "version": "3.9.9"
    },
    "accelerator": "GPU"
  },
  "nbformat": 4,
  "nbformat_minor": 0
}