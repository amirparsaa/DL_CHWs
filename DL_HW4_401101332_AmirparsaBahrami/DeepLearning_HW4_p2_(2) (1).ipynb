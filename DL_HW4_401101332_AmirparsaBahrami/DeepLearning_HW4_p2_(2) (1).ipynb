{
  "cells": [
    {
      "cell_type": "markdown",
      "metadata": {
        "id": "w_a3OXnSeV0z"
      },
      "source": [
        "\n",
        "<br>\n",
        "<font>\n",
        "<div dir=ltr align=center>\n",
        "<font color=0F5298 size=10>\n",
        "    Deep Learning - HW4 <br>\n",
        "<font color=2565AE size=5>\n",
        "    Electrical Engineering Department <br>\n",
        "    winter 2024<br>\n",
        "<font color=3C99D size=5>\n",
        "    Practical Assignment 2 <br>\n",
        "<font color=696880 size=4>\n",
        "    Armin Ghojehzadeh\n",
        "\n",
        "____"
      ]
    },
    {
      "cell_type": "markdown",
      "metadata": {
        "id": "E5Z2ZhTjIr64"
      },
      "source": [
        "# 🔴 **Import Libs**"
      ]
    },
    {
      "cell_type": "code",
      "source": [
        "!pip uninstall -y torch torchvision torchaudio torchtext torchdata\n",
        "# Install specific versions of PyTorch and related packages with CUDA 11.7 support\n",
        "!pip install torch==2.0.1+cu117 torchvision==0.15.2+cu117 torchaudio==2.0.2+cu117 -f https://download.pytorch.org/whl/cu117/torch_stable.html\n",
        "# Install torchtext and torchdata\n",
        "!pip install torchtext==0.15.2 torchdata==0.6.1\n",
        "!pip install portalocker>==2.0.0"
      ],
      "metadata": {
        "colab": {
          "base_uri": "https://localhost:8080/"
        },
        "id": "BJNiIMEfa4d0",
        "outputId": "2e0d63d1-b54e-4ef2-cd5d-64fdb46e6fbc"
      },
      "execution_count": 1,
      "outputs": [
        {
          "output_type": "stream",
          "name": "stdout",
          "text": [
            "Found existing installation: torch 2.5.1+cu121\n",
            "Uninstalling torch-2.5.1+cu121:\n",
            "  Successfully uninstalled torch-2.5.1+cu121\n",
            "Found existing installation: torchvision 0.20.1+cu121\n",
            "Uninstalling torchvision-0.20.1+cu121:\n",
            "  Successfully uninstalled torchvision-0.20.1+cu121\n",
            "Found existing installation: torchaudio 2.5.1+cu121\n",
            "Uninstalling torchaudio-2.5.1+cu121:\n",
            "  Successfully uninstalled torchaudio-2.5.1+cu121\n",
            "\u001b[33mWARNING: Skipping torchtext as it is not installed.\u001b[0m\u001b[33m\n",
            "\u001b[0m\u001b[33mWARNING: Skipping torchdata as it is not installed.\u001b[0m\u001b[33m\n",
            "\u001b[0mLooking in links: https://download.pytorch.org/whl/cu117/torch_stable.html\n",
            "Collecting torch==2.0.1+cu117\n",
            "  Downloading https://download.pytorch.org/whl/cu117/torch-2.0.1%2Bcu117-cp310-cp310-linux_x86_64.whl (1843.9 MB)\n",
            "\u001b[2K     \u001b[90m━━━━━━━━━━━━━━━━━━━━━━━━━━━━━━━━━━━━━━━━\u001b[0m \u001b[32m1.8/1.8 GB\u001b[0m \u001b[31m778.9 kB/s\u001b[0m eta \u001b[36m0:00:00\u001b[0m\n",
            "\u001b[?25hCollecting torchvision==0.15.2+cu117\n",
            "  Downloading https://download.pytorch.org/whl/cu117/torchvision-0.15.2%2Bcu117-cp310-cp310-linux_x86_64.whl (6.1 MB)\n",
            "\u001b[2K     \u001b[90m━━━━━━━━━━━━━━━━━━━━━━━━━━━━━━━━━━━━━━━━\u001b[0m \u001b[32m6.1/6.1 MB\u001b[0m \u001b[31m61.4 MB/s\u001b[0m eta \u001b[36m0:00:00\u001b[0m\n",
            "\u001b[?25hCollecting torchaudio==2.0.2+cu117\n",
            "  Downloading https://download.pytorch.org/whl/cu117/torchaudio-2.0.2%2Bcu117-cp310-cp310-linux_x86_64.whl (4.4 MB)\n",
            "\u001b[2K     \u001b[90m━━━━━━━━━━━━━━━━━━━━━━━━━━━━━━━━━━━━━━━━\u001b[0m \u001b[32m4.4/4.4 MB\u001b[0m \u001b[31m83.5 MB/s\u001b[0m eta \u001b[36m0:00:00\u001b[0m\n",
            "\u001b[?25hRequirement already satisfied: filelock in /usr/local/lib/python3.10/dist-packages (from torch==2.0.1+cu117) (3.16.1)\n",
            "Requirement already satisfied: typing-extensions in /usr/local/lib/python3.10/dist-packages (from torch==2.0.1+cu117) (4.12.2)\n",
            "Requirement already satisfied: sympy in /usr/local/lib/python3.10/dist-packages (from torch==2.0.1+cu117) (1.13.1)\n",
            "Requirement already satisfied: networkx in /usr/local/lib/python3.10/dist-packages (from torch==2.0.1+cu117) (3.4.2)\n",
            "Requirement already satisfied: jinja2 in /usr/local/lib/python3.10/dist-packages (from torch==2.0.1+cu117) (3.1.4)\n",
            "Collecting triton==2.0.0 (from torch==2.0.1+cu117)\n",
            "  Downloading triton-2.0.0-1-cp310-cp310-manylinux2014_x86_64.manylinux_2_17_x86_64.whl.metadata (1.0 kB)\n",
            "Requirement already satisfied: numpy in /usr/local/lib/python3.10/dist-packages (from torchvision==0.15.2+cu117) (1.26.4)\n",
            "Requirement already satisfied: requests in /usr/local/lib/python3.10/dist-packages (from torchvision==0.15.2+cu117) (2.32.3)\n",
            "Requirement already satisfied: pillow!=8.3.*,>=5.3.0 in /usr/local/lib/python3.10/dist-packages (from torchvision==0.15.2+cu117) (11.0.0)\n",
            "Requirement already satisfied: cmake in /usr/local/lib/python3.10/dist-packages (from triton==2.0.0->torch==2.0.1+cu117) (3.31.2)\n",
            "Collecting lit (from triton==2.0.0->torch==2.0.1+cu117)\n",
            "  Downloading lit-18.1.8-py3-none-any.whl.metadata (2.5 kB)\n",
            "Requirement already satisfied: MarkupSafe>=2.0 in /usr/local/lib/python3.10/dist-packages (from jinja2->torch==2.0.1+cu117) (3.0.2)\n",
            "Requirement already satisfied: charset-normalizer<4,>=2 in /usr/local/lib/python3.10/dist-packages (from requests->torchvision==0.15.2+cu117) (3.4.0)\n",
            "Requirement already satisfied: idna<4,>=2.5 in /usr/local/lib/python3.10/dist-packages (from requests->torchvision==0.15.2+cu117) (3.10)\n",
            "Requirement already satisfied: urllib3<3,>=1.21.1 in /usr/local/lib/python3.10/dist-packages (from requests->torchvision==0.15.2+cu117) (2.2.3)\n",
            "Requirement already satisfied: certifi>=2017.4.17 in /usr/local/lib/python3.10/dist-packages (from requests->torchvision==0.15.2+cu117) (2024.12.14)\n",
            "Requirement already satisfied: mpmath<1.4,>=1.1.0 in /usr/local/lib/python3.10/dist-packages (from sympy->torch==2.0.1+cu117) (1.3.0)\n",
            "Downloading triton-2.0.0-1-cp310-cp310-manylinux2014_x86_64.manylinux_2_17_x86_64.whl (63.3 MB)\n",
            "\u001b[2K   \u001b[90m━━━━━━━━━━━━━━━━━━━━━━━━━━━━━━━━━━━━━━━━\u001b[0m \u001b[32m63.3/63.3 MB\u001b[0m \u001b[31m11.7 MB/s\u001b[0m eta \u001b[36m0:00:00\u001b[0m\n",
            "\u001b[?25hDownloading lit-18.1.8-py3-none-any.whl (96 kB)\n",
            "\u001b[2K   \u001b[90m━━━━━━━━━━━━━━━━━━━━━━━━━━━━━━━━━━━━━━━━\u001b[0m \u001b[32m96.4/96.4 kB\u001b[0m \u001b[31m8.1 MB/s\u001b[0m eta \u001b[36m0:00:00\u001b[0m\n",
            "\u001b[?25hInstalling collected packages: lit, triton, torch, torchvision, torchaudio\n",
            "Successfully installed lit-18.1.8 torch-2.0.1+cu117 torchaudio-2.0.2+cu117 torchvision-0.15.2+cu117 triton-2.0.0\n",
            "Collecting torchtext==0.15.2\n",
            "  Downloading torchtext-0.15.2-cp310-cp310-manylinux1_x86_64.whl.metadata (7.4 kB)\n",
            "Collecting torchdata==0.6.1\n",
            "  Downloading torchdata-0.6.1-cp310-cp310-manylinux_2_17_x86_64.manylinux2014_x86_64.whl.metadata (13 kB)\n",
            "Requirement already satisfied: tqdm in /usr/local/lib/python3.10/dist-packages (from torchtext==0.15.2) (4.67.1)\n",
            "Requirement already satisfied: requests in /usr/local/lib/python3.10/dist-packages (from torchtext==0.15.2) (2.32.3)\n",
            "Requirement already satisfied: torch==2.0.1 in /usr/local/lib/python3.10/dist-packages (from torchtext==0.15.2) (2.0.1+cu117)\n",
            "Requirement already satisfied: numpy in /usr/local/lib/python3.10/dist-packages (from torchtext==0.15.2) (1.26.4)\n",
            "Requirement already satisfied: urllib3>=1.25 in /usr/local/lib/python3.10/dist-packages (from torchdata==0.6.1) (2.2.3)\n",
            "Requirement already satisfied: filelock in /usr/local/lib/python3.10/dist-packages (from torch==2.0.1->torchtext==0.15.2) (3.16.1)\n",
            "Requirement already satisfied: typing-extensions in /usr/local/lib/python3.10/dist-packages (from torch==2.0.1->torchtext==0.15.2) (4.12.2)\n",
            "Requirement already satisfied: sympy in /usr/local/lib/python3.10/dist-packages (from torch==2.0.1->torchtext==0.15.2) (1.13.1)\n",
            "Requirement already satisfied: networkx in /usr/local/lib/python3.10/dist-packages (from torch==2.0.1->torchtext==0.15.2) (3.4.2)\n",
            "Requirement already satisfied: jinja2 in /usr/local/lib/python3.10/dist-packages (from torch==2.0.1->torchtext==0.15.2) (3.1.4)\n",
            "Requirement already satisfied: triton==2.0.0 in /usr/local/lib/python3.10/dist-packages (from torch==2.0.1->torchtext==0.15.2) (2.0.0)\n",
            "Requirement already satisfied: cmake in /usr/local/lib/python3.10/dist-packages (from triton==2.0.0->torch==2.0.1->torchtext==0.15.2) (3.31.2)\n",
            "Requirement already satisfied: lit in /usr/local/lib/python3.10/dist-packages (from triton==2.0.0->torch==2.0.1->torchtext==0.15.2) (18.1.8)\n",
            "Requirement already satisfied: charset-normalizer<4,>=2 in /usr/local/lib/python3.10/dist-packages (from requests->torchtext==0.15.2) (3.4.0)\n",
            "Requirement already satisfied: idna<4,>=2.5 in /usr/local/lib/python3.10/dist-packages (from requests->torchtext==0.15.2) (3.10)\n",
            "Requirement already satisfied: certifi>=2017.4.17 in /usr/local/lib/python3.10/dist-packages (from requests->torchtext==0.15.2) (2024.12.14)\n",
            "Requirement already satisfied: MarkupSafe>=2.0 in /usr/local/lib/python3.10/dist-packages (from jinja2->torch==2.0.1->torchtext==0.15.2) (3.0.2)\n",
            "Requirement already satisfied: mpmath<1.4,>=1.1.0 in /usr/local/lib/python3.10/dist-packages (from sympy->torch==2.0.1->torchtext==0.15.2) (1.3.0)\n",
            "Downloading torchtext-0.15.2-cp310-cp310-manylinux1_x86_64.whl (2.0 MB)\n",
            "\u001b[2K   \u001b[90m━━━━━━━━━━━━━━━━━━━━━━━━━━━━━━━━━━━━━━━━\u001b[0m \u001b[32m2.0/2.0 MB\u001b[0m \u001b[31m58.9 MB/s\u001b[0m eta \u001b[36m0:00:00\u001b[0m\n",
            "\u001b[?25hDownloading torchdata-0.6.1-cp310-cp310-manylinux_2_17_x86_64.manylinux2014_x86_64.whl (4.6 MB)\n",
            "\u001b[2K   \u001b[90m━━━━━━━━━━━━━━━━━━━━━━━━━━━━━━━━━━━━━━━━\u001b[0m \u001b[32m4.6/4.6 MB\u001b[0m \u001b[31m76.1 MB/s\u001b[0m eta \u001b[36m0:00:00\u001b[0m\n",
            "\u001b[?25hInstalling collected packages: torchdata, torchtext\n",
            "Successfully installed torchdata-0.6.1 torchtext-0.15.2\n"
          ]
        }
      ]
    },
    {
      "cell_type": "code",
      "source": [
        "!pip install torchmetrics"
      ],
      "metadata": {
        "colab": {
          "base_uri": "https://localhost:8080/"
        },
        "id": "JKiyeEYHxx-q",
        "outputId": "0d2cbc24-521f-4600-a135-1b99453d115c"
      },
      "execution_count": 2,
      "outputs": [
        {
          "output_type": "stream",
          "name": "stdout",
          "text": [
            "Collecting torchmetrics\n",
            "  Downloading torchmetrics-1.6.1-py3-none-any.whl.metadata (21 kB)\n",
            "Requirement already satisfied: numpy>1.20.0 in /usr/local/lib/python3.10/dist-packages (from torchmetrics) (1.26.4)\n",
            "Requirement already satisfied: packaging>17.1 in /usr/local/lib/python3.10/dist-packages (from torchmetrics) (24.2)\n",
            "Requirement already satisfied: torch>=2.0.0 in /usr/local/lib/python3.10/dist-packages (from torchmetrics) (2.0.1+cu117)\n",
            "Collecting lightning-utilities>=0.8.0 (from torchmetrics)\n",
            "  Downloading lightning_utilities-0.11.9-py3-none-any.whl.metadata (5.2 kB)\n",
            "Requirement already satisfied: setuptools in /usr/local/lib/python3.10/dist-packages (from lightning-utilities>=0.8.0->torchmetrics) (75.1.0)\n",
            "Requirement already satisfied: typing-extensions in /usr/local/lib/python3.10/dist-packages (from lightning-utilities>=0.8.0->torchmetrics) (4.12.2)\n",
            "Requirement already satisfied: filelock in /usr/local/lib/python3.10/dist-packages (from torch>=2.0.0->torchmetrics) (3.16.1)\n",
            "Requirement already satisfied: sympy in /usr/local/lib/python3.10/dist-packages (from torch>=2.0.0->torchmetrics) (1.13.1)\n",
            "Requirement already satisfied: networkx in /usr/local/lib/python3.10/dist-packages (from torch>=2.0.0->torchmetrics) (3.4.2)\n",
            "Requirement already satisfied: jinja2 in /usr/local/lib/python3.10/dist-packages (from torch>=2.0.0->torchmetrics) (3.1.4)\n",
            "Requirement already satisfied: triton==2.0.0 in /usr/local/lib/python3.10/dist-packages (from torch>=2.0.0->torchmetrics) (2.0.0)\n",
            "Requirement already satisfied: cmake in /usr/local/lib/python3.10/dist-packages (from triton==2.0.0->torch>=2.0.0->torchmetrics) (3.31.2)\n",
            "Requirement already satisfied: lit in /usr/local/lib/python3.10/dist-packages (from triton==2.0.0->torch>=2.0.0->torchmetrics) (18.1.8)\n",
            "Requirement already satisfied: MarkupSafe>=2.0 in /usr/local/lib/python3.10/dist-packages (from jinja2->torch>=2.0.0->torchmetrics) (3.0.2)\n",
            "Requirement already satisfied: mpmath<1.4,>=1.1.0 in /usr/local/lib/python3.10/dist-packages (from sympy->torch>=2.0.0->torchmetrics) (1.3.0)\n",
            "Downloading torchmetrics-1.6.1-py3-none-any.whl (927 kB)\n",
            "\u001b[?25l   \u001b[90m━━━━━━━━━━━━━━━━━━━━━━━━━━━━━━━━━━━━━━━━\u001b[0m \u001b[32m0.0/927.3 kB\u001b[0m \u001b[31m?\u001b[0m eta \u001b[36m-:--:--\u001b[0m\r\u001b[2K   \u001b[90m━━━━━━━━━━━━━━━━━━━━━━━━━━━━━━━━━━━━━━━━\u001b[0m \u001b[32m927.3/927.3 kB\u001b[0m \u001b[31m46.8 MB/s\u001b[0m eta \u001b[36m0:00:00\u001b[0m\n",
            "\u001b[?25hDownloading lightning_utilities-0.11.9-py3-none-any.whl (28 kB)\n",
            "Installing collected packages: lightning-utilities, torchmetrics\n",
            "Successfully installed lightning-utilities-0.11.9 torchmetrics-1.6.1\n"
          ]
        }
      ]
    },
    {
      "cell_type": "code",
      "execution_count": 3,
      "metadata": {
        "id": "vhlVJEkJeTsV"
      },
      "outputs": [],
      "source": [
        "import numpy as np\n",
        "import matplotlib.pyplot as plt\n",
        "\n",
        "import torchtext\n",
        "\n",
        "import torch\n",
        "from torch import nn\n",
        "from torch.utils.data import DataLoader, Dataset\n",
        "\n",
        "from torch import optim\n",
        "from torch.nn import functional as F\n",
        "\n",
        "import tqdm\n",
        "import torchmetrics as tm"
      ]
    },
    {
      "cell_type": "code",
      "execution_count": 4,
      "metadata": {
        "id": "DEzYlyeqTZqQ",
        "colab": {
          "base_uri": "https://localhost:8080/"
        },
        "outputId": "47152d98-6ee5-43de-d679-f1bc825d5cba"
      },
      "outputs": [
        {
          "output_type": "stream",
          "name": "stdout",
          "text": [
            "Python 3.10.12\n",
            "2.0.1+cu117\n",
            "0.15.2+cpu\n"
          ]
        }
      ],
      "source": [
        "!python --version\n",
        "print(torch.__version__)\n",
        "print(torchtext.__version__)"
      ]
    },
    {
      "cell_type": "code",
      "execution_count": 5,
      "metadata": {
        "id": "6DWjGTq6T8Jg",
        "colab": {
          "base_uri": "https://localhost:8080/"
        },
        "outputId": "0d03a3d0-8bd0-4e1d-b63e-60fbad06d48c"
      },
      "outputs": [
        {
          "output_type": "stream",
          "name": "stdout",
          "text": [
            "numpy --> 1.26.4\n",
            "torch --> 2.0.1+cu117\n",
            "torchtext --> 0.15.2+cpu\n",
            "tqdm --> 4.67.1\n"
          ]
        }
      ],
      "source": [
        "for lib in [np, torch, torchtext, tqdm]:\n",
        "  print(lib.__name__, '-->', lib.__version__)"
      ]
    },
    {
      "cell_type": "markdown",
      "metadata": {
        "id": "RwaY_YcgRayy"
      },
      "source": [
        "# 🔴 **Utils**"
      ]
    },
    {
      "cell_type": "code",
      "execution_count": 6,
      "metadata": {
        "id": "8yMS7bbmRayz"
      },
      "outputs": [],
      "source": [
        "class AverageMeter(object):\n",
        "    \"\"\"Computes and stores the average and current value\"\"\"\n",
        "    def __init__(self):\n",
        "        self.reset()\n",
        "\n",
        "    def reset(self):\n",
        "        self.val = 0\n",
        "        self.avg = 0\n",
        "        self.sum = 0\n",
        "        self.count = 0\n",
        "\n",
        "    def update(self, val, n=1):\n",
        "        self.val = val\n",
        "        self.sum += val * n\n",
        "        self.count += n\n",
        "        self.avg = self.sum / self.count"
      ]
    },
    {
      "cell_type": "code",
      "execution_count": 7,
      "metadata": {
        "id": "PpKbTUEIRayz"
      },
      "outputs": [],
      "source": [
        "def num_trainable_params(model):\n",
        "  nums = sum(p.numel() for p in model.parameters() if p.requires_grad)/1e6\n",
        "  return nums"
      ]
    },
    {
      "cell_type": "markdown",
      "metadata": {
        "id": "RTql4Ftiunfr"
      },
      "source": [
        "# 🔴 **Dataset**"
      ]
    },
    {
      "cell_type": "markdown",
      "metadata": {
        "id": "ujIVtjsYvxOI"
      },
      "source": [
        "## 🟠 **Load the Dataset**"
      ]
    },
    {
      "cell_type": "markdown",
      "metadata": {
        "id": "Ek9DpCNCChzF"
      },
      "source": [
        "🔰 In this session you should load WikiText2 dataset."
      ]
    },
    {
      "cell_type": "code",
      "source": [
        "!pip install datasets"
      ],
      "metadata": {
        "colab": {
          "base_uri": "https://localhost:8080/"
        },
        "id": "Nc13VbsnyNNH",
        "outputId": "ead04f6c-32c6-47cc-87d9-d77d73ce9122"
      },
      "execution_count": 8,
      "outputs": [
        {
          "output_type": "stream",
          "name": "stdout",
          "text": [
            "Collecting datasets\n",
            "  Downloading datasets-3.2.0-py3-none-any.whl.metadata (20 kB)\n",
            "Requirement already satisfied: filelock in /usr/local/lib/python3.10/dist-packages (from datasets) (3.16.1)\n",
            "Requirement already satisfied: numpy>=1.17 in /usr/local/lib/python3.10/dist-packages (from datasets) (1.26.4)\n",
            "Requirement already satisfied: pyarrow>=15.0.0 in /usr/local/lib/python3.10/dist-packages (from datasets) (17.0.0)\n",
            "Collecting dill<0.3.9,>=0.3.0 (from datasets)\n",
            "  Downloading dill-0.3.8-py3-none-any.whl.metadata (10 kB)\n",
            "Requirement already satisfied: pandas in /usr/local/lib/python3.10/dist-packages (from datasets) (2.2.2)\n",
            "Requirement already satisfied: requests>=2.32.2 in /usr/local/lib/python3.10/dist-packages (from datasets) (2.32.3)\n",
            "Requirement already satisfied: tqdm>=4.66.3 in /usr/local/lib/python3.10/dist-packages (from datasets) (4.67.1)\n",
            "Collecting xxhash (from datasets)\n",
            "  Downloading xxhash-3.5.0-cp310-cp310-manylinux_2_17_x86_64.manylinux2014_x86_64.whl.metadata (12 kB)\n",
            "Collecting multiprocess<0.70.17 (from datasets)\n",
            "  Downloading multiprocess-0.70.16-py310-none-any.whl.metadata (7.2 kB)\n",
            "Collecting fsspec<=2024.9.0,>=2023.1.0 (from fsspec[http]<=2024.9.0,>=2023.1.0->datasets)\n",
            "  Downloading fsspec-2024.9.0-py3-none-any.whl.metadata (11 kB)\n",
            "Requirement already satisfied: aiohttp in /usr/local/lib/python3.10/dist-packages (from datasets) (3.11.10)\n",
            "Requirement already satisfied: huggingface-hub>=0.23.0 in /usr/local/lib/python3.10/dist-packages (from datasets) (0.27.0)\n",
            "Requirement already satisfied: packaging in /usr/local/lib/python3.10/dist-packages (from datasets) (24.2)\n",
            "Requirement already satisfied: pyyaml>=5.1 in /usr/local/lib/python3.10/dist-packages (from datasets) (6.0.2)\n",
            "Requirement already satisfied: aiohappyeyeballs>=2.3.0 in /usr/local/lib/python3.10/dist-packages (from aiohttp->datasets) (2.4.4)\n",
            "Requirement already satisfied: aiosignal>=1.1.2 in /usr/local/lib/python3.10/dist-packages (from aiohttp->datasets) (1.3.2)\n",
            "Requirement already satisfied: async-timeout<6.0,>=4.0 in /usr/local/lib/python3.10/dist-packages (from aiohttp->datasets) (4.0.3)\n",
            "Requirement already satisfied: attrs>=17.3.0 in /usr/local/lib/python3.10/dist-packages (from aiohttp->datasets) (24.3.0)\n",
            "Requirement already satisfied: frozenlist>=1.1.1 in /usr/local/lib/python3.10/dist-packages (from aiohttp->datasets) (1.5.0)\n",
            "Requirement already satisfied: multidict<7.0,>=4.5 in /usr/local/lib/python3.10/dist-packages (from aiohttp->datasets) (6.1.0)\n",
            "Requirement already satisfied: propcache>=0.2.0 in /usr/local/lib/python3.10/dist-packages (from aiohttp->datasets) (0.2.1)\n",
            "Requirement already satisfied: yarl<2.0,>=1.17.0 in /usr/local/lib/python3.10/dist-packages (from aiohttp->datasets) (1.18.3)\n",
            "Requirement already satisfied: typing-extensions>=3.7.4.3 in /usr/local/lib/python3.10/dist-packages (from huggingface-hub>=0.23.0->datasets) (4.12.2)\n",
            "Requirement already satisfied: charset-normalizer<4,>=2 in /usr/local/lib/python3.10/dist-packages (from requests>=2.32.2->datasets) (3.4.0)\n",
            "Requirement already satisfied: idna<4,>=2.5 in /usr/local/lib/python3.10/dist-packages (from requests>=2.32.2->datasets) (3.10)\n",
            "Requirement already satisfied: urllib3<3,>=1.21.1 in /usr/local/lib/python3.10/dist-packages (from requests>=2.32.2->datasets) (2.2.3)\n",
            "Requirement already satisfied: certifi>=2017.4.17 in /usr/local/lib/python3.10/dist-packages (from requests>=2.32.2->datasets) (2024.12.14)\n",
            "Requirement already satisfied: python-dateutil>=2.8.2 in /usr/local/lib/python3.10/dist-packages (from pandas->datasets) (2.8.2)\n",
            "Requirement already satisfied: pytz>=2020.1 in /usr/local/lib/python3.10/dist-packages (from pandas->datasets) (2024.2)\n",
            "Requirement already satisfied: tzdata>=2022.7 in /usr/local/lib/python3.10/dist-packages (from pandas->datasets) (2024.2)\n",
            "Requirement already satisfied: six>=1.5 in /usr/local/lib/python3.10/dist-packages (from python-dateutil>=2.8.2->pandas->datasets) (1.17.0)\n",
            "Downloading datasets-3.2.0-py3-none-any.whl (480 kB)\n",
            "\u001b[2K   \u001b[90m━━━━━━━━━━━━━━━━━━━━━━━━━━━━━━━━━━━━━━━━\u001b[0m \u001b[32m480.6/480.6 kB\u001b[0m \u001b[31m28.0 MB/s\u001b[0m eta \u001b[36m0:00:00\u001b[0m\n",
            "\u001b[?25hDownloading dill-0.3.8-py3-none-any.whl (116 kB)\n",
            "\u001b[2K   \u001b[90m━━━━━━━━━━━━━━━━━━━━━━━━━━━━━━━━━━━━━━━━\u001b[0m \u001b[32m116.3/116.3 kB\u001b[0m \u001b[31m10.8 MB/s\u001b[0m eta \u001b[36m0:00:00\u001b[0m\n",
            "\u001b[?25hDownloading fsspec-2024.9.0-py3-none-any.whl (179 kB)\n",
            "\u001b[2K   \u001b[90m━━━━━━━━━━━━━━━━━━━━━━━━━━━━━━━━━━━━━━━━\u001b[0m \u001b[32m179.3/179.3 kB\u001b[0m \u001b[31m17.9 MB/s\u001b[0m eta \u001b[36m0:00:00\u001b[0m\n",
            "\u001b[?25hDownloading multiprocess-0.70.16-py310-none-any.whl (134 kB)\n",
            "\u001b[2K   \u001b[90m━━━━━━━━━━━━━━━━━━━━━━━━━━━━━━━━━━━━━━━━\u001b[0m \u001b[32m134.8/134.8 kB\u001b[0m \u001b[31m13.7 MB/s\u001b[0m eta \u001b[36m0:00:00\u001b[0m\n",
            "\u001b[?25hDownloading xxhash-3.5.0-cp310-cp310-manylinux_2_17_x86_64.manylinux2014_x86_64.whl (194 kB)\n",
            "\u001b[2K   \u001b[90m━━━━━━━━━━━━━━━━━━━━━━━━━━━━━━━━━━━━━━━━\u001b[0m \u001b[32m194.1/194.1 kB\u001b[0m \u001b[31m18.0 MB/s\u001b[0m eta \u001b[36m0:00:00\u001b[0m\n",
            "\u001b[?25hInstalling collected packages: xxhash, fsspec, dill, multiprocess, datasets\n",
            "  Attempting uninstall: fsspec\n",
            "    Found existing installation: fsspec 2024.10.0\n",
            "    Uninstalling fsspec-2024.10.0:\n",
            "      Successfully uninstalled fsspec-2024.10.0\n",
            "\u001b[31mERROR: pip's dependency resolver does not currently take into account all the packages that are installed. This behaviour is the source of the following dependency conflicts.\n",
            "gcsfs 2024.10.0 requires fsspec==2024.10.0, but you have fsspec 2024.9.0 which is incompatible.\u001b[0m\u001b[31m\n",
            "\u001b[0mSuccessfully installed datasets-3.2.0 dill-0.3.8 fsspec-2024.9.0 multiprocess-0.70.16 xxhash-3.5.0\n"
          ]
        }
      ]
    },
    {
      "cell_type": "code",
      "execution_count": 9,
      "metadata": {
        "id": "ShYpXvVzVmP6",
        "colab": {
          "base_uri": "https://localhost:8080/",
          "height": 415,
          "referenced_widgets": [
            "823d10336d444d0b82272264eab4c09a",
            "3e62b2527e8047949da67c6d05ea9369",
            "847e94138f44470b97d86bd6ba27012a",
            "f1fef78b324048b9a6742c25a945d546",
            "38399ed9182743ec9286d2566bfe8b34",
            "9193f2369ebb442f89d8dea7d6cd8785",
            "73a116200f7d498990b717caf7b115fe",
            "ced48d5dd4234f109d7150396fcd1dff",
            "4099ccc62417454191fc9d0634b83fa6",
            "e2481ac8ffa443ebb9ab8e00c209d79b",
            "b8358fd5e33f4898bf85f077129dede0",
            "b7141353719c41348995c13ce745e056",
            "a6f823de600f4792979f4afcd5b6db2d",
            "33956ba299a644d399bfb24aed359818",
            "739ca0911a384168834828995544d7fb",
            "60c9edc1f1b9422b8d2ad08615373fd4",
            "99b9c135f68346678081c9073d56c2ad",
            "dcfc73ba8def4a8aa3a6328becd48510",
            "8013f696e2f3408fb978be787ab19f37",
            "fe57603ce2ee4c1eada55262cc06299a",
            "c0987d5bcc6a411c9e82ac3638bccfdd",
            "295663b70e4448d1ad137fc93cb436cc",
            "9646934acbb5499f841726e81a9f28e3",
            "7554320fd5664201b1567b85c7cdf3a0",
            "f1a680b0be184bf2ace54158279f5a31",
            "204766deba884a62a6298e6eab8706e5",
            "70d0c19b8fa040e9ab0f5d25a47aaaef",
            "42332add4ab34f11a26517b9048a2703",
            "f98a05d23f30484b9e2b7b8c288416cd",
            "49fc8366bcf54fa2b6b6985979f68376",
            "60f9a5fe3f6d4ebfb5d3aa25329d88ca",
            "8f7f21b22de04c0aba715470bece6b4f",
            "b50ee219ce3f430599336d08db4f6656",
            "d01a1955f8f5433ebd03bcf3fcbb4488",
            "1e506be761b740f6ab682c11acfc8dcb",
            "b2785c6cd1414f56b0e0d80a95bb0215",
            "6db5758794ca4611ba908f9e34eba43e",
            "b148dfc28a3f47329e61ac209237ace4",
            "1ed28db328fe4776b49b5bdd83b90e80",
            "aef7f1caf19d455eb8658131cc5ed950",
            "cfb0ff69e13d4370a946355bb1d913e1",
            "4b1bfcf5382740cea2b0f8ca03c194fc",
            "dfec53bf30084e0892e8c26d648cbaa1",
            "be1546eab0c744128bc8985a4ddd26cb",
            "e000d2b8501e4af9ad8323cffd011485",
            "d2e2507575af4815b953458835ec7c1e",
            "8242c9644a5740b1b7aafb47761c3a6e",
            "920d5f9aef47466a992268f4c72853da",
            "ac5f5f50f5694ef4ab0cba6f637b14f2",
            "8e81418bff8644e09b27df45bd48e7fd",
            "88c626e0946344499feaca9868a2719e",
            "5d3cf6152cd04d27831773590468ed5f",
            "601445698d28438aa5a843edf027b8c5",
            "973e7b1867434919ba1885e9ca67909a",
            "dd4853b4162d4d8fb325907d0f47ae97",
            "6cf52e1819e546e5ab5406da8bc548ad",
            "1a0ad70079194a7498867486fc327e1d",
            "cbd5eaa8c5384ed5a2d3791682ab39bd",
            "4fafc6374f714794a2b8d7be321f6451",
            "a5b25a9308fb49569bc87856ed538fb2",
            "d563c788cf354bae9fdd8c9a4e2aade1",
            "e97db52e58654fe9a9e5fadb756a62ae",
            "84345392418d4f89b0e5cdc862fada3f",
            "0771ad749b7f4dd998b298722a51ae3f",
            "eb61775bc80945cab72fb975d59a7c99",
            "b29b25a5346c41fbbf6457c378d08300",
            "200e88c7fc124722b8f0f3ee24e7ef53",
            "a28a92ea87114fc082099a6de2fc32c2",
            "b41e856cd4004809901afe6231be476f",
            "3122089302434c189afc490091d56fa4",
            "ee0f7b1161e844b28ebc0b675acaab62",
            "5a15fa835772418cb1cb1832ed87fb08",
            "c92d98cadb1345fbb3b5edecbe7fbd12",
            "1d2cadd5ca394946a9c2f662b6cd10b7",
            "2f75653f9dc4447aac9246cb388cdcd2",
            "87d7e378b7f54d1689618771846478ef",
            "0b935d9447364ba99ab55a53409e3ae2"
          ]
        },
        "outputId": "2fca3a6b-b003-4613-de8c-78f7cc0c019f"
      },
      "outputs": [
        {
          "output_type": "stream",
          "name": "stderr",
          "text": [
            "/usr/local/lib/python3.10/dist-packages/huggingface_hub/utils/_auth.py:94: UserWarning: \n",
            "The secret `HF_TOKEN` does not exist in your Colab secrets.\n",
            "To authenticate with the Hugging Face Hub, create a token in your settings tab (https://huggingface.co/settings/tokens), set it as secret in your Google Colab and restart your session.\n",
            "You will be able to reuse this secret in all of your notebooks.\n",
            "Please note that authentication is recommended but still optional to access public models or datasets.\n",
            "  warnings.warn(\n"
          ]
        },
        {
          "output_type": "display_data",
          "data": {
            "text/plain": [
              "README.md:   0%|          | 0.00/10.5k [00:00<?, ?B/s]"
            ],
            "application/vnd.jupyter.widget-view+json": {
              "version_major": 2,
              "version_minor": 0,
              "model_id": "823d10336d444d0b82272264eab4c09a"
            }
          },
          "metadata": {}
        },
        {
          "output_type": "display_data",
          "data": {
            "text/plain": [
              "test-00000-of-00001.parquet:   0%|          | 0.00/733k [00:00<?, ?B/s]"
            ],
            "application/vnd.jupyter.widget-view+json": {
              "version_major": 2,
              "version_minor": 0,
              "model_id": "b7141353719c41348995c13ce745e056"
            }
          },
          "metadata": {}
        },
        {
          "output_type": "display_data",
          "data": {
            "text/plain": [
              "train-00000-of-00001.parquet:   0%|          | 0.00/6.36M [00:00<?, ?B/s]"
            ],
            "application/vnd.jupyter.widget-view+json": {
              "version_major": 2,
              "version_minor": 0,
              "model_id": "9646934acbb5499f841726e81a9f28e3"
            }
          },
          "metadata": {}
        },
        {
          "output_type": "display_data",
          "data": {
            "text/plain": [
              "validation-00000-of-00001.parquet:   0%|          | 0.00/657k [00:00<?, ?B/s]"
            ],
            "application/vnd.jupyter.widget-view+json": {
              "version_major": 2,
              "version_minor": 0,
              "model_id": "d01a1955f8f5433ebd03bcf3fcbb4488"
            }
          },
          "metadata": {}
        },
        {
          "output_type": "display_data",
          "data": {
            "text/plain": [
              "Generating test split:   0%|          | 0/4358 [00:00<?, ? examples/s]"
            ],
            "application/vnd.jupyter.widget-view+json": {
              "version_major": 2,
              "version_minor": 0,
              "model_id": "e000d2b8501e4af9ad8323cffd011485"
            }
          },
          "metadata": {}
        },
        {
          "output_type": "display_data",
          "data": {
            "text/plain": [
              "Generating train split:   0%|          | 0/36718 [00:00<?, ? examples/s]"
            ],
            "application/vnd.jupyter.widget-view+json": {
              "version_major": 2,
              "version_minor": 0,
              "model_id": "6cf52e1819e546e5ab5406da8bc548ad"
            }
          },
          "metadata": {}
        },
        {
          "output_type": "display_data",
          "data": {
            "text/plain": [
              "Generating validation split:   0%|          | 0/3760 [00:00<?, ? examples/s]"
            ],
            "application/vnd.jupyter.widget-view+json": {
              "version_major": 2,
              "version_minor": 0,
              "model_id": "200e88c7fc124722b8f0f3ee24e7ef53"
            }
          },
          "metadata": {}
        },
        {
          "output_type": "stream",
          "name": "stdout",
          "text": [
            "WikiText2 datasets loaded successfully.\n",
            "Train samples: 36718\n",
            "Validation samples: 3760\n",
            "Test samples: 4358\n"
          ]
        }
      ],
      "source": [
        "from datasets import load_dataset\n",
        "\n",
        "# Load the WikiText2 dataset\n",
        "dataset = load_dataset('wikitext', 'wikitext-2-raw-v1')\n",
        "\n",
        "# Access train, validation, and test splits\n",
        "train_dataset = dataset['train']\n",
        "valid_dataset = dataset['validation']\n",
        "test_dataset = dataset['test']\n",
        "\n",
        "print(\"WikiText2 datasets loaded successfully.\")\n",
        "print(f\"Train samples: {len(train_dataset)}\")\n",
        "print(f\"Validation samples: {len(valid_dataset)}\")\n",
        "print(f\"Test samples: {len(test_dataset)}\")\n",
        "\n"
      ]
    },
    {
      "cell_type": "markdown",
      "metadata": {
        "id": "wCi-ofSLCzop"
      },
      "source": [
        "## 🟠 **Build vocabulary and save it**"
      ]
    },
    {
      "cell_type": "markdown",
      "metadata": {
        "id": "L02PHFuyNRb3"
      },
      "source": [
        "🔰 In this section we need to:\n",
        "\n",
        "*   Define a tokenizer using `basic_english`\n",
        "*   Tokenize the dataset and collect tokens\n",
        "*   Build the vocabulary using `build_vocab_from_iterator`\n",
        "*   Manually insert special tokens and set the default index\n"
      ]
    },
    {
      "cell_type": "code",
      "execution_count": 10,
      "metadata": {
        "id": "dlJ6Q6xCVuf0",
        "colab": {
          "base_uri": "https://localhost:8080/"
        },
        "outputId": "03ff230f-4e33-461d-d8c3-13d360ddccf8"
      },
      "outputs": [
        {
          "output_type": "stream",
          "name": "stdout",
          "text": [
            "Vocabulary built and saved successfully.\n",
            "Vocabulary size: 66061\n"
          ]
        }
      ],
      "source": [
        "from torchtext.data.utils import get_tokenizer\n",
        "from torchtext.vocab import build_vocab_from_iterator\n",
        "from collections import Counter\n",
        "import torch\n",
        "\n",
        "# Define tokenizer\n",
        "tokenizer = get_tokenizer('basic_english')\n",
        "\n",
        "# Function to yield tokens from the dataset\n",
        "def yield_tokens(dataset_split):\n",
        "    for sample in dataset_split:\n",
        "        yield tokenizer(sample['text'])\n",
        "\n",
        "# Build vocabulary from the training data\n",
        "vocab = build_vocab_from_iterator(yield_tokens(train_dataset), specials=['<unk>', '<pad>', '<bos>', '<eos>'])\n",
        "vocab.set_default_index(vocab['<unk>'])\n",
        "\n",
        "# Save the vocabulary for future use\n",
        "torch.save(vocab, 'vocab.pth')\n",
        "\n",
        "print(\"Vocabulary built and saved successfully.\")\n",
        "print(f\"Vocabulary size: {len(vocab)}\")\n",
        "\n"
      ]
    },
    {
      "cell_type": "markdown",
      "metadata": {
        "id": "B29jrEvwRqXA"
      },
      "source": [
        "## 🟠 EDA"
      ]
    },
    {
      "cell_type": "markdown",
      "metadata": {
        "id": "pHtoYxEPd3bL"
      },
      "source": [
        "### 🟡 Let's explore the WikiText2 dataset!"
      ]
    },
    {
      "cell_type": "markdown",
      "metadata": {
        "id": "A3rnR739GbYb"
      },
      "source": [
        "### 🟡 Calculate basic statistics such as the number of documents, total words, average document length, etc."
      ]
    },
    {
      "cell_type": "code",
      "execution_count": 11,
      "metadata": {
        "id": "jHVKeKwk2WaG",
        "colab": {
          "base_uri": "https://localhost:8080/"
        },
        "outputId": "0e744c33-4f60-4c32-988c-e6bc635a6f11"
      },
      "outputs": [
        {
          "output_type": "stream",
          "name": "stdout",
          "text": [
            "Train - Number of documents: 36718\n",
            "Train - Total words: 2051665\n",
            "Train - Average document length: 55.88 words\n",
            "\n",
            "Validation - Number of documents: 3760\n",
            "Validation - Total words: 214665\n",
            "Validation - Average document length: 57.09 words\n",
            "\n",
            "Test - Number of documents: 4358\n",
            "Test - Total words: 242156\n",
            "Test - Average document length: 55.57 words\n",
            "\n"
          ]
        }
      ],
      "source": [
        "# Number of documents\n",
        "num_train_docs = len(train_dataset)\n",
        "num_valid_docs = len(valid_dataset)\n",
        "num_test_docs = len(test_dataset)\n",
        "\n",
        "# Total words and average document length\n",
        "def calculate_stats(dataset_split, split_name):\n",
        "    total_words = 0\n",
        "    for sample in dataset_split:\n",
        "        tokens = tokenizer(sample['text'])\n",
        "        total_words += len(tokens)\n",
        "    avg_length = total_words / len(dataset_split)\n",
        "    print(f\"{split_name} - Number of documents: {len(dataset_split)}\")\n",
        "    print(f\"{split_name} - Total words: {total_words}\")\n",
        "    print(f\"{split_name} - Average document length: {avg_length:.2f} words\\n\")\n",
        "\n",
        "calculate_stats(train_dataset, \"Train\")\n",
        "calculate_stats(valid_dataset, \"Validation\")\n",
        "calculate_stats(test_dataset, \"Test\")\n"
      ]
    },
    {
      "cell_type": "markdown",
      "metadata": {
        "id": "a4HyLPqcsF43"
      },
      "source": [
        "### 🟡 Analyze the most common and least common words in the dataset."
      ]
    },
    {
      "cell_type": "code",
      "execution_count": 12,
      "metadata": {
        "id": "cBnEjagdTN8n",
        "colab": {
          "base_uri": "https://localhost:8080/"
        },
        "outputId": "6bf1264b-90e9-4d38-bf08-a7f3af33ca5d"
      },
      "outputs": [
        {
          "output_type": "stream",
          "name": "stdout",
          "text": [
            "Most Common 10 Words:\n",
            "the: 130770\n",
            ",: 102624\n",
            ".: 84291\n",
            "of: 57032\n",
            "and: 50736\n",
            "in: 45018\n",
            "to: 39522\n",
            "a: 36564\n",
            "=: 29570\n",
            "was: 21008\n",
            "\n",
            "Least Common 10 Words (Frequency > 1):\n",
            "raita: 2\n",
            "valkyira: 2\n",
            "heroines: 2\n",
            "boons: 2\n",
            "lancers: 2\n",
            "deserters: 2\n",
            "exonerating: 2\n",
            "valkyrian: 2\n",
            "trump: 2\n",
            "anew: 2\n"
          ]
        }
      ],
      "source": [
        "from collections import Counter\n",
        "\n",
        "# Get word frequencies\n",
        "counter = Counter()\n",
        "for sample in train_dataset:\n",
        "    tokens = tokenizer(sample['text'])\n",
        "    counter.update(tokens)\n",
        "\n",
        "# Most common 10 words\n",
        "print(\"Most Common 10 Words:\")\n",
        "for word, freq in counter.most_common(10):\n",
        "    print(f\"{word}: {freq}\")\n",
        "print()\n",
        "\n",
        "# Least common 10 words (excluding singletons)\n",
        "least_common = [word for word, freq in counter.items() if freq > 1]\n",
        "least_common = sorted(least_common, key=lambda x: counter[x])[:10]\n",
        "print(\"Least Common 10 Words (Frequency > 1):\")\n",
        "for word in least_common:\n",
        "    print(f\"{word}: {counter[word]}\")\n"
      ]
    },
    {
      "cell_type": "markdown",
      "metadata": {
        "id": "cfBasjQCE_aI"
      },
      "source": [
        "### 🟡  Please proceed with further exploration of the dataset. what do you suggest?"
      ]
    },
    {
      "cell_type": "markdown",
      "source": [
        "###Vocabulary Size Distribution"
      ],
      "metadata": {
        "id": "E1_fW7mYyqV3"
      }
    },
    {
      "cell_type": "code",
      "execution_count": 13,
      "metadata": {
        "id": "yR8uQsv4E_aJ",
        "colab": {
          "base_uri": "https://localhost:8080/",
          "height": 0
        },
        "outputId": "3986357d-b0dc-4df5-dee3-6b8034383997"
      },
      "outputs": [
        {
          "output_type": "display_data",
          "data": {
            "text/plain": [
              "<Figure size 1000x600 with 1 Axes>"
            ],
            "image/png": "[encoded data removed]"
          },
          "metadata": {}
        }
      ],
      "source": [
        "import matplotlib.pyplot as plt\n",
        "\n",
        "word_freq = sorted(counter.values(), reverse=True)\n",
        "plt.figure(figsize=(10,6))\n",
        "plt.loglog(word_freq)\n",
        "plt.title('Word Frequency Distribution in Train Split')\n",
        "plt.xlabel('Rank of word')\n",
        "plt.ylabel('Frequency of word')\n",
        "plt.grid(True)\n",
        "plt.show()\n"
      ]
    },
    {
      "cell_type": "markdown",
      "source": [
        "###Sentence Length Distribution:"
      ],
      "metadata": {
        "id": "4X59joNAyu1n"
      }
    },
    {
      "cell_type": "code",
      "source": [
        "import matplotlib.pyplot as plt\n",
        "\n",
        "sentence_lengths = [len(tokenizer(sample['text'])) for sample in train_dataset]\n",
        "plt.figure(figsize=(10,6))\n",
        "plt.hist(sentence_lengths, bins=100, log=True)\n",
        "plt.title('Sentence Length Distribution in Train Split')\n",
        "plt.xlabel('Number of words')\n",
        "plt.ylabel('Frequency')\n",
        "plt.grid(True)\n",
        "plt.show()\n"
      ],
      "metadata": {
        "colab": {
          "base_uri": "https://localhost:8080/",
          "height": 0
        },
        "id": "06g48E5OytDC",
        "outputId": "71e0f189-357d-40dd-e611-98eb1877bcb2"
      },
      "execution_count": 14,
      "outputs": [
        {
          "output_type": "display_data",
          "data": {
            "text/plain": [
              "<Figure size 1000x600 with 1 Axes>"
            ],
            "image/png": "[encoded data removed]"
          },
          "metadata": {}
        }
      ]
    },
    {
      "cell_type": "markdown",
      "source": [],
      "metadata": {
        "id": "qtW77Ph1ysxl"
      }
    },
    {
      "cell_type": "markdown",
      "metadata": {
        "id": "idRexFij4wgN"
      },
      "source": [
        "## 🟠 Transform the data"
      ]
    },
    {
      "cell_type": "markdown",
      "metadata": {
        "id": "2VjvBOtvHu2v"
      },
      "source": [
        "🛑 Make sure to perform the transformations on train, validation and test datasets."
      ]
    },
    {
      "cell_type": "markdown",
      "metadata": {
        "id": "ApisIcGeGSsJ"
      },
      "source": [
        "🔰 Reshape the dataset into an `N x B x L` or `M x L` format, where `N` represents the number of batches, `B` is the batch size, `L` is the length of a sample within each batch, and `M` is equal to `N x B`."
      ]
    },
    {
      "cell_type": "code",
      "execution_count": 15,
      "metadata": {
        "id": "ocxM8YdsWH-1",
        "colab": {
          "base_uri": "https://localhost:8080/"
        },
        "outputId": "2703ff5a-b977-420e-933f-1e86dcd7626d"
      },
      "outputs": [
        {
          "output_type": "stream",
          "name": "stdout",
          "text": [
            "Data processing complete.\n",
            "Train Inputs Shape: torch.Size([20, 106224])\n",
            "Train Targets Shape: torch.Size([20, 106224])\n"
          ]
        }
      ],
      "source": [
        "import math\n",
        "\n",
        "# Hyperparameters\n",
        "batch_size = 20\n",
        "seq_len = 35\n",
        "\n",
        "# Function to process raw text into batched tensors\n",
        "def data_process(dataset_split, vocab, batch_size, seq_len):\n",
        "    # Convert all text to numerical indices with <bos> and <eos> tokens\n",
        "    data = []\n",
        "    for sample in dataset_split:\n",
        "        tokens = tokenizer(sample['text'])\n",
        "        data.extend([vocab['<bos>']] + [vocab[token] for token in tokens] + [vocab['<eos>']])\n",
        "\n",
        "    # Convert to tensor\n",
        "    data_tensor = torch.tensor(data, dtype=torch.long)\n",
        "\n",
        "    # Calculate the number of batches\n",
        "    num_batches = data_tensor.size(0) // (batch_size * seq_len)\n",
        "\n",
        "    # Trim data to fit\n",
        "    data_tensor = data_tensor[:num_batches * batch_size * seq_len]\n",
        "\n",
        "    # Reshape data\n",
        "    data_tensor = data_tensor.view(batch_size, -1)\n",
        "\n",
        "    inputs = data_tensor[:, :-1].contiguous()\n",
        "    targets = data_tensor[:, 1:].contiguous()\n",
        "\n",
        "    return inputs, targets\n",
        "\n",
        "# Process train, validation, and test datasets\n",
        "train_inputs, train_targets = data_process(train_dataset, vocab, batch_size, seq_len)\n",
        "valid_inputs, valid_targets = data_process(valid_dataset, vocab, batch_size, seq_len)\n",
        "test_inputs, test_targets = data_process(test_dataset, vocab, batch_size, seq_len)\n",
        "\n",
        "print(\"Data processing complete.\")\n",
        "print(f\"Train Inputs Shape: {train_inputs.shape}\")\n",
        "print(f\"Train Targets Shape: {train_targets.shape}\")\n"
      ]
    },
    {
      "cell_type": "markdown",
      "metadata": {
        "id": "PgLgP04P4-aX"
      },
      "source": [
        "## 🟠 Custom dataset"
      ]
    },
    {
      "cell_type": "markdown",
      "metadata": {
        "id": "XkxH_IR2PBNq"
      },
      "source": [
        "🔰 Write a custom dataset class for LanguageModelDataset."
      ]
    },
    {
      "cell_type": "code",
      "execution_count": 16,
      "metadata": {
        "id": "1cjpSkrtexap"
      },
      "outputs": [],
      "source": [
        "from torch.utils.data import DataLoader, Dataset\n",
        "\n",
        "# Custom Dataset\n",
        "class LanguageModelDataset(Dataset):\n",
        "    def __init__(self, inputs, targets):\n",
        "        self.inputs = inputs\n",
        "        self.targets = targets\n",
        "\n",
        "    def __len__(self):\n",
        "        return self.inputs.size(1)  # Number of sequences\n",
        "\n",
        "    def __getitem__(self, idx):\n",
        "        return self.inputs[:, idx], self.targets[:, idx]\n",
        "\n",
        "# Create Dataset instances\n",
        "train_data = LanguageModelDataset(train_inputs, train_targets)\n",
        "valid_data = LanguageModelDataset(valid_inputs, valid_targets)\n",
        "test_data = LanguageModelDataset(test_inputs, test_targets)\n"
      ]
    },
    {
      "cell_type": "markdown",
      "metadata": {
        "id": "NCQjacybOfqV"
      },
      "source": [
        "## 🟠 Define a dataloader if needed"
      ]
    },
    {
      "cell_type": "markdown",
      "metadata": {
        "id": "HqKMEyFNS-1a"
      },
      "source": [
        "🔰 Write dataloaders for the training, validation, and test sets."
      ]
    },
    {
      "cell_type": "code",
      "execution_count": 26,
      "metadata": {
        "id": "KMCJ3UMD0U_f",
        "colab": {
          "base_uri": "https://localhost:8080/"
        },
        "outputId": "99ad2db6-0a26-49dd-af92-d0f5ebd12859"
      },
      "outputs": [
        {
          "output_type": "stream",
          "name": "stdout",
          "text": [
            "DataLoaders created successfully.\n"
          ]
        }
      ],
      "source": [
        "# Create DataLoaders\n",
        "train_loader = DataLoader(train_data, batch_size=64, shuffle=True)\n",
        "valid_loader = DataLoader(valid_data, batch_size=64)\n",
        "test_loader = DataLoader(test_data, batch_size=64)\n",
        "\n",
        "print(\"DataLoaders created successfully.\")"
      ]
    },
    {
      "cell_type": "markdown",
      "metadata": {
        "id": "3ttl0AK3Hvyh"
      },
      "source": [
        "# 🔴 **Model**"
      ]
    },
    {
      "cell_type": "markdown",
      "metadata": {
        "id": "06p-oBowTf-R"
      },
      "source": [
        "🔰 Use the following template to create a custom model.\n",
        "\n",
        "Your model should consist of three parts:\n",
        "\n",
        "*   an embedding layer\n",
        "*   an LSTM layer\n",
        "*   a fully connected layer"
      ]
    },
    {
      "cell_type": "code",
      "execution_count": 18,
      "metadata": {
        "id": "ISnnHE0BMVqp"
      },
      "outputs": [],
      "source": [
        "from torch import nn\n",
        "\n",
        "class LanguageModel(nn.Module):\n",
        "    def __init__(self, vocab_size, embedding_dim, hidden_dim, num_layers, dropout_rate):\n",
        "        super(LanguageModel, self).__init__()\n",
        "        self.embedding = nn.Embedding(vocab_size, embedding_dim)\n",
        "        self.lstm = nn.LSTM(embedding_dim, hidden_dim, num_layers, dropout=dropout_rate, batch_first=True)\n",
        "        self.dropout = nn.Dropout(dropout_rate)\n",
        "        self.fc = nn.Linear(hidden_dim, vocab_size)\n",
        "\n",
        "    def forward(self, src, hidden=None):\n",
        "        embedded = self.dropout(self.embedding(src))  # (batch_size, seq_len, embedding_dim)\n",
        "        output, hidden = self.lstm(embedded, hidden)  # output: (batch_size, seq_len, hidden_dim)\n",
        "        output = self.dropout(output)\n",
        "        output = output.reshape(-1, output.size(2))  # (batch_size * seq_len, hidden_dim)\n",
        "        logits = self.fc(output)  # (batch_size * seq_len, vocab_size)\n",
        "        return logits, hidden\n",
        "\n"
      ]
    },
    {
      "cell_type": "markdown",
      "metadata": {
        "id": "24qT-sgUO2-d"
      },
      "source": [
        "# 🔴 **Config**"
      ]
    },
    {
      "cell_type": "code",
      "execution_count": 19,
      "metadata": {
        "id": "Ma28M5Z36gsq",
        "colab": {
          "base_uri": "https://localhost:8080/",
          "height": 35
        },
        "outputId": "f487f7a1-bdd8-4235-9b11-74fa2553b760"
      },
      "outputs": [
        {
          "output_type": "execute_result",
          "data": {
            "text/plain": [
              "'cuda'"
            ],
            "application/vnd.google.colaboratory.intrinsic+json": {
              "type": "string"
            }
          },
          "metadata": {},
          "execution_count": 19
        }
      ],
      "source": [
        "device = 'cuda' if torch.cuda.is_available() else 'cpu'\n",
        "device"
      ]
    },
    {
      "cell_type": "markdown",
      "metadata": {
        "id": "bwYDJKjuduUT"
      },
      "source": [
        "🔰 Define the optimizer, loss function, metrics and other necessary parameters in this section, and ensure the model is sent to the appropriate device."
      ]
    },
    {
      "cell_type": "code",
      "execution_count": 27,
      "metadata": {
        "id": "9ubk3xKaIG6i",
        "colab": {
          "base_uri": "https://localhost:8080/"
        },
        "outputId": "a3d60ea0-ebcc-4515-efeb-6db8ad6e8b82"
      },
      "outputs": [
        {
          "output_type": "stream",
          "name": "stdout",
          "text": [
            "Model has 27.13M trainable parameters\n"
          ]
        }
      ],
      "source": [
        "# Model hyperparameters\n",
        "vocab_size = len(vocab)\n",
        "embedding_dim = 200\n",
        "hidden_dim = 200\n",
        "num_layers = 2\n",
        "dropout_rate = 0.2\n",
        "\n",
        "# Instantiate the model\n",
        "model = LanguageModel(vocab_size, embedding_dim, hidden_dim, num_layers, dropout_rate).to(device)\n",
        "\n",
        "# Define loss function and optimizer\n",
        "loss_fn = nn.CrossEntropyLoss()\n",
        "optimizer = torch.optim.Adam(model.parameters(), lr=0.001)\n",
        "\n",
        "# Print number of trainable parameters\n",
        "def num_trainable_params(model):\n",
        "    return sum(p.numel() for p in model.parameters() if p.requires_grad)/1e6\n",
        "\n",
        "print(f\"Model has {num_trainable_params(model):.2f}M trainable parameters\")\n"
      ]
    },
    {
      "cell_type": "markdown",
      "metadata": {
        "id": "W0QNbC0YPCKZ"
      },
      "source": [
        "# 🔴 **Train ➰**"
      ]
    },
    {
      "cell_type": "markdown",
      "metadata": {
        "id": "yS6EF4HUhi5e"
      },
      "source": [
        "🔰 This is the template for train function, change it if needed."
      ]
    },
    {
      "cell_type": "code",
      "execution_count": 28,
      "metadata": {
        "id": "WniOAgk0QyRI"
      },
      "outputs": [],
      "source": [
        "def train_one_epoch(model, train_loader, loss_fn, optimizer, metric, epoch=None):\n",
        "    model.train()\n",
        "    loss_train = AverageMeter()\n",
        "    metric.reset()\n",
        "\n",
        "    with tqdm.tqdm(train_loader, unit='batch') as tepoch:\n",
        "        for batch_idx, (inputs, targets) in enumerate(tepoch):\n",
        "            if epoch is not None:\n",
        "                tepoch.set_description(f'Epoch {epoch}')\n",
        "\n",
        "            inputs = inputs.to(device)\n",
        "            targets = targets.to(device)\n",
        "\n",
        "            outputs, _ = model(inputs)\n",
        "            loss = loss_fn(outputs, targets.view(-1))\n",
        "\n",
        "            loss.backward()\n",
        "            optimizer.step()\n",
        "            optimizer.zero_grad()\n",
        "\n",
        "            loss_train.update(loss.item(), n=targets.numel())\n",
        "            metric.update(outputs, targets.view(-1))\n",
        "\n",
        "            tepoch.set_postfix(loss=loss_train.avg, metric=metric.compute().item())\n",
        "\n",
        "    return model, loss_train.avg, metric.compute().item()"
      ]
    },
    {
      "cell_type": "markdown",
      "metadata": {
        "id": "G9HgVWslPGsH"
      },
      "source": [
        "# 🔴 **Evaluation**"
      ]
    },
    {
      "cell_type": "markdown",
      "metadata": {
        "id": "TsszJ7GVj2l3"
      },
      "source": [
        "🔰 This is the template for evaluation function, change it if needed."
      ]
    },
    {
      "cell_type": "code",
      "execution_count": 22,
      "metadata": {
        "id": "uV0_67_ZQ0xf"
      },
      "outputs": [],
      "source": [
        "def evaluate(model, valid_loader, loss_fn, metric):\n",
        "    model.eval()\n",
        "    loss_eval = AverageMeter()\n",
        "    metric.reset()\n",
        "\n",
        "    with torch.inference_mode():\n",
        "        for inputs, targets in valid_loader:\n",
        "            inputs = inputs.to(device)\n",
        "            targets = targets.to(device)\n",
        "\n",
        "            outputs, _ = model(inputs)\n",
        "            loss = loss_fn(outputs, targets.view(-1))\n",
        "\n",
        "            loss_eval.update(loss.item(), n=targets.numel())\n",
        "            metric.update(outputs, targets.view(-1))\n",
        "\n",
        "    return loss_eval.avg, metric.compute().item()"
      ]
    },
    {
      "cell_type": "code",
      "source": [
        "import tqdm\n",
        "import torchmetrics as tm\n",
        "\n",
        "# AverageMeter class to track metrics\n",
        "class AverageMeter(object):\n",
        "    \"\"\"Computes and stores the average and current value\"\"\"\n",
        "    def __init__(self):\n",
        "        self.reset()\n",
        "\n",
        "    def reset(self):\n",
        "        self.val = 0\n",
        "        self.avg = 0\n",
        "        self.sum = 0\n",
        "        self.count = 0\n",
        "\n",
        "    def update(self, val, n=1):\n",
        "        self.val = val\n",
        "        self.sum += val * n\n",
        "        self.count += n\n",
        "        self.avg = self.sum / self.count"
      ],
      "metadata": {
        "id": "6SlylzL90Y-Y"
      },
      "execution_count": 23,
      "outputs": []
    },
    {
      "cell_type": "markdown",
      "metadata": {
        "id": "o_5f69nwPtY2"
      },
      "source": [
        "# 🔴 **Training Process 〽️**"
      ]
    },
    {
      "cell_type": "markdown",
      "metadata": {
        "id": "De7VreNxQdct"
      },
      "source": [
        "## 🟠 Finding Hyper-parameters"
      ]
    },
    {
      "cell_type": "markdown",
      "metadata": {
        "id": "lpJ3wtyctQJH"
      },
      "source": [
        "### 🟡 **Step 1:** Calculate the loss for an untrained model using a few batches.\n"
      ]
    },
    {
      "cell_type": "code",
      "execution_count": 29,
      "metadata": {
        "id": "QnE4F4GkzzaR",
        "colab": {
          "base_uri": "https://localhost:8080/"
        },
        "outputId": "b652bc81-79fb-4dd1-bc4e-87c6f1b966e2"
      },
      "outputs": [
        {
          "output_type": "stream",
          "name": "stdout",
          "text": [
            "Loss for untrained model: 11.0971\n"
          ]
        }
      ],
      "source": [
        "# Define hyperparameters for the model\n",
        "vocab_size = len(vocab)\n",
        "embedding_dim = 200\n",
        "hidden_dim = 200\n",
        "num_layers = 2\n",
        "dropout_rate = 0.2\n",
        "\n",
        "# Initialize the model\n",
        "model = LanguageModel(vocab_size, embedding_dim, hidden_dim, num_layers, dropout_rate).to(device)\n",
        "\n",
        "# Define the loss function\n",
        "loss_fn = nn.CrossEntropyLoss()\n",
        "\n",
        "# Define the optimizer (initial learning rate will be updated later)\n",
        "optimizer = torch.optim.SGD(model.parameters(), lr=0.01, momentum=0.9)\n",
        "\n",
        "# Define the metric with the correct initialization\n",
        "metric = tm.Accuracy(task='multiclass', num_classes=vocab_size).to(device)\n",
        "\n",
        "# Get a batch from the training set\n",
        "train_loader_iter = iter(train_loader)\n",
        "inputs, targets = next(train_loader_iter)\n",
        "\n",
        "# Move inputs and targets to the device\n",
        "inputs = inputs.to(device)\n",
        "targets = targets.to(device)\n",
        "\n",
        "# Calculate loss for the untrained model\n",
        "with torch.no_grad():\n",
        "    outputs, _ = model(inputs)\n",
        "    loss = loss_fn(outputs, targets.view(-1))\n",
        "\n",
        "print(f'Loss for untrained model: {loss.item():.4f}')\n"
      ]
    },
    {
      "cell_type": "markdown",
      "metadata": {
        "id": "BrHQCv7q7LF_"
      },
      "source": [
        "### 🟡 **Step 2:** Try to train and overfit the model on a small subset of the dataset."
      ]
    },
    {
      "cell_type": "code",
      "execution_count": 30,
      "metadata": {
        "id": "G0ji0MXsWaPt",
        "colab": {
          "base_uri": "https://localhost:8080/"
        },
        "outputId": "c6c7ff84-37d1-4ba8-c731-ce304afe98d8"
      },
      "outputs": [
        {
          "output_type": "stream",
          "name": "stderr",
          "text": [
            "Epoch 1: 100%|██████████| 512/512 [00:07<00:00, 70.78batch/s, loss=9.66, metric=0.0539]\n"
          ]
        },
        {
          "output_type": "stream",
          "name": "stdout",
          "text": [
            "Epoch 1/20 - Train Loss: 9.6606, Train Accuracy: 0.0539\n"
          ]
        },
        {
          "output_type": "stream",
          "name": "stderr",
          "text": [
            "Epoch 2: 100%|██████████| 512/512 [00:06<00:00, 75.98batch/s, loss=7.75, metric=0.0525]\n"
          ]
        },
        {
          "output_type": "stream",
          "name": "stdout",
          "text": [
            "Epoch 2/20 - Train Loss: 7.7548, Train Accuracy: 0.0525\n"
          ]
        },
        {
          "output_type": "stream",
          "name": "stderr",
          "text": [
            "Epoch 3: 100%|██████████| 512/512 [00:07<00:00, 71.98batch/s, loss=7.27, metric=0.0507]\n"
          ]
        },
        {
          "output_type": "stream",
          "name": "stdout",
          "text": [
            "Epoch 3/20 - Train Loss: 7.2728, Train Accuracy: 0.0507\n"
          ]
        },
        {
          "output_type": "stream",
          "name": "stderr",
          "text": [
            "Epoch 4: 100%|██████████| 512/512 [00:06<00:00, 75.77batch/s, loss=7.01, metric=0.0562]\n"
          ]
        },
        {
          "output_type": "stream",
          "name": "stdout",
          "text": [
            "Epoch 4/20 - Train Loss: 7.0093, Train Accuracy: 0.0562\n"
          ]
        },
        {
          "output_type": "stream",
          "name": "stderr",
          "text": [
            "Epoch 5: 100%|██████████| 512/512 [00:07<00:00, 71.38batch/s, loss=6.81, metric=0.0673]\n"
          ]
        },
        {
          "output_type": "stream",
          "name": "stdout",
          "text": [
            "Epoch 5/20 - Train Loss: 6.8112, Train Accuracy: 0.0673\n"
          ]
        },
        {
          "output_type": "stream",
          "name": "stderr",
          "text": [
            "Epoch 6: 100%|██████████| 512/512 [00:06<00:00, 76.40batch/s, loss=6.63, metric=0.0868]\n"
          ]
        },
        {
          "output_type": "stream",
          "name": "stdout",
          "text": [
            "Epoch 6/20 - Train Loss: 6.6278, Train Accuracy: 0.0868\n"
          ]
        },
        {
          "output_type": "stream",
          "name": "stderr",
          "text": [
            "Epoch 7: 100%|██████████| 512/512 [00:07<00:00, 71.59batch/s, loss=6.48, metric=0.0954]\n"
          ]
        },
        {
          "output_type": "stream",
          "name": "stdout",
          "text": [
            "Epoch 7/20 - Train Loss: 6.4753, Train Accuracy: 0.0954\n"
          ]
        },
        {
          "output_type": "stream",
          "name": "stderr",
          "text": [
            "Epoch 8: 100%|██████████| 512/512 [00:06<00:00, 75.95batch/s, loss=6.36, metric=0.103]\n"
          ]
        },
        {
          "output_type": "stream",
          "name": "stdout",
          "text": [
            "Epoch 8/20 - Train Loss: 6.3579, Train Accuracy: 0.1029\n"
          ]
        },
        {
          "output_type": "stream",
          "name": "stderr",
          "text": [
            "Epoch 9: 100%|██████████| 512/512 [00:07<00:00, 71.33batch/s, loss=6.27, metric=0.106]\n"
          ]
        },
        {
          "output_type": "stream",
          "name": "stdout",
          "text": [
            "Epoch 9/20 - Train Loss: 6.2693, Train Accuracy: 0.1056\n"
          ]
        },
        {
          "output_type": "stream",
          "name": "stderr",
          "text": [
            "Epoch 10: 100%|██████████| 512/512 [00:06<00:00, 75.94batch/s, loss=6.18, metric=0.114]\n"
          ]
        },
        {
          "output_type": "stream",
          "name": "stdout",
          "text": [
            "Epoch 10/20 - Train Loss: 6.1768, Train Accuracy: 0.1142\n"
          ]
        },
        {
          "output_type": "stream",
          "name": "stderr",
          "text": [
            "Epoch 11: 100%|██████████| 512/512 [00:07<00:00, 70.02batch/s, loss=6.09, metric=0.116]\n"
          ]
        },
        {
          "output_type": "stream",
          "name": "stdout",
          "text": [
            "Epoch 11/20 - Train Loss: 6.0908, Train Accuracy: 0.1162\n"
          ]
        },
        {
          "output_type": "stream",
          "name": "stderr",
          "text": [
            "Epoch 12: 100%|██████████| 512/512 [00:06<00:00, 74.26batch/s, loss=6.01, metric=0.122]\n"
          ]
        },
        {
          "output_type": "stream",
          "name": "stdout",
          "text": [
            "Epoch 12/20 - Train Loss: 6.0096, Train Accuracy: 0.1216\n"
          ]
        },
        {
          "output_type": "stream",
          "name": "stderr",
          "text": [
            "Epoch 13: 100%|██████████| 512/512 [00:08<00:00, 63.59batch/s, loss=5.94, metric=0.124]\n"
          ]
        },
        {
          "output_type": "stream",
          "name": "stdout",
          "text": [
            "Epoch 13/20 - Train Loss: 5.9355, Train Accuracy: 0.1240\n"
          ]
        },
        {
          "output_type": "stream",
          "name": "stderr",
          "text": [
            "Epoch 14: 100%|██████████| 512/512 [00:06<00:00, 77.04batch/s, loss=5.87, metric=0.128]\n"
          ]
        },
        {
          "output_type": "stream",
          "name": "stdout",
          "text": [
            "Epoch 14/20 - Train Loss: 5.8743, Train Accuracy: 0.1279\n"
          ]
        },
        {
          "output_type": "stream",
          "name": "stderr",
          "text": [
            "Epoch 15: 100%|██████████| 512/512 [00:07<00:00, 71.33batch/s, loss=5.81, metric=0.125]\n"
          ]
        },
        {
          "output_type": "stream",
          "name": "stdout",
          "text": [
            "Epoch 15/20 - Train Loss: 5.8081, Train Accuracy: 0.1254\n"
          ]
        },
        {
          "output_type": "stream",
          "name": "stderr",
          "text": [
            "Epoch 16: 100%|██████████| 512/512 [00:06<00:00, 76.58batch/s, loss=5.73, metric=0.133]\n"
          ]
        },
        {
          "output_type": "stream",
          "name": "stdout",
          "text": [
            "Epoch 16/20 - Train Loss: 5.7330, Train Accuracy: 0.1331\n"
          ]
        },
        {
          "output_type": "stream",
          "name": "stderr",
          "text": [
            "Epoch 17: 100%|██████████| 512/512 [00:07<00:00, 71.73batch/s, loss=5.67, metric=0.135]\n"
          ]
        },
        {
          "output_type": "stream",
          "name": "stdout",
          "text": [
            "Epoch 17/20 - Train Loss: 5.6681, Train Accuracy: 0.1348\n"
          ]
        },
        {
          "output_type": "stream",
          "name": "stderr",
          "text": [
            "Epoch 18: 100%|██████████| 512/512 [00:06<00:00, 78.36batch/s, loss=5.6, metric=0.142]\n"
          ]
        },
        {
          "output_type": "stream",
          "name": "stdout",
          "text": [
            "Epoch 18/20 - Train Loss: 5.6047, Train Accuracy: 0.1425\n"
          ]
        },
        {
          "output_type": "stream",
          "name": "stderr",
          "text": [
            "Epoch 19: 100%|██████████| 512/512 [00:06<00:00, 73.55batch/s, loss=5.55, metric=0.141]\n"
          ]
        },
        {
          "output_type": "stream",
          "name": "stdout",
          "text": [
            "Epoch 19/20 - Train Loss: 5.5501, Train Accuracy: 0.1414\n"
          ]
        },
        {
          "output_type": "stream",
          "name": "stderr",
          "text": [
            "Epoch 20: 100%|██████████| 512/512 [00:06<00:00, 75.57batch/s, loss=5.47, metric=0.15]"
          ]
        },
        {
          "output_type": "stream",
          "name": "stdout",
          "text": [
            "Epoch 20/20 - Train Loss: 5.4698, Train Accuracy: 0.1496\n"
          ]
        },
        {
          "output_type": "stream",
          "name": "stderr",
          "text": [
            "\n"
          ]
        }
      ],
      "source": [
        "# Define a small subset size\n",
        "subset_size = 512  # Adjust as needed\n",
        "\n",
        "# Create a subset DataLoader\n",
        "from torch.utils.data import Subset\n",
        "\n",
        "subset_indices = list(range(subset_size))\n",
        "train_subset = Subset(train_data, subset_indices)\n",
        "train_subset_loader = DataLoader(train_subset, batch_size=1, shuffle=True)\n",
        "\n",
        "# Initialize a new model for the subset\n",
        "model_subset = LanguageModel(vocab_size, embedding_dim, hidden_dim, num_layers, dropout_rate).to(device)\n",
        "\n",
        "# Define optimizer for the subset\n",
        "optimizer_subset = torch.optim.SGD(model_subset.parameters(), lr=0.01, momentum=0.9)\n",
        "\n",
        "# Define metric for the subset\n",
        "metric_subset = tm.Accuracy(task='multiclass', num_classes=vocab_size).to(device)\n",
        "\n",
        "# Number of epochs for overfitting\n",
        "num_epochs_subset = 20\n",
        "\n",
        "# Training loop for the subset\n",
        "for epoch in range(1, num_epochs_subset + 1):\n",
        "    model_subset, loss_train, metric_train = train_one_epoch(\n",
        "        model_subset,\n",
        "        train_subset_loader,\n",
        "        loss_fn,\n",
        "        optimizer_subset,\n",
        "        metric_subset,\n",
        "        epoch\n",
        "    )\n",
        "    print(f'Epoch {epoch}/{num_epochs_subset} - Train Loss: {loss_train:.4f}, Train Accuracy: {metric_train:.4f}')\n"
      ]
    },
    {
      "cell_type": "markdown",
      "metadata": {
        "id": "BLT4w0ZfAhlJ"
      },
      "source": [
        "### 🟡 **Step 3:** Train the model for a limited number of epochs, experimenting with various learning rates."
      ]
    },
    {
      "cell_type": "code",
      "execution_count": 32,
      "metadata": {
        "id": "Jxz5DXoj61mg",
        "colab": {
          "base_uri": "https://localhost:8080/"
        },
        "outputId": "fe6fcbdb-3afd-4b6a-879c-8ab20204d8e9"
      },
      "outputs": [
        {
          "output_type": "stream",
          "name": "stdout",
          "text": [
            "\n",
            "Training with learning rate: 0.1\n"
          ]
        },
        {
          "output_type": "stream",
          "name": "stderr",
          "text": [
            "Epoch 1: 100%|██████████| 1660/1660 [01:31<00:00, 18.16batch/s, loss=7.11, metric=0.118]\n"
          ]
        },
        {
          "output_type": "stream",
          "name": "stdout",
          "text": [
            "Epoch 1/2 - Train Loss: 7.1059, Train Accuracy: 0.1181\n"
          ]
        },
        {
          "output_type": "stream",
          "name": "stderr",
          "text": [
            "Epoch 2: 100%|██████████| 1660/1660 [01:31<00:00, 18.22batch/s, loss=6.59, metric=0.139]\n"
          ]
        },
        {
          "output_type": "stream",
          "name": "stdout",
          "text": [
            "Epoch 2/2 - Train Loss: 6.5864, Train Accuracy: 0.1394\n",
            "Validation Loss: 6.5237, Validation Accuracy: 0.1556\n",
            "\n",
            "Training with learning rate: 0.01\n"
          ]
        },
        {
          "output_type": "stream",
          "name": "stderr",
          "text": [
            "Epoch 1: 100%|██████████| 1660/1660 [01:32<00:00, 17.98batch/s, loss=8.41, metric=0.0604]\n"
          ]
        },
        {
          "output_type": "stream",
          "name": "stdout",
          "text": [
            "Epoch 1/2 - Train Loss: 8.4055, Train Accuracy: 0.0604\n"
          ]
        },
        {
          "output_type": "stream",
          "name": "stderr",
          "text": [
            "Epoch 2: 100%|██████████| 1660/1660 [01:31<00:00, 18.20batch/s, loss=7.32, metric=0.0961]\n"
          ]
        },
        {
          "output_type": "stream",
          "name": "stdout",
          "text": [
            "Epoch 2/2 - Train Loss: 7.3228, Train Accuracy: 0.0961\n",
            "Validation Loss: 7.1123, Validation Accuracy: 0.1203\n",
            "\n",
            "Training with learning rate: 0.001\n"
          ]
        },
        {
          "output_type": "stream",
          "name": "stderr",
          "text": [
            "Epoch 1: 100%|██████████| 1660/1660 [01:31<00:00, 18.18batch/s, loss=10.9, metric=0.058]\n"
          ]
        },
        {
          "output_type": "stream",
          "name": "stdout",
          "text": [
            "Epoch 1/2 - Train Loss: 10.8763, Train Accuracy: 0.0580\n"
          ]
        },
        {
          "output_type": "stream",
          "name": "stderr",
          "text": [
            "Epoch 2: 100%|██████████| 1660/1660 [01:31<00:00, 18.06batch/s, loss=9.1, metric=0.0608]\n"
          ]
        },
        {
          "output_type": "stream",
          "name": "stdout",
          "text": [
            "Epoch 2/2 - Train Loss: 9.1007, Train Accuracy: 0.0608\n",
            "Validation Loss: 8.5317, Validation Accuracy: 0.0663\n"
          ]
        }
      ],
      "source": [
        "# Define hyperparameters to explore\n",
        "learning_rates = [0.1, 0.01, 0.001]\n",
        "num_epochs_lr = 2  # Number of epochs per learning rate\n",
        "\n",
        "# Store results\n",
        "lr_results = []\n",
        "\n",
        "for lr in learning_rates:\n",
        "    print(f'\\nTraining with learning rate: {lr}')\n",
        "\n",
        "    # Initialize a new model for each learning rate\n",
        "    model_lr = LanguageModel(vocab_size, embedding_dim, hidden_dim, num_layers, dropout_rate).to(device)\n",
        "\n",
        "    # Define optimizer with current learning rate\n",
        "    optimizer_lr = torch.optim.SGD(model_lr.parameters(), lr=lr, momentum=0.9)\n",
        "\n",
        "    # Define metric\n",
        "    metric_lr = tm.Accuracy(task='multiclass', num_classes=vocab_size).to(device)\n",
        "\n",
        "    # Training loop\n",
        "    for epoch in range(1, num_epochs_lr + 1):\n",
        "        model_lr, loss_train, metric_train = train_one_epoch(\n",
        "            model_lr,\n",
        "            train_loader,\n",
        "            loss_fn,\n",
        "            optimizer_lr,\n",
        "            metric_lr,\n",
        "            epoch\n",
        "        )\n",
        "        print(f'Epoch {epoch}/{num_epochs_lr} - Train Loss: {loss_train:.4f}, Train Accuracy: {metric_train:.4f}')\n",
        "\n",
        "    # Evaluate on validation set\n",
        "    loss_valid, metric_valid = evaluate(model_lr, valid_loader, loss_fn, metric_lr)\n",
        "    print(f'Validation Loss: {loss_valid:.4f}, Validation Accuracy: {metric_valid:.4f}')\n",
        "\n",
        "    # Record results\n",
        "    lr_results.append({\n",
        "        'learning_rate': lr,\n",
        "        'train_loss': loss_train,\n",
        "        'train_accuracy': metric_train,\n",
        "        'valid_loss': loss_valid,\n",
        "        'valid_accuracy': metric_valid\n",
        "    })\n"
      ]
    },
    {
      "cell_type": "markdown",
      "metadata": {
        "id": "uC2GhaXfA8vC"
      },
      "source": [
        "### 🟡 Step 4: Create a small grid using the weight decay and the best learning rate.\n",
        "\n",
        "\n",
        "\n"
      ]
    },
    {
      "cell_type": "code",
      "execution_count": 33,
      "metadata": {
        "id": "a7UeNW3WWaPu",
        "colab": {
          "base_uri": "https://localhost:8080/"
        },
        "outputId": "1edda677-b86b-4186-91e0-470457850c36"
      },
      "outputs": [
        {
          "output_type": "stream",
          "name": "stdout",
          "text": [
            "\n",
            "Training with learning rate: 0.1, weight decay: 0.0001\n"
          ]
        },
        {
          "output_type": "stream",
          "name": "stderr",
          "text": [
            "Epoch 1: 100%|██████████| 1660/1660 [01:35<00:00, 17.46batch/s, loss=7.13, metric=0.116]\n"
          ]
        },
        {
          "output_type": "stream",
          "name": "stdout",
          "text": [
            "Epoch 1/1 - Train Loss: 7.1274, Train Accuracy: 0.1158\n",
            "Validation Loss: 6.7031, Validation Accuracy: 0.1409\n",
            "\n",
            "Training with learning rate: 0.1, weight decay: 1e-05\n"
          ]
        },
        {
          "output_type": "stream",
          "name": "stderr",
          "text": [
            "Epoch 1: 100%|██████████| 1660/1660 [01:34<00:00, 17.64batch/s, loss=7.11, metric=0.118]\n"
          ]
        },
        {
          "output_type": "stream",
          "name": "stdout",
          "text": [
            "Epoch 1/1 - Train Loss: 7.1089, Train Accuracy: 0.1176\n",
            "Validation Loss: 6.6636, Validation Accuracy: 0.1410\n",
            "\n",
            "Training with learning rate: 0.1, weight decay: 1e-06\n"
          ]
        },
        {
          "output_type": "stream",
          "name": "stderr",
          "text": [
            "Epoch 1: 100%|██████████| 1660/1660 [01:33<00:00, 17.67batch/s, loss=7.11, metric=0.118]\n"
          ]
        },
        {
          "output_type": "stream",
          "name": "stdout",
          "text": [
            "Epoch 1/1 - Train Loss: 7.1068, Train Accuracy: 0.1181\n",
            "Validation Loss: 6.6755, Validation Accuracy: 0.1426\n"
          ]
        }
      ],
      "source": [
        "best_lr = 0.1\n",
        "weight_decays = [1e-4, 1e-5, 1e-6]\n",
        "num_epochs_wd = 1  # Number of epochs per weight decay\n",
        "\n",
        "# Store results\n",
        "wd_results = []\n",
        "\n",
        "for wd in weight_decays:\n",
        "    print(f'\\nTraining with learning rate: {best_lr}, weight decay: {wd}')\n",
        "\n",
        "    # Initialize a new model for each weight decay\n",
        "    model_wd = LanguageModel(vocab_size, embedding_dim, hidden_dim, num_layers, dropout_rate).to(device)\n",
        "\n",
        "    # Define optimizer with current weight decay\n",
        "    optimizer_wd = torch.optim.SGD(model_wd.parameters(), lr=best_lr, weight_decay=wd, momentum=0.9)\n",
        "\n",
        "    # Define metric\n",
        "    metric_wd = tm.Accuracy(task='multiclass', num_classes=vocab_size).to(device)\n",
        "\n",
        "    # Training loop\n",
        "    for epoch in range(1, num_epochs_wd + 1):\n",
        "        model_wd, loss_train, metric_train = train_one_epoch(\n",
        "            model_wd,\n",
        "            train_loader,\n",
        "            loss_fn,\n",
        "            optimizer_wd,\n",
        "            metric_wd,\n",
        "            epoch\n",
        "        )\n",
        "        print(f'Epoch {epoch}/{num_epochs_wd} - Train Loss: {loss_train:.4f}, Train Accuracy: {metric_train:.4f}')\n",
        "\n",
        "    # Evaluate on validation set\n",
        "    loss_valid, metric_valid = evaluate(model_wd, valid_loader, loss_fn, metric_wd)\n",
        "    print(f'Validation Loss: {loss_valid:.4f}, Validation Accuracy: {metric_valid:.4f}')\n",
        "\n",
        "    # Record results\n",
        "    wd_results.append({\n",
        "        'weight_decay': wd,\n",
        "        'train_loss': loss_train,\n",
        "        'train_accuracy': metric_train,\n",
        "        'valid_loss': loss_valid,\n",
        "        'valid_accuracy': metric_valid\n",
        "    })\n"
      ]
    },
    {
      "cell_type": "markdown",
      "metadata": {
        "id": "Mjd9Z3N1ef3I"
      },
      "source": [
        "### 🟡 Step 5: Train model for longer epochs using the best model from step 4.\n",
        "\n",
        "\n",
        "\n"
      ]
    },
    {
      "cell_type": "code",
      "execution_count": 34,
      "metadata": {
        "id": "IWgkMgC6JWpU",
        "colab": {
          "base_uri": "https://localhost:8080/"
        },
        "outputId": "56767aa5-a124-458e-c3f3-1bdf2172c401"
      },
      "outputs": [
        {
          "output_type": "stream",
          "name": "stderr",
          "text": [
            "Epoch 1: 100%|██████████| 1660/1660 [01:37<00:00, 17.05batch/s, loss=7.09, metric=0.119]\n"
          ]
        },
        {
          "output_type": "stream",
          "name": "stdout",
          "text": [
            "Model Saved!\n",
            "Epoch 1/50 - Train Loss: 7.0906, Train Accuracy: 0.1189\n",
            "Validation Loss: 6.6656, Validation Accuracy: 0.1422\n",
            "\n"
          ]
        },
        {
          "output_type": "stream",
          "name": "stderr",
          "text": [
            "Epoch 2: 100%|██████████| 1660/1660 [01:36<00:00, 17.28batch/s, loss=6.6, metric=0.139]\n"
          ]
        },
        {
          "output_type": "stream",
          "name": "stdout",
          "text": [
            "Model Saved!\n",
            "Epoch 2/50 - Train Loss: 6.5983, Train Accuracy: 0.1392\n",
            "Validation Loss: 6.5349, Validation Accuracy: 0.1517\n",
            "\n"
          ]
        },
        {
          "output_type": "stream",
          "name": "stderr",
          "text": [
            "Epoch 3: 100%|██████████| 1660/1660 [01:36<00:00, 17.13batch/s, loss=6.49, metric=0.147]\n"
          ]
        },
        {
          "output_type": "stream",
          "name": "stdout",
          "text": [
            "Model Saved!\n",
            "Epoch 3/50 - Train Loss: 6.4869, Train Accuracy: 0.1470\n",
            "Validation Loss: 6.4522, Validation Accuracy: 0.1603\n",
            "\n"
          ]
        },
        {
          "output_type": "stream",
          "name": "stderr",
          "text": [
            "Epoch 4: 100%|██████████| 1660/1660 [01:36<00:00, 17.26batch/s, loss=6.41, metric=0.153]\n"
          ]
        },
        {
          "output_type": "stream",
          "name": "stdout",
          "text": [
            "Model Saved!\n",
            "Epoch 4/50 - Train Loss: 6.4148, Train Accuracy: 0.1527\n",
            "Validation Loss: 6.3963, Validation Accuracy: 0.1680\n",
            "\n"
          ]
        },
        {
          "output_type": "stream",
          "name": "stderr",
          "text": [
            "Epoch 5: 100%|██████████| 1660/1660 [01:36<00:00, 17.22batch/s, loss=6.36, metric=0.157]\n"
          ]
        },
        {
          "output_type": "stream",
          "name": "stdout",
          "text": [
            "Model Saved!\n",
            "Epoch 5/50 - Train Loss: 6.3611, Train Accuracy: 0.1566\n",
            "Validation Loss: 6.3557, Validation Accuracy: 0.1695\n",
            "\n"
          ]
        },
        {
          "output_type": "stream",
          "name": "stderr",
          "text": [
            "Epoch 6: 100%|██████████| 1660/1660 [01:36<00:00, 17.26batch/s, loss=6.32, metric=0.159]\n"
          ]
        },
        {
          "output_type": "stream",
          "name": "stdout",
          "text": [
            "Model Saved!\n",
            "Epoch 6/50 - Train Loss: 6.3188, Train Accuracy: 0.1592\n",
            "Validation Loss: 6.3201, Validation Accuracy: 0.1728\n",
            "\n"
          ]
        },
        {
          "output_type": "stream",
          "name": "stderr",
          "text": [
            "Epoch 7: 100%|██████████| 1660/1660 [01:36<00:00, 17.26batch/s, loss=6.28, metric=0.161]\n"
          ]
        },
        {
          "output_type": "stream",
          "name": "stdout",
          "text": [
            "Model Saved!\n",
            "Epoch 7/50 - Train Loss: 6.2832, Train Accuracy: 0.1609\n",
            "Validation Loss: 6.2948, Validation Accuracy: 0.1741\n",
            "\n"
          ]
        },
        {
          "output_type": "stream",
          "name": "stderr",
          "text": [
            "Epoch 8: 100%|██████████| 1660/1660 [01:36<00:00, 17.25batch/s, loss=6.25, metric=0.162]\n"
          ]
        },
        {
          "output_type": "stream",
          "name": "stdout",
          "text": [
            "Model Saved!\n",
            "Epoch 8/50 - Train Loss: 6.2543, Train Accuracy: 0.1624\n",
            "Validation Loss: 6.2769, Validation Accuracy: 0.1758\n",
            "\n"
          ]
        },
        {
          "output_type": "stream",
          "name": "stderr",
          "text": [
            "Epoch 9: 100%|██████████| 1660/1660 [01:36<00:00, 17.25batch/s, loss=6.23, metric=0.163]\n"
          ]
        },
        {
          "output_type": "stream",
          "name": "stdout",
          "text": [
            "Model Saved!\n",
            "Epoch 9/50 - Train Loss: 6.2289, Train Accuracy: 0.1635\n",
            "Validation Loss: 6.2626, Validation Accuracy: 0.1756\n",
            "\n"
          ]
        },
        {
          "output_type": "stream",
          "name": "stderr",
          "text": [
            "Epoch 10: 100%|██████████| 1660/1660 [01:36<00:00, 17.28batch/s, loss=6.21, metric=0.164]\n"
          ]
        },
        {
          "output_type": "stream",
          "name": "stdout",
          "text": [
            "Model Saved!\n",
            "Epoch 10/50 - Train Loss: 6.2076, Train Accuracy: 0.1645\n",
            "Validation Loss: 6.2462, Validation Accuracy: 0.1777\n",
            "\n"
          ]
        },
        {
          "output_type": "stream",
          "name": "stderr",
          "text": [
            "Epoch 11: 100%|██████████| 1660/1660 [01:36<00:00, 17.26batch/s, loss=6.19, metric=0.166]\n"
          ]
        },
        {
          "output_type": "stream",
          "name": "stdout",
          "text": [
            "Model Saved!\n",
            "Epoch 11/50 - Train Loss: 6.1878, Train Accuracy: 0.1655\n",
            "Validation Loss: 6.2360, Validation Accuracy: 0.1767\n",
            "\n"
          ]
        },
        {
          "output_type": "stream",
          "name": "stderr",
          "text": [
            "Epoch 12: 100%|██████████| 1660/1660 [01:36<00:00, 17.26batch/s, loss=6.17, metric=0.166]\n"
          ]
        },
        {
          "output_type": "stream",
          "name": "stdout",
          "text": [
            "Model Saved!\n",
            "Epoch 12/50 - Train Loss: 6.1708, Train Accuracy: 0.1660\n",
            "Validation Loss: 6.2240, Validation Accuracy: 0.1743\n",
            "\n"
          ]
        },
        {
          "output_type": "stream",
          "name": "stderr",
          "text": [
            "Epoch 13: 100%|██████████| 1660/1660 [01:36<00:00, 17.24batch/s, loss=6.16, metric=0.167]\n"
          ]
        },
        {
          "output_type": "stream",
          "name": "stdout",
          "text": [
            "Model Saved!\n",
            "Epoch 13/50 - Train Loss: 6.1550, Train Accuracy: 0.1666\n",
            "Validation Loss: 6.2171, Validation Accuracy: 0.1793\n",
            "\n"
          ]
        },
        {
          "output_type": "stream",
          "name": "stderr",
          "text": [
            "Epoch 14: 100%|██████████| 1660/1660 [01:36<00:00, 17.25batch/s, loss=6.14, metric=0.167]\n"
          ]
        },
        {
          "output_type": "stream",
          "name": "stdout",
          "text": [
            "Model Saved!\n",
            "Epoch 14/50 - Train Loss: 6.1398, Train Accuracy: 0.1674\n",
            "Validation Loss: 6.2076, Validation Accuracy: 0.1793\n",
            "\n"
          ]
        },
        {
          "output_type": "stream",
          "name": "stderr",
          "text": [
            "Epoch 15: 100%|██████████| 1660/1660 [01:36<00:00, 17.25batch/s, loss=6.13, metric=0.168]\n"
          ]
        },
        {
          "output_type": "stream",
          "name": "stdout",
          "text": [
            "Model Saved!\n",
            "Epoch 15/50 - Train Loss: 6.1259, Train Accuracy: 0.1677\n",
            "Validation Loss: 6.1998, Validation Accuracy: 0.1741\n",
            "\n"
          ]
        },
        {
          "output_type": "stream",
          "name": "stderr",
          "text": [
            "Epoch 16: 100%|██████████| 1660/1660 [01:36<00:00, 17.22batch/s, loss=6.11, metric=0.168]\n"
          ]
        },
        {
          "output_type": "stream",
          "name": "stdout",
          "text": [
            "Model Saved!\n",
            "Epoch 16/50 - Train Loss: 6.1129, Train Accuracy: 0.1685\n",
            "Validation Loss: 6.1936, Validation Accuracy: 0.1797\n",
            "\n"
          ]
        },
        {
          "output_type": "stream",
          "name": "stderr",
          "text": [
            "Epoch 17: 100%|██████████| 1660/1660 [01:36<00:00, 17.25batch/s, loss=6.1, metric=0.169]\n"
          ]
        },
        {
          "output_type": "stream",
          "name": "stdout",
          "text": [
            "Model Saved!\n",
            "Epoch 17/50 - Train Loss: 6.1002, Train Accuracy: 0.1688\n",
            "Validation Loss: 6.1890, Validation Accuracy: 0.1801\n",
            "\n"
          ]
        },
        {
          "output_type": "stream",
          "name": "stderr",
          "text": [
            "Epoch 18: 100%|██████████| 1660/1660 [01:36<00:00, 17.24batch/s, loss=6.09, metric=0.169]\n"
          ]
        },
        {
          "output_type": "stream",
          "name": "stdout",
          "text": [
            "Model Saved!\n",
            "Epoch 18/50 - Train Loss: 6.0896, Train Accuracy: 0.1693\n",
            "Validation Loss: 6.1859, Validation Accuracy: 0.1765\n",
            "\n"
          ]
        },
        {
          "output_type": "stream",
          "name": "stderr",
          "text": [
            "Epoch 19: 100%|██████████| 1660/1660 [01:36<00:00, 17.25batch/s, loss=6.08, metric=0.17]\n"
          ]
        },
        {
          "output_type": "stream",
          "name": "stdout",
          "text": [
            "Model Saved!\n",
            "Epoch 19/50 - Train Loss: 6.0779, Train Accuracy: 0.1697\n",
            "Validation Loss: 6.1756, Validation Accuracy: 0.1807\n",
            "\n"
          ]
        },
        {
          "output_type": "stream",
          "name": "stderr",
          "text": [
            "Epoch 20: 100%|██████████| 1660/1660 [01:36<00:00, 17.28batch/s, loss=6.07, metric=0.17]\n"
          ]
        },
        {
          "output_type": "stream",
          "name": "stdout",
          "text": [
            "Model Saved!\n",
            "Epoch 20/50 - Train Loss: 6.0663, Train Accuracy: 0.1700\n",
            "Validation Loss: 6.1704, Validation Accuracy: 0.1801\n",
            "\n"
          ]
        },
        {
          "output_type": "stream",
          "name": "stderr",
          "text": [
            "Epoch 21: 100%|██████████| 1660/1660 [01:36<00:00, 17.29batch/s, loss=6.06, metric=0.17]\n"
          ]
        },
        {
          "output_type": "stream",
          "name": "stdout",
          "text": [
            "Model Saved!\n",
            "Epoch 21/50 - Train Loss: 6.0553, Train Accuracy: 0.1703\n",
            "Validation Loss: 6.1679, Validation Accuracy: 0.1804\n",
            "\n"
          ]
        },
        {
          "output_type": "stream",
          "name": "stderr",
          "text": [
            "Epoch 22: 100%|██████████| 1660/1660 [01:36<00:00, 17.23batch/s, loss=6.04, metric=0.171]\n"
          ]
        },
        {
          "output_type": "stream",
          "name": "stdout",
          "text": [
            "Model Saved!\n",
            "Epoch 22/50 - Train Loss: 6.0447, Train Accuracy: 0.1709\n",
            "Validation Loss: 6.1670, Validation Accuracy: 0.1809\n",
            "\n"
          ]
        },
        {
          "output_type": "stream",
          "name": "stderr",
          "text": [
            "Epoch 23: 100%|██████████| 1660/1660 [01:36<00:00, 17.27batch/s, loss=6.03, metric=0.171]\n"
          ]
        },
        {
          "output_type": "stream",
          "name": "stdout",
          "text": [
            "Model Saved!\n",
            "Epoch 23/50 - Train Loss: 6.0344, Train Accuracy: 0.1710\n",
            "Validation Loss: 6.1640, Validation Accuracy: 0.1794\n",
            "\n"
          ]
        },
        {
          "output_type": "stream",
          "name": "stderr",
          "text": [
            "Epoch 24: 100%|██████████| 1660/1660 [01:36<00:00, 17.26batch/s, loss=6.02, metric=0.171]\n"
          ]
        },
        {
          "output_type": "stream",
          "name": "stdout",
          "text": [
            "Model Saved!\n",
            "Epoch 24/50 - Train Loss: 6.0247, Train Accuracy: 0.1714\n",
            "Validation Loss: 6.1604, Validation Accuracy: 0.1739\n",
            "\n"
          ]
        },
        {
          "output_type": "stream",
          "name": "stderr",
          "text": [
            "Epoch 25: 100%|██████████| 1660/1660 [01:36<00:00, 17.24batch/s, loss=6.02, metric=0.172]\n"
          ]
        },
        {
          "output_type": "stream",
          "name": "stdout",
          "text": [
            "Model Saved!\n",
            "Epoch 25/50 - Train Loss: 6.0158, Train Accuracy: 0.1716\n",
            "Validation Loss: 6.1558, Validation Accuracy: 0.1768\n",
            "\n"
          ]
        },
        {
          "output_type": "stream",
          "name": "stderr",
          "text": [
            "Epoch 26: 100%|██████████| 1660/1660 [01:36<00:00, 17.23batch/s, loss=6.01, metric=0.172]\n"
          ]
        },
        {
          "output_type": "stream",
          "name": "stdout",
          "text": [
            "Model Saved!\n",
            "Epoch 26/50 - Train Loss: 6.0063, Train Accuracy: 0.1722\n",
            "Validation Loss: 6.1528, Validation Accuracy: 0.1818\n",
            "\n"
          ]
        },
        {
          "output_type": "stream",
          "name": "stderr",
          "text": [
            "Epoch 27: 100%|██████████| 1660/1660 [01:36<00:00, 17.26batch/s, loss=6, metric=0.172]\n",
            "Epoch 28: 100%|██████████| 1660/1660 [01:36<00:00, 17.17batch/s, loss=5.99, metric=0.172]\n"
          ]
        },
        {
          "output_type": "stream",
          "name": "stdout",
          "text": [
            "Model Saved!\n",
            "Epoch 28/50 - Train Loss: 5.9895, Train Accuracy: 0.1725\n",
            "Validation Loss: 6.1497, Validation Accuracy: 0.1814\n",
            "\n"
          ]
        },
        {
          "output_type": "stream",
          "name": "stderr",
          "text": [
            "Epoch 29: 100%|██████████| 1660/1660 [01:36<00:00, 17.13batch/s, loss=5.98, metric=0.173]\n"
          ]
        },
        {
          "output_type": "stream",
          "name": "stdout",
          "text": [
            "Model Saved!\n",
            "Epoch 29/50 - Train Loss: 5.9805, Train Accuracy: 0.1729\n",
            "Validation Loss: 6.1486, Validation Accuracy: 0.1819\n",
            "\n"
          ]
        },
        {
          "output_type": "stream",
          "name": "stderr",
          "text": [
            "Epoch 30: 100%|██████████| 1660/1660 [01:36<00:00, 17.16batch/s, loss=5.97, metric=0.173]\n"
          ]
        },
        {
          "output_type": "stream",
          "name": "stdout",
          "text": [
            "Model Saved!\n",
            "Epoch 30/50 - Train Loss: 5.9723, Train Accuracy: 0.1728\n",
            "Validation Loss: 6.1464, Validation Accuracy: 0.1780\n",
            "\n"
          ]
        },
        {
          "output_type": "stream",
          "name": "stderr",
          "text": [
            "Epoch 31: 100%|██████████| 1660/1660 [01:36<00:00, 17.24batch/s, loss=5.96, metric=0.173]\n"
          ]
        },
        {
          "output_type": "stream",
          "name": "stdout",
          "text": [
            "Model Saved!\n",
            "Epoch 31/50 - Train Loss: 5.9649, Train Accuracy: 0.1732\n",
            "Validation Loss: 6.1435, Validation Accuracy: 0.1820\n",
            "\n"
          ]
        },
        {
          "output_type": "stream",
          "name": "stderr",
          "text": [
            "Epoch 32: 100%|██████████| 1660/1660 [01:36<00:00, 17.22batch/s, loss=5.96, metric=0.174]\n"
          ]
        },
        {
          "output_type": "stream",
          "name": "stdout",
          "text": [
            "Model Saved!\n",
            "Epoch 32/50 - Train Loss: 5.9565, Train Accuracy: 0.1737\n",
            "Validation Loss: 6.1431, Validation Accuracy: 0.1823\n",
            "\n"
          ]
        },
        {
          "output_type": "stream",
          "name": "stderr",
          "text": [
            "Epoch 33: 100%|██████████| 1660/1660 [01:36<00:00, 17.19batch/s, loss=5.95, metric=0.174]\n"
          ]
        },
        {
          "output_type": "stream",
          "name": "stdout",
          "text": [
            "Model Saved!\n",
            "Epoch 33/50 - Train Loss: 5.9484, Train Accuracy: 0.1736\n",
            "Validation Loss: 6.1399, Validation Accuracy: 0.1806\n",
            "\n"
          ]
        },
        {
          "output_type": "stream",
          "name": "stderr",
          "text": [
            "Epoch 34: 100%|██████████| 1660/1660 [01:36<00:00, 17.20batch/s, loss=5.94, metric=0.174]\n"
          ]
        },
        {
          "output_type": "stream",
          "name": "stdout",
          "text": [
            "Epoch 34/50 - Train Loss: 5.9411, Train Accuracy: 0.1736\n",
            "Validation Loss: 6.1399, Validation Accuracy: 0.1824\n",
            "\n"
          ]
        },
        {
          "output_type": "stream",
          "name": "stderr",
          "text": [
            "Epoch 35: 100%|██████████| 1660/1660 [01:36<00:00, 17.18batch/s, loss=5.93, metric=0.174]\n"
          ]
        },
        {
          "output_type": "stream",
          "name": "stdout",
          "text": [
            "Model Saved!\n",
            "Epoch 35/50 - Train Loss: 5.9341, Train Accuracy: 0.1742\n",
            "Validation Loss: 6.1372, Validation Accuracy: 0.1820\n",
            "\n"
          ]
        },
        {
          "output_type": "stream",
          "name": "stderr",
          "text": [
            "Epoch 36: 100%|██████████| 1660/1660 [01:36<00:00, 17.21batch/s, loss=5.93, metric=0.174]\n"
          ]
        },
        {
          "output_type": "stream",
          "name": "stdout",
          "text": [
            "Epoch 36/50 - Train Loss: 5.9267, Train Accuracy: 0.1743\n",
            "Validation Loss: 6.1386, Validation Accuracy: 0.1820\n",
            "\n"
          ]
        },
        {
          "output_type": "stream",
          "name": "stderr",
          "text": [
            "Epoch 37: 100%|██████████| 1660/1660 [01:36<00:00, 17.20batch/s, loss=5.92, metric=0.175]\n"
          ]
        },
        {
          "output_type": "stream",
          "name": "stdout",
          "text": [
            "Model Saved!\n",
            "Epoch 37/50 - Train Loss: 5.9198, Train Accuracy: 0.1745\n",
            "Validation Loss: 6.1349, Validation Accuracy: 0.1832\n",
            "\n"
          ]
        },
        {
          "output_type": "stream",
          "name": "stderr",
          "text": [
            "Epoch 38: 100%|██████████| 1660/1660 [01:36<00:00, 17.19batch/s, loss=5.91, metric=0.175]\n"
          ]
        },
        {
          "output_type": "stream",
          "name": "stdout",
          "text": [
            "Model Saved!\n",
            "Epoch 38/50 - Train Loss: 5.9129, Train Accuracy: 0.1749\n",
            "Validation Loss: 6.1340, Validation Accuracy: 0.1824\n",
            "\n"
          ]
        },
        {
          "output_type": "stream",
          "name": "stderr",
          "text": [
            "Epoch 39: 100%|██████████| 1660/1660 [01:36<00:00, 17.18batch/s, loss=5.91, metric=0.175]\n"
          ]
        },
        {
          "output_type": "stream",
          "name": "stdout",
          "text": [
            "Epoch 39/50 - Train Loss: 5.9061, Train Accuracy: 0.1748\n",
            "Validation Loss: 6.1342, Validation Accuracy: 0.1828\n",
            "\n"
          ]
        },
        {
          "output_type": "stream",
          "name": "stderr",
          "text": [
            "Epoch 40: 100%|██████████| 1660/1660 [01:36<00:00, 17.19batch/s, loss=5.9, metric=0.175]\n"
          ]
        },
        {
          "output_type": "stream",
          "name": "stdout",
          "text": [
            "Model Saved!\n",
            "Epoch 40/50 - Train Loss: 5.8994, Train Accuracy: 0.1754\n",
            "Validation Loss: 6.1319, Validation Accuracy: 0.1823\n",
            "\n"
          ]
        },
        {
          "output_type": "stream",
          "name": "stderr",
          "text": [
            "Epoch 41: 100%|██████████| 1660/1660 [01:36<00:00, 17.18batch/s, loss=5.89, metric=0.176]\n"
          ]
        },
        {
          "output_type": "stream",
          "name": "stdout",
          "text": [
            "Epoch 41/50 - Train Loss: 5.8932, Train Accuracy: 0.1755\n",
            "Validation Loss: 6.1330, Validation Accuracy: 0.1841\n",
            "\n"
          ]
        },
        {
          "output_type": "stream",
          "name": "stderr",
          "text": [
            "Epoch 42: 100%|██████████| 1660/1660 [01:36<00:00, 17.21batch/s, loss=5.89, metric=0.176]\n"
          ]
        },
        {
          "output_type": "stream",
          "name": "stdout",
          "text": [
            "Model Saved!\n",
            "Epoch 42/50 - Train Loss: 5.8866, Train Accuracy: 0.1759\n",
            "Validation Loss: 6.1286, Validation Accuracy: 0.1838\n",
            "\n"
          ]
        },
        {
          "output_type": "stream",
          "name": "stderr",
          "text": [
            "Epoch 43: 100%|██████████| 1660/1660 [01:36<00:00, 17.15batch/s, loss=5.88, metric=0.176]\n"
          ]
        },
        {
          "output_type": "stream",
          "name": "stdout",
          "text": [
            "Model Saved!\n",
            "Epoch 43/50 - Train Loss: 5.8810, Train Accuracy: 0.1757\n",
            "Validation Loss: 6.1274, Validation Accuracy: 0.1827\n",
            "\n"
          ]
        },
        {
          "output_type": "stream",
          "name": "stderr",
          "text": [
            "Epoch 44: 100%|██████████| 1660/1660 [01:36<00:00, 17.19batch/s, loss=5.87, metric=0.176]\n"
          ]
        },
        {
          "output_type": "stream",
          "name": "stdout",
          "text": [
            "Model Saved!\n",
            "Epoch 44/50 - Train Loss: 5.8750, Train Accuracy: 0.1760\n",
            "Validation Loss: 6.1241, Validation Accuracy: 0.1824\n",
            "\n"
          ]
        },
        {
          "output_type": "stream",
          "name": "stderr",
          "text": [
            "Epoch 45: 100%|██████████| 1660/1660 [01:36<00:00, 17.17batch/s, loss=5.87, metric=0.176]\n"
          ]
        },
        {
          "output_type": "stream",
          "name": "stdout",
          "text": [
            "Epoch 45/50 - Train Loss: 5.8686, Train Accuracy: 0.1764\n",
            "Validation Loss: 6.1267, Validation Accuracy: 0.1827\n",
            "\n"
          ]
        },
        {
          "output_type": "stream",
          "name": "stderr",
          "text": [
            "Epoch 46: 100%|██████████| 1660/1660 [01:36<00:00, 17.20batch/s, loss=5.86, metric=0.177]\n"
          ]
        },
        {
          "output_type": "stream",
          "name": "stdout",
          "text": [
            "Epoch 46/50 - Train Loss: 5.8627, Train Accuracy: 0.1766\n",
            "Validation Loss: 6.1279, Validation Accuracy: 0.1833\n",
            "\n"
          ]
        },
        {
          "output_type": "stream",
          "name": "stderr",
          "text": [
            "Epoch 47: 100%|██████████| 1660/1660 [01:36<00:00, 17.21batch/s, loss=5.86, metric=0.177]\n"
          ]
        },
        {
          "output_type": "stream",
          "name": "stdout",
          "text": [
            "Model Saved!\n",
            "Epoch 47/50 - Train Loss: 5.8571, Train Accuracy: 0.1767\n",
            "Validation Loss: 6.1241, Validation Accuracy: 0.1836\n",
            "\n"
          ]
        },
        {
          "output_type": "stream",
          "name": "stderr",
          "text": [
            "Epoch 48: 100%|██████████| 1660/1660 [01:36<00:00, 17.19batch/s, loss=5.85, metric=0.177]\n"
          ]
        },
        {
          "output_type": "stream",
          "name": "stdout",
          "text": [
            "Model Saved!\n",
            "Epoch 48/50 - Train Loss: 5.8504, Train Accuracy: 0.1771\n",
            "Validation Loss: 6.1231, Validation Accuracy: 0.1830\n",
            "\n"
          ]
        },
        {
          "output_type": "stream",
          "name": "stderr",
          "text": [
            "Epoch 49: 100%|██████████| 1660/1660 [01:36<00:00, 17.13batch/s, loss=5.85, metric=0.177]\n"
          ]
        },
        {
          "output_type": "stream",
          "name": "stdout",
          "text": [
            "Epoch 49/50 - Train Loss: 5.8451, Train Accuracy: 0.1772\n",
            "Validation Loss: 6.1238, Validation Accuracy: 0.1841\n",
            "\n"
          ]
        },
        {
          "output_type": "stream",
          "name": "stderr",
          "text": [
            "Epoch 50: 100%|██████████| 1660/1660 [01:37<00:00, 17.08batch/s, loss=5.84, metric=0.178]\n"
          ]
        },
        {
          "output_type": "stream",
          "name": "stdout",
          "text": [
            "Model Saved!\n",
            "Epoch 50/50 - Train Loss: 5.8391, Train Accuracy: 0.1775\n",
            "Validation Loss: 6.1189, Validation Accuracy: 0.1835\n",
            "\n"
          ]
        }
      ],
      "source": [
        "best_wd = 1e-5\n",
        "\n",
        "# Initialize the final model with best hyperparameters\n",
        "model_final = LanguageModel(vocab_size, embedding_dim, hidden_dim, num_layers, dropout_rate).to(device)\n",
        "\n",
        "# Define optimizer with best hyperparameters\n",
        "optimizer_final = torch.optim.SGD(\n",
        "    model_final.parameters(),\n",
        "    lr=best_lr,\n",
        "    weight_decay=best_wd,\n",
        "    momentum=0.9,\n",
        "    nesterov=True\n",
        ")\n",
        "\n",
        "# Define metric\n",
        "metric_final = tm.Accuracy(task='multiclass', num_classes=vocab_size).to(device)\n",
        "\n",
        "# Initialize training history lists\n",
        "loss_train_hist = []\n",
        "loss_valid_hist = []\n",
        "metric_train_hist = []\n",
        "metric_valid_hist = []\n",
        "\n",
        "best_loss_valid = torch.inf\n",
        "epoch_counter = 0\n",
        "\n",
        "# Define number of epochs for final training\n",
        "num_epochs_final = 50\n",
        "\n",
        "for epoch in range(1, num_epochs_final + 1):\n",
        "    # Train\n",
        "    model_final, loss_train, metric_train = train_one_epoch(\n",
        "        model_final,\n",
        "        train_loader,\n",
        "        loss_fn,\n",
        "        optimizer_final,\n",
        "        metric_final,\n",
        "        epoch\n",
        "    )\n",
        "\n",
        "    # Validate\n",
        "    loss_valid, metric_valid = evaluate(\n",
        "        model_final,\n",
        "        valid_loader,\n",
        "        loss_fn,\n",
        "        metric_final\n",
        "    )\n",
        "\n",
        "    # Record history\n",
        "    loss_train_hist.append(loss_train)\n",
        "    loss_valid_hist.append(loss_valid)\n",
        "    metric_train_hist.append(metric_train)\n",
        "    metric_valid_hist.append(metric_valid)\n",
        "\n",
        "    # Save the best model based on validation loss\n",
        "    if loss_valid < best_loss_valid:\n",
        "        torch.save(model_final.state_dict(), 'model.pt')\n",
        "        best_loss_valid = loss_valid\n",
        "        print('Model Saved!')\n",
        "\n",
        "    print(f'Epoch {epoch}/{num_epochs_final} - Train Loss: {loss_train:.4f}, Train Accuracy: {metric_train:.4f}')\n",
        "    print(f'Validation Loss: {loss_valid:.4f}, Validation Accuracy: {metric_valid:.4f}\\n')\n",
        "\n",
        "    epoch_counter += 1\n"
      ]
    },
    {
      "cell_type": "markdown",
      "metadata": {
        "id": "rjGQ-M02cusP"
      },
      "source": [
        "## 🟠 Main Loop"
      ]
    },
    {
      "cell_type": "markdown",
      "metadata": {
        "id": "4AdYaMU4x34g"
      },
      "source": [
        "🔰 Define model."
      ]
    },
    {
      "cell_type": "code",
      "execution_count": 35,
      "metadata": {
        "id": "JCtZXDybxexf"
      },
      "outputs": [],
      "source": [
        "# Initialize the final model with best hyperparameters\n",
        "model = LanguageModel(vocab_size, embedding_dim, hidden_dim, num_layers, dropout_rate).to(device)\n"
      ]
    },
    {
      "cell_type": "markdown",
      "metadata": {
        "id": "AUKZRiQPxqrB"
      },
      "source": [
        "🔰 Define optimizer and Set learning rate and weight decay."
      ]
    },
    {
      "cell_type": "code",
      "execution_count": 36,
      "metadata": {
        "id": "bowjVB5yIXUP"
      },
      "outputs": [],
      "source": [
        "best_lr = 0.01\n",
        "best_wd = 1e-4\n",
        "\n",
        "# Define optimizer with best hyperparameters\n",
        "optimizer = torch.optim.SGD(\n",
        "    model.parameters(),\n",
        "    lr=best_lr,\n",
        "    weight_decay=best_wd,\n",
        "    momentum=0.9,\n",
        "    nesterov=True\n",
        ")"
      ]
    },
    {
      "cell_type": "markdown",
      "metadata": {
        "id": "AUyFFIzlyaiB"
      },
      "source": [
        "🔰 Write code to train the model for `num_epochs` epoches."
      ]
    },
    {
      "cell_type": "code",
      "execution_count": 37,
      "metadata": {
        "id": "CAXagB4yvtZd",
        "colab": {
          "base_uri": "https://localhost:8080/"
        },
        "outputId": "b4f679f8-4b02-4d1f-e44d-67134be76688"
      },
      "outputs": [
        {
          "output_type": "stream",
          "name": "stderr",
          "text": [
            "Epoch 1: 100%|██████████| 1660/1660 [01:37<00:00, 17.11batch/s, loss=8.41, metric=0.0615]\n"
          ]
        },
        {
          "output_type": "stream",
          "name": "stdout",
          "text": [
            "Model Saved!\n",
            "Epoch 1/15 - Train Loss: 8.4142, Train Accuracy: 0.0615\n",
            "Validation Loss: 7.5474, Validation Accuracy: 0.0845\n",
            "\n"
          ]
        },
        {
          "output_type": "stream",
          "name": "stderr",
          "text": [
            "Epoch 2: 100%|██████████| 1660/1660 [01:36<00:00, 17.23batch/s, loss=7.32, metric=0.098]\n"
          ]
        },
        {
          "output_type": "stream",
          "name": "stdout",
          "text": [
            "Model Saved!\n",
            "Epoch 2/15 - Train Loss: 7.3202, Train Accuracy: 0.0980\n",
            "Validation Loss: 7.1090, Validation Accuracy: 0.1231\n",
            "\n"
          ]
        },
        {
          "output_type": "stream",
          "name": "stderr",
          "text": [
            "Epoch 3: 100%|██████████| 1660/1660 [01:36<00:00, 17.25batch/s, loss=7.05, metric=0.121]\n"
          ]
        },
        {
          "output_type": "stream",
          "name": "stdout",
          "text": [
            "Model Saved!\n",
            "Epoch 3/15 - Train Loss: 7.0529, Train Accuracy: 0.1209\n",
            "Validation Loss: 6.9499, Validation Accuracy: 0.1288\n",
            "\n"
          ]
        },
        {
          "output_type": "stream",
          "name": "stderr",
          "text": [
            "Epoch 4: 100%|██████████| 1660/1660 [01:36<00:00, 17.27batch/s, loss=6.93, metric=0.126]\n"
          ]
        },
        {
          "output_type": "stream",
          "name": "stdout",
          "text": [
            "Model Saved!\n",
            "Epoch 4/15 - Train Loss: 6.9302, Train Accuracy: 0.1261\n",
            "Validation Loss: 6.8639, Validation Accuracy: 0.1322\n",
            "\n"
          ]
        },
        {
          "output_type": "stream",
          "name": "stderr",
          "text": [
            "Epoch 5: 100%|██████████| 1660/1660 [01:36<00:00, 17.26batch/s, loss=6.86, metric=0.129]\n"
          ]
        },
        {
          "output_type": "stream",
          "name": "stdout",
          "text": [
            "Model Saved!\n",
            "Epoch 5/15 - Train Loss: 6.8573, Train Accuracy: 0.1286\n",
            "Validation Loss: 6.8104, Validation Accuracy: 0.1351\n",
            "\n"
          ]
        },
        {
          "output_type": "stream",
          "name": "stderr",
          "text": [
            "Epoch 6: 100%|██████████| 1660/1660 [01:36<00:00, 17.24batch/s, loss=6.81, metric=0.131]\n"
          ]
        },
        {
          "output_type": "stream",
          "name": "stdout",
          "text": [
            "Model Saved!\n",
            "Epoch 6/15 - Train Loss: 6.8067, Train Accuracy: 0.1307\n",
            "Validation Loss: 6.7715, Validation Accuracy: 0.1376\n",
            "\n"
          ]
        },
        {
          "output_type": "stream",
          "name": "stderr",
          "text": [
            "Epoch 7: 100%|██████████| 1660/1660 [01:36<00:00, 17.24batch/s, loss=6.77, metric=0.132]\n"
          ]
        },
        {
          "output_type": "stream",
          "name": "stdout",
          "text": [
            "Model Saved!\n",
            "Epoch 7/15 - Train Loss: 6.7690, Train Accuracy: 0.1322\n",
            "Validation Loss: 6.7425, Validation Accuracy: 0.1384\n",
            "\n"
          ]
        },
        {
          "output_type": "stream",
          "name": "stderr",
          "text": [
            "Epoch 8: 100%|██████████| 1660/1660 [01:36<00:00, 17.24batch/s, loss=6.74, metric=0.133]\n"
          ]
        },
        {
          "output_type": "stream",
          "name": "stdout",
          "text": [
            "Model Saved!\n",
            "Epoch 8/15 - Train Loss: 6.7394, Train Accuracy: 0.1331\n",
            "Validation Loss: 6.7198, Validation Accuracy: 0.1370\n",
            "\n"
          ]
        },
        {
          "output_type": "stream",
          "name": "stderr",
          "text": [
            "Epoch 9: 100%|██████████| 1660/1660 [01:36<00:00, 17.24batch/s, loss=6.71, metric=0.134]\n"
          ]
        },
        {
          "output_type": "stream",
          "name": "stdout",
          "text": [
            "Model Saved!\n",
            "Epoch 9/15 - Train Loss: 6.7148, Train Accuracy: 0.1336\n",
            "Validation Loss: 6.6981, Validation Accuracy: 0.1383\n",
            "\n"
          ]
        },
        {
          "output_type": "stream",
          "name": "stderr",
          "text": [
            "Epoch 10: 100%|██████████| 1660/1660 [01:36<00:00, 17.24batch/s, loss=6.69, metric=0.135]\n"
          ]
        },
        {
          "output_type": "stream",
          "name": "stdout",
          "text": [
            "Model Saved!\n",
            "Epoch 10/15 - Train Loss: 6.6941, Train Accuracy: 0.1345\n",
            "Validation Loss: 6.6834, Validation Accuracy: 0.1390\n",
            "\n"
          ]
        },
        {
          "output_type": "stream",
          "name": "stderr",
          "text": [
            "Epoch 11: 100%|██████████| 1660/1660 [01:36<00:00, 17.20batch/s, loss=6.68, metric=0.136]\n"
          ]
        },
        {
          "output_type": "stream",
          "name": "stdout",
          "text": [
            "Model Saved!\n",
            "Epoch 11/15 - Train Loss: 6.6761, Train Accuracy: 0.1355\n",
            "Validation Loss: 6.6683, Validation Accuracy: 0.1400\n",
            "\n"
          ]
        },
        {
          "output_type": "stream",
          "name": "stderr",
          "text": [
            "Epoch 12: 100%|██████████| 1660/1660 [01:36<00:00, 17.25batch/s, loss=6.66, metric=0.137]\n"
          ]
        },
        {
          "output_type": "stream",
          "name": "stdout",
          "text": [
            "Model Saved!\n",
            "Epoch 12/15 - Train Loss: 6.6600, Train Accuracy: 0.1365\n",
            "Validation Loss: 6.6567, Validation Accuracy: 0.1414\n",
            "\n"
          ]
        },
        {
          "output_type": "stream",
          "name": "stderr",
          "text": [
            "Epoch 13: 100%|██████████| 1660/1660 [01:36<00:00, 17.25batch/s, loss=6.65, metric=0.137]\n"
          ]
        },
        {
          "output_type": "stream",
          "name": "stdout",
          "text": [
            "Model Saved!\n",
            "Epoch 13/15 - Train Loss: 6.6456, Train Accuracy: 0.1373\n",
            "Validation Loss: 6.6420, Validation Accuracy: 0.1407\n",
            "\n"
          ]
        },
        {
          "output_type": "stream",
          "name": "stderr",
          "text": [
            "Epoch 14: 100%|██████████| 1660/1660 [01:36<00:00, 17.25batch/s, loss=6.63, metric=0.138]\n"
          ]
        },
        {
          "output_type": "stream",
          "name": "stdout",
          "text": [
            "Model Saved!\n",
            "Epoch 14/15 - Train Loss: 6.6327, Train Accuracy: 0.1380\n",
            "Validation Loss: 6.6301, Validation Accuracy: 0.1425\n",
            "\n"
          ]
        },
        {
          "output_type": "stream",
          "name": "stderr",
          "text": [
            "Epoch 15: 100%|██████████| 1660/1660 [01:36<00:00, 17.25batch/s, loss=6.62, metric=0.139]\n"
          ]
        },
        {
          "output_type": "stream",
          "name": "stdout",
          "text": [
            "Model Saved!\n",
            "Epoch 15/15 - Train Loss: 6.6204, Train Accuracy: 0.1388\n",
            "Validation Loss: 6.6219, Validation Accuracy: 0.1445\n",
            "\n"
          ]
        }
      ],
      "source": [
        "# Define metric\n",
        "metric = tm.Accuracy(task='multiclass', num_classes=vocab_size).to(device)\n",
        "\n",
        "# Initialize training history lists\n",
        "loss_train_hist = []\n",
        "loss_valid_hist = []\n",
        "metric_train_hist = []\n",
        "metric_valid_hist = []\n",
        "\n",
        "best_loss_valid = torch.inf\n",
        "epoch_counter = 0\n",
        "\n",
        "# Define number of epochs\n",
        "num_epochs = 15  # Adjust as needed\n",
        "\n",
        "for epoch in range(1, num_epochs + 1):\n",
        "    # Train\n",
        "    model, loss_train, metric_train = train_one_epoch(\n",
        "        model,\n",
        "        train_loader,\n",
        "        loss_fn,\n",
        "        optimizer,\n",
        "        metric,\n",
        "        epoch\n",
        "    )\n",
        "\n",
        "    # Validate\n",
        "    loss_valid, metric_valid = evaluate(\n",
        "        model,\n",
        "        valid_loader,\n",
        "        loss_fn,\n",
        "        metric\n",
        "    )\n",
        "\n",
        "    # Record history\n",
        "    loss_train_hist.append(loss_train)\n",
        "    loss_valid_hist.append(loss_valid)\n",
        "    metric_train_hist.append(metric_train)\n",
        "    metric_valid_hist.append(metric_valid)\n",
        "\n",
        "    # Save the best model based on validation loss\n",
        "    if loss_valid < best_loss_valid:\n",
        "        torch.save(model.state_dict(), 'model.pt')\n",
        "        best_loss_valid = loss_valid\n",
        "        print('Model Saved!')\n",
        "\n",
        "    print(f'Epoch {epoch}/{num_epochs} - Train Loss: {loss_train:.4f}, Train Accuracy: {metric_train:.4f}')\n",
        "    print(f'Validation Loss: {loss_valid:.4f}, Validation Accuracy: {metric_valid:.4f}\\n')\n",
        "\n",
        "    epoch_counter += 1\n"
      ]
    },
    {
      "cell_type": "markdown",
      "metadata": {
        "id": "oK20iNRI3Xxb"
      },
      "source": [
        "## 🟠 Plot"
      ]
    },
    {
      "cell_type": "markdown",
      "metadata": {
        "id": "IKlLvCwuzEAA"
      },
      "source": [
        "🔰 Plot learning curves"
      ]
    },
    {
      "cell_type": "code",
      "execution_count": 38,
      "metadata": {
        "id": "KYFzTsdIOkVp",
        "colab": {
          "base_uri": "https://localhost:8080/",
          "height": 564
        },
        "outputId": "19a8f387-6a06-41d9-b5ee-8c48da3ed7bc"
      },
      "outputs": [
        {
          "output_type": "display_data",
          "data": {
            "text/plain": [
              "<Figure size 800x600 with 1 Axes>"
            ],
            "image/png": "[encoded data removed]"
          },
          "metadata": {}
        }
      ],
      "source": [
        "plt.figure(figsize=(8, 6))\n",
        "\n",
        "plt.plot(range(1, epoch_counter +1), loss_train_hist, 'r-', label='Train Loss')\n",
        "plt.plot(range(1, epoch_counter +1), loss_valid_hist, 'b-', label='Validation Loss')\n",
        "\n",
        "plt.xlabel('Epoch')\n",
        "plt.ylabel('Loss')\n",
        "plt.title('Training and Validation Loss over Epochs')\n",
        "plt.grid(True)\n",
        "plt.legend()\n",
        "\n",
        "plt.show()"
      ]
    },
    {
      "cell_type": "markdown",
      "metadata": {
        "id": "KZ9UIdmkfxlA"
      },
      "source": [
        "# 🔴 **Test**"
      ]
    },
    {
      "cell_type": "markdown",
      "metadata": {
        "id": "SO8iPWH1zVYn"
      },
      "source": [
        "🔰 Test your model using data from the test set"
      ]
    },
    {
      "cell_type": "code",
      "execution_count": 39,
      "metadata": {
        "id": "35sn67IhKcm_",
        "colab": {
          "base_uri": "https://localhost:8080/"
        },
        "outputId": "dece808f-2dd1-4e67-d445-b5e8d4681b3b"
      },
      "outputs": [
        {
          "output_type": "stream",
          "name": "stdout",
          "text": [
            "Test Loss: 6.6602, Test Accuracy: 0.1419\n"
          ]
        }
      ],
      "source": [
        "# Load the best model\n",
        "model.load_state_dict(torch.load('model.pt'))\n",
        "model.eval()\n",
        "\n",
        "# Define metric for testing\n",
        "metric_test = tm.Accuracy(task='multiclass', num_classes=vocab_size).to(device)\n",
        "\n",
        "# Evaluate on test set\n",
        "loss_test, metric_test_value = evaluate(\n",
        "    model,\n",
        "    test_loader,\n",
        "    loss_fn,\n",
        "    metric_test\n",
        ")\n",
        "\n",
        "print(f'Test Loss: {loss_test:.4f}, Test Accuracy: {metric_test_value:.4f}')\n"
      ]
    },
    {
      "cell_type": "markdown",
      "metadata": {
        "id": "FzcQQwFuar_7"
      },
      "source": [
        "# 🔴 **Generate**"
      ]
    },
    {
      "cell_type": "markdown",
      "metadata": {
        "id": "jh2_9jUp0GF4"
      },
      "source": [
        "🔰 Your mission is to write a `generate` function and use a desired sentence to evaluate the model"
      ]
    },
    {
      "cell_type": "code",
      "execution_count": 40,
      "metadata": {
        "id": "pskvb--R-wJ0",
        "colab": {
          "base_uri": "https://localhost:8080/"
        },
        "outputId": "7e485ec9-bdde-45e6-a776-e9c365f4a7fd"
      },
      "outputs": [
        {
          "output_type": "execute_result",
          "data": {
            "text/plain": [
              "LanguageModel(\n",
              "  (embedding): Embedding(66061, 200)\n",
              "  (lstm): LSTM(200, 200, num_layers=2, batch_first=True, dropout=0.2)\n",
              "  (dropout): Dropout(p=0.2, inplace=False)\n",
              "  (fc): Linear(in_features=200, out_features=66061, bias=True)\n",
              ")"
            ]
          },
          "metadata": {},
          "execution_count": 40
        }
      ],
      "source": [
        "# Load the best model\n",
        "model_path = 'model.pt'\n",
        "model = LanguageModel(vocab_size, embedding_dim, hidden_dim, num_layers, dropout_rate).to(device)\n",
        "model.load_state_dict(torch.load(model_path))\n",
        "model.eval()\n",
        "\n"
      ]
    },
    {
      "cell_type": "code",
      "execution_count": 41,
      "metadata": {
        "id": "f5SvSDLal8YB"
      },
      "outputs": [],
      "source": [
        "def generate(prompt, max_seq_len, temperature, model, tokenizer, vocab, seed=None):\n",
        "    if seed:\n",
        "        torch.manual_seed(seed)\n",
        "\n",
        "    model.eval()\n",
        "    tokens = tokenizer(prompt)\n",
        "    input_ids = torch.tensor([vocab['<bos>']] + [vocab[token] for token in tokens], dtype=torch.long).unsqueeze(0).to(device)\n",
        "\n",
        "    generated = input_ids.tolist()[0]\n",
        "\n",
        "    hidden = None\n",
        "    for _ in range(max_seq_len):\n",
        "        with torch.no_grad():\n",
        "            outputs, hidden = model(input_ids, hidden)\n",
        "            outputs = outputs / temperature\n",
        "            probabilities = F.softmax(outputs[-1], dim=0).cpu()\n",
        "            next_token = torch.multinomial(probabilities, 1).item()\n",
        "            generated.append(next_token)\n",
        "            input_ids = torch.tensor([[next_token]], dtype=torch.long).to(device)\n",
        "            if next_token == vocab['<eos>']:\n",
        "                break\n",
        "\n",
        "    generated_tokens = [vocab.lookup_token(token_id) for token_id in generated]\n",
        "    return ' '.join(generated_tokens)\n"
      ]
    },
    {
      "cell_type": "code",
      "execution_count": 42,
      "metadata": {
        "id": "pVedneOVD6ul",
        "colab": {
          "base_uri": "https://localhost:8080/"
        },
        "outputId": "31891172-c451-4702-a643-aa9a3c4a673e"
      },
      "outputs": [
        {
          "output_type": "stream",
          "name": "stdout",
          "text": [
            "Generated Text:\n",
            "<bos> the meaning of life is an 220 , that the companion clarifies which was reached success her heavy field , = <eos>\n"
          ]
        }
      ],
      "source": [
        "# Example usage:\n",
        "prompt = \"The meaning of life is\"\n",
        "generated_text = generate(\n",
        "    prompt=prompt,\n",
        "    max_seq_len=50,\n",
        "    temperature=1.0,\n",
        "    model=model,\n",
        "    tokenizer=tokenizer,\n",
        "    vocab=vocab,\n",
        "    seed=42\n",
        ")\n",
        "print(\"Generated Text:\")\n",
        "print(generated_text)"
      ]
    }
  ],
  "metadata": {
    "colab": {
      "collapsed_sections": [
        "w_a3OXnSeV0z",
        "RwaY_YcgRayy",
        "RTql4Ftiunfr",
        "ujIVtjsYvxOI",
        "wCi-ofSLCzop",
        "B29jrEvwRqXA",
        "A3rnR739GbYb",
        "a4HyLPqcsF43",
        "cfBasjQCE_aI",
        "idRexFij4wgN",
        "PgLgP04P4-aX",
        "NCQjacybOfqV",
        "3ttl0AK3Hvyh",
        "24qT-sgUO2-d",
        "W0QNbC0YPCKZ",
        "G9HgVWslPGsH",
        "o_5f69nwPtY2",
        "De7VreNxQdct",
        "lpJ3wtyctQJH",
        "BrHQCv7q7LF_",
        "BLT4w0ZfAhlJ",
        "uC2GhaXfA8vC",
        "Mjd9Z3N1ef3I",
        "rjGQ-M02cusP",
        "oK20iNRI3Xxb",
        "KZ9UIdmkfxlA",
        "FzcQQwFuar_7"
      ],
      "provenance": [],
      "gpuType": "T4"
    },
    "kernelspec": {
      "display_name": "Python 3",
      "name": "python3"
    },
    "language_info": {
      "codemirror_mode": {
        "name": "ipython",
        "version": 3
      },
      "file_extension": ".py",
      "mimetype": "text/x-python",
      "name": "python",
      "nbconvert_exporter": "python",
      "pygments_lexer": "ipython3",
      "version": "3.12.4"
    },
    "accelerator": "GPU",
    "widgets": {
      "application/vnd.jupyter.widget-state+json": {
        "823d10336d444d0b82272264eab4c09a": {
          "model_module": "@jupyter-widgets/controls",
          "model_name": "HBoxModel",
          "model_module_version": "1.5.0",
          "state": {
            "_dom_classes": [],
            "_model_module": "@jupyter-widgets/controls",
            "_model_module_version": "1.5.0",
            "_model_name": "HBoxModel",
            "_view_count": null,
            "_view_module": "@jupyter-widgets/controls",
            "_view_module_version": "1.5.0",
            "_view_name": "HBoxView",
            "box_style": "",
            "children": [
              "IPY_MODEL_3e62b2527e8047949da67c6d05ea9369",
              "IPY_MODEL_847e94138f44470b97d86bd6ba27012a",
              "IPY_MODEL_f1fef78b324048b9a6742c25a945d546"
            ],
            "layout": "IPY_MODEL_38399ed9182743ec9286d2566bfe8b34"
          }
        },
        "3e62b2527e8047949da67c6d05ea9369": {
          "model_module": "@jupyter-widgets/controls",
          "model_name": "HTMLModel",
          "model_module_version": "1.5.0",
          "state": {
            "_dom_classes": [],
            "_model_module": "@jupyter-widgets/controls",
            "_model_module_version": "1.5.0",
            "_model_name": "HTMLModel",
            "_view_count": null,
            "_view_module": "@jupyter-widgets/controls",
            "_view_module_version": "1.5.0",
            "_view_name": "HTMLView",
            "description": "",
            "description_tooltip": null,
            "layout": "IPY_MODEL_9193f2369ebb442f89d8dea7d6cd8785",
            "placeholder": "​",
            "style": "IPY_MODEL_73a116200f7d498990b717caf7b115fe",
            "value": "README.md: 100%"
          }
        },
        "847e94138f44470b97d86bd6ba27012a": {
          "model_module": "@jupyter-widgets/controls",
          "model_name": "FloatProgressModel",
          "model_module_version": "1.5.0",
          "state": {
            "_dom_classes": [],
            "_model_module": "@jupyter-widgets/controls",
            "_model_module_version": "1.5.0",
            "_model_name": "FloatProgressModel",
            "_view_count": null,
            "_view_module": "@jupyter-widgets/controls",
            "_view_module_version": "1.5.0",
            "_view_name": "ProgressView",
            "bar_style": "success",
            "description": "",
            "description_tooltip": null,
            "layout": "IPY_MODEL_ced48d5dd4234f109d7150396fcd1dff",
            "max": 10464,
            "min": 0,
            "orientation": "horizontal",
            "style": "IPY_MODEL_4099ccc62417454191fc9d0634b83fa6",
            "value": 10464
          }
        },
        "f1fef78b324048b9a6742c25a945d546": {
          "model_module": "@jupyter-widgets/controls",
          "model_name": "HTMLModel",
          "model_module_version": "1.5.0",
          "state": {
            "_dom_classes": [],
            "_model_module": "@jupyter-widgets/controls",
            "_model_module_version": "1.5.0",
            "_model_name": "HTMLModel",
            "_view_count": null,
            "_view_module": "@jupyter-widgets/controls",
            "_view_module_version": "1.5.0",
            "_view_name": "HTMLView",
            "description": "",
            "description_tooltip": null,
            "layout": "IPY_MODEL_e2481ac8ffa443ebb9ab8e00c209d79b",
            "placeholder": "​",
            "style": "IPY_MODEL_b8358fd5e33f4898bf85f077129dede0",
            "value": " 10.5k/10.5k [00:00&lt;00:00, 538kB/s]"
          }
        },
        "38399ed9182743ec9286d2566bfe8b34": {
          "model_module": "@jupyter-widgets/base",
          "model_name": "LayoutModel",
          "model_module_version": "1.2.0",
          "state": {
            "_model_module": "@jupyter-widgets/base",
            "_model_module_version": "1.2.0",
            "_model_name": "LayoutModel",
            "_view_count": null,
            "_view_module": "@jupyter-widgets/base",
            "_view_module_version": "1.2.0",
            "_view_name": "LayoutView",
            "align_content": null,
            "align_items": null,
            "align_self": null,
            "border": null,
            "bottom": null,
            "display": null,
            "flex": null,
            "flex_flow": null,
            "grid_area": null,
            "grid_auto_columns": null,
            "grid_auto_flow": null,
            "grid_auto_rows": null,
            "grid_column": null,
            "grid_gap": null,
            "grid_row": null,
            "grid_template_areas": null,
            "grid_template_columns": null,
            "grid_template_rows": null,
            "height": null,
            "justify_content": null,
            "justify_items": null,
            "left": null,
            "margin": null,
            "max_height": null,
            "max_width": null,
            "min_height": null,
            "min_width": null,
            "object_fit": null,
            "object_position": null,
            "order": null,
            "overflow": null,
            "overflow_x": null,
            "overflow_y": null,
            "padding": null,
            "right": null,
            "top": null,
            "visibility": null,
            "width": null
          }
        },
        "9193f2369ebb442f89d8dea7d6cd8785": {
          "model_module": "@jupyter-widgets/base",
          "model_name": "LayoutModel",
          "model_module_version": "1.2.0",
          "state": {
            "_model_module": "@jupyter-widgets/base",
            "_model_module_version": "1.2.0",
            "_model_name": "LayoutModel",
            "_view_count": null,
            "_view_module": "@jupyter-widgets/base",
            "_view_module_version": "1.2.0",
            "_view_name": "LayoutView",
            "align_content": null,
            "align_items": null,
            "align_self": null,
            "border": null,
            "bottom": null,
            "display": null,
            "flex": null,
            "flex_flow": null,
            "grid_area": null,
            "grid_auto_columns": null,
            "grid_auto_flow": null,
            "grid_auto_rows": null,
            "grid_column": null,
            "grid_gap": null,
            "grid_row": null,
            "grid_template_areas": null,
            "grid_template_columns": null,
            "grid_template_rows": null,
            "height": null,
            "justify_content": null,
            "justify_items": null,
            "left": null,
            "margin": null,
            "max_height": null,
            "max_width": null,
            "min_height": null,
            "min_width": null,
            "object_fit": null,
            "object_position": null,
            "order": null,
            "overflow": null,
            "overflow_x": null,
            "overflow_y": null,
            "padding": null,
            "right": null,
            "top": null,
            "visibility": null,
            "width": null
          }
        },
        "73a116200f7d498990b717caf7b115fe": {
          "model_module": "@jupyter-widgets/controls",
          "model_name": "DescriptionStyleModel",
          "model_module_version": "1.5.0",
          "state": {
            "_model_module": "@jupyter-widgets/controls",
            "_model_module_version": "1.5.0",
            "_model_name": "DescriptionStyleModel",
            "_view_count": null,
            "_view_module": "@jupyter-widgets/base",
            "_view_module_version": "1.2.0",
            "_view_name": "StyleView",
            "description_width": ""
          }
        },
        "ced48d5dd4234f109d7150396fcd1dff": {
          "model_module": "@jupyter-widgets/base",
          "model_name": "LayoutModel",
          "model_module_version": "1.2.0",
          "state": {
            "_model_module": "@jupyter-widgets/base",
            "_model_module_version": "1.2.0",
            "_model_name": "LayoutModel",
            "_view_count": null,
            "_view_module": "@jupyter-widgets/base",
            "_view_module_version": "1.2.0",
            "_view_name": "LayoutView",
            "align_content": null,
            "align_items": null,
            "align_self": null,
            "border": null,
            "bottom": null,
            "display": null,
            "flex": null,
            "flex_flow": null,
            "grid_area": null,
            "grid_auto_columns": null,
            "grid_auto_flow": null,
            "grid_auto_rows": null,
            "grid_column": null,
            "grid_gap": null,
            "grid_row": null,
            "grid_template_areas": null,
            "grid_template_columns": null,
            "grid_template_rows": null,
            "height": null,
            "justify_content": null,
            "justify_items": null,
            "left": null,
            "margin": null,
            "max_height": null,
            "max_width": null,
            "min_height": null,
            "min_width": null,
            "object_fit": null,
            "object_position": null,
            "order": null,
            "overflow": null,
            "overflow_x": null,
            "overflow_y": null,
            "padding": null,
            "right": null,
            "top": null,
            "visibility": null,
            "width": null
          }
        },
        "4099ccc62417454191fc9d0634b83fa6": {
          "model_module": "@jupyter-widgets/controls",
          "model_name": "ProgressStyleModel",
          "model_module_version": "1.5.0",
          "state": {
            "_model_module": "@jupyter-widgets/controls",
            "_model_module_version": "1.5.0",
            "_model_name": "ProgressStyleModel",
            "_view_count": null,
            "_view_module": "@jupyter-widgets/base",
            "_view_module_version": "1.2.0",
            "_view_name": "StyleView",
            "bar_color": null,
            "description_width": ""
          }
        },
        "e2481ac8ffa443ebb9ab8e00c209d79b": {
          "model_module": "@jupyter-widgets/base",
          "model_name": "LayoutModel",
          "model_module_version": "1.2.0",
          "state": {
            "_model_module": "@jupyter-widgets/base",
            "_model_module_version": "1.2.0",
            "_model_name": "LayoutModel",
            "_view_count": null,
            "_view_module": "@jupyter-widgets/base",
            "_view_module_version": "1.2.0",
            "_view_name": "LayoutView",
            "align_content": null,
            "align_items": null,
            "align_self": null,
            "border": null,
            "bottom": null,
            "display": null,
            "flex": null,
            "flex_flow": null,
            "grid_area": null,
            "grid_auto_columns": null,
            "grid_auto_flow": null,
            "grid_auto_rows": null,
            "grid_column": null,
            "grid_gap": null,
            "grid_row": null,
            "grid_template_areas": null,
            "grid_template_columns": null,
            "grid_template_rows": null,
            "height": null,
            "justify_content": null,
            "justify_items": null,
            "left": null,
            "margin": null,
            "max_height": null,
            "max_width": null,
            "min_height": null,
            "min_width": null,
            "object_fit": null,
            "object_position": null,
            "order": null,
            "overflow": null,
            "overflow_x": null,
            "overflow_y": null,
            "padding": null,
            "right": null,
            "top": null,
            "visibility": null,
            "width": null
          }
        },
        "b8358fd5e33f4898bf85f077129dede0": {
          "model_module": "@jupyter-widgets/controls",
          "model_name": "DescriptionStyleModel",
          "model_module_version": "1.5.0",
          "state": {
            "_model_module": "@jupyter-widgets/controls",
            "_model_module_version": "1.5.0",
            "_model_name": "DescriptionStyleModel",
            "_view_count": null,
            "_view_module": "@jupyter-widgets/base",
            "_view_module_version": "1.2.0",
            "_view_name": "StyleView",
            "description_width": ""
          }
        },
        "b7141353719c41348995c13ce745e056": {
          "model_module": "@jupyter-widgets/controls",
          "model_name": "HBoxModel",
          "model_module_version": "1.5.0",
          "state": {
            "_dom_classes": [],
            "_model_module": "@jupyter-widgets/controls",
            "_model_module_version": "1.5.0",
            "_model_name": "HBoxModel",
            "_view_count": null,
            "_view_module": "@jupyter-widgets/controls",
            "_view_module_version": "1.5.0",
            "_view_name": "HBoxView",
            "box_style": "",
            "children": [
              "IPY_MODEL_a6f823de600f4792979f4afcd5b6db2d",
              "IPY_MODEL_33956ba299a644d399bfb24aed359818",
              "IPY_MODEL_739ca0911a384168834828995544d7fb"
            ],
            "layout": "IPY_MODEL_60c9edc1f1b9422b8d2ad08615373fd4"
          }
        },
        "a6f823de600f4792979f4afcd5b6db2d": {
          "model_module": "@jupyter-widgets/controls",
          "model_name": "HTMLModel",
          "model_module_version": "1.5.0",
          "state": {
            "_dom_classes": [],
            "_model_module": "@jupyter-widgets/controls",
            "_model_module_version": "1.5.0",
            "_model_name": "HTMLModel",
            "_view_count": null,
            "_view_module": "@jupyter-widgets/controls",
            "_view_module_version": "1.5.0",
            "_view_name": "HTMLView",
            "description": "",
            "description_tooltip": null,
            "layout": "IPY_MODEL_99b9c135f68346678081c9073d56c2ad",
            "placeholder": "​",
            "style": "IPY_MODEL_dcfc73ba8def4a8aa3a6328becd48510",
            "value": "test-00000-of-00001.parquet: 100%"
          }
        },
        "33956ba299a644d399bfb24aed359818": {
          "model_module": "@jupyter-widgets/controls",
          "model_name": "FloatProgressModel",
          "model_module_version": "1.5.0",
          "state": {
            "_dom_classes": [],
            "_model_module": "@jupyter-widgets/controls",
            "_model_module_version": "1.5.0",
            "_model_name": "FloatProgressModel",
            "_view_count": null,
            "_view_module": "@jupyter-widgets/controls",
            "_view_module_version": "1.5.0",
            "_view_name": "ProgressView",
            "bar_style": "success",
            "description": "",
            "description_tooltip": null,
            "layout": "IPY_MODEL_8013f696e2f3408fb978be787ab19f37",
            "max": 732610,
            "min": 0,
            "orientation": "horizontal",
            "style": "IPY_MODEL_fe57603ce2ee4c1eada55262cc06299a",
            "value": 732610
          }
        },
        "739ca0911a384168834828995544d7fb": {
          "model_module": "@jupyter-widgets/controls",
          "model_name": "HTMLModel",
          "model_module_version": "1.5.0",
          "state": {
            "_dom_classes": [],
            "_model_module": "@jupyter-widgets/controls",
            "_model_module_version": "1.5.0",
            "_model_name": "HTMLModel",
            "_view_count": null,
            "_view_module": "@jupyter-widgets/controls",
            "_view_module_version": "1.5.0",
            "_view_name": "HTMLView",
            "description": "",
            "description_tooltip": null,
            "layout": "IPY_MODEL_c0987d5bcc6a411c9e82ac3638bccfdd",
            "placeholder": "​",
            "style": "IPY_MODEL_295663b70e4448d1ad137fc93cb436cc",
            "value": " 733k/733k [00:00&lt;00:00, 13.1MB/s]"
          }
        },
        "60c9edc1f1b9422b8d2ad08615373fd4": {
          "model_module": "@jupyter-widgets/base",
          "model_name": "LayoutModel",
          "model_module_version": "1.2.0",
          "state": {
            "_model_module": "@jupyter-widgets/base",
            "_model_module_version": "1.2.0",
            "_model_name": "LayoutModel",
            "_view_count": null,
            "_view_module": "@jupyter-widgets/base",
            "_view_module_version": "1.2.0",
            "_view_name": "LayoutView",
            "align_content": null,
            "align_items": null,
            "align_self": null,
            "border": null,
            "bottom": null,
            "display": null,
            "flex": null,
            "flex_flow": null,
            "grid_area": null,
            "grid_auto_columns": null,
            "grid_auto_flow": null,
            "grid_auto_rows": null,
            "grid_column": null,
            "grid_gap": null,
            "grid_row": null,
            "grid_template_areas": null,
            "grid_template_columns": null,
            "grid_template_rows": null,
            "height": null,
            "justify_content": null,
            "justify_items": null,
            "left": null,
            "margin": null,
            "max_height": null,
            "max_width": null,
            "min_height": null,
            "min_width": null,
            "object_fit": null,
            "object_position": null,
            "order": null,
            "overflow": null,
            "overflow_x": null,
            "overflow_y": null,
            "padding": null,
            "right": null,
            "top": null,
            "visibility": null,
            "width": null
          }
        },
        "99b9c135f68346678081c9073d56c2ad": {
          "model_module": "@jupyter-widgets/base",
          "model_name": "LayoutModel",
          "model_module_version": "1.2.0",
          "state": {
            "_model_module": "@jupyter-widgets/base",
            "_model_module_version": "1.2.0",
            "_model_name": "LayoutModel",
            "_view_count": null,
            "_view_module": "@jupyter-widgets/base",
            "_view_module_version": "1.2.0",
            "_view_name": "LayoutView",
            "align_content": null,
            "align_items": null,
            "align_self": null,
            "border": null,
            "bottom": null,
            "display": null,
            "flex": null,
            "flex_flow": null,
            "grid_area": null,
            "grid_auto_columns": null,
            "grid_auto_flow": null,
            "grid_auto_rows": null,
            "grid_column": null,
            "grid_gap": null,
            "grid_row": null,
            "grid_template_areas": null,
            "grid_template_columns": null,
            "grid_template_rows": null,
            "height": null,
            "justify_content": null,
            "justify_items": null,
            "left": null,
            "margin": null,
            "max_height": null,
            "max_width": null,
            "min_height": null,
            "min_width": null,
            "object_fit": null,
            "object_position": null,
            "order": null,
            "overflow": null,
            "overflow_x": null,
            "overflow_y": null,
            "padding": null,
            "right": null,
            "top": null,
            "visibility": null,
            "width": null
          }
        },
        "dcfc73ba8def4a8aa3a6328becd48510": {
          "model_module": "@jupyter-widgets/controls",
          "model_name": "DescriptionStyleModel",
          "model_module_version": "1.5.0",
          "state": {
            "_model_module": "@jupyter-widgets/controls",
            "_model_module_version": "1.5.0",
            "_model_name": "DescriptionStyleModel",
            "_view_count": null,
            "_view_module": "@jupyter-widgets/base",
            "_view_module_version": "1.2.0",
            "_view_name": "StyleView",
            "description_width": ""
          }
        },
        "8013f696e2f3408fb978be787ab19f37": {
          "model_module": "@jupyter-widgets/base",
          "model_name": "LayoutModel",
          "model_module_version": "1.2.0",
          "state": {
            "_model_module": "@jupyter-widgets/base",
            "_model_module_version": "1.2.0",
            "_model_name": "LayoutModel",
            "_view_count": null,
            "_view_module": "@jupyter-widgets/base",
            "_view_module_version": "1.2.0",
            "_view_name": "LayoutView",
            "align_content": null,
            "align_items": null,
            "align_self": null,
            "border": null,
            "bottom": null,
            "display": null,
            "flex": null,
            "flex_flow": null,
            "grid_area": null,
            "grid_auto_columns": null,
            "grid_auto_flow": null,
            "grid_auto_rows": null,
            "grid_column": null,
            "grid_gap": null,
            "grid_row": null,
            "grid_template_areas": null,
            "grid_template_columns": null,
            "grid_template_rows": null,
            "height": null,
            "justify_content": null,
            "justify_items": null,
            "left": null,
            "margin": null,
            "max_height": null,
            "max_width": null,
            "min_height": null,
            "min_width": null,
            "object_fit": null,
            "object_position": null,
            "order": null,
            "overflow": null,
            "overflow_x": null,
            "overflow_y": null,
            "padding": null,
            "right": null,
            "top": null,
            "visibility": null,
            "width": null
          }
        },
        "fe57603ce2ee4c1eada55262cc06299a": {
          "model_module": "@jupyter-widgets/controls",
          "model_name": "ProgressStyleModel",
          "model_module_version": "1.5.0",
          "state": {
            "_model_module": "@jupyter-widgets/controls",
            "_model_module_version": "1.5.0",
            "_model_name": "ProgressStyleModel",
            "_view_count": null,
            "_view_module": "@jupyter-widgets/base",
            "_view_module_version": "1.2.0",
            "_view_name": "StyleView",
            "bar_color": null,
            "description_width": ""
          }
        },
        "c0987d5bcc6a411c9e82ac3638bccfdd": {
          "model_module": "@jupyter-widgets/base",
          "model_name": "LayoutModel",
          "model_module_version": "1.2.0",
          "state": {
            "_model_module": "@jupyter-widgets/base",
            "_model_module_version": "1.2.0",
            "_model_name": "LayoutModel",
            "_view_count": null,
            "_view_module": "@jupyter-widgets/base",
            "_view_module_version": "1.2.0",
            "_view_name": "LayoutView",
            "align_content": null,
            "align_items": null,
            "align_self": null,
            "border": null,
            "bottom": null,
            "display": null,
            "flex": null,
            "flex_flow": null,
            "grid_area": null,
            "grid_auto_columns": null,
            "grid_auto_flow": null,
            "grid_auto_rows": null,
            "grid_column": null,
            "grid_gap": null,
            "grid_row": null,
            "grid_template_areas": null,
            "grid_template_columns": null,
            "grid_template_rows": null,
            "height": null,
            "justify_content": null,
            "justify_items": null,
            "left": null,
            "margin": null,
            "max_height": null,
            "max_width": null,
            "min_height": null,
            "min_width": null,
            "object_fit": null,
            "object_position": null,
            "order": null,
            "overflow": null,
            "overflow_x": null,
            "overflow_y": null,
            "padding": null,
            "right": null,
            "top": null,
            "visibility": null,
            "width": null
          }
        },
        "295663b70e4448d1ad137fc93cb436cc": {
          "model_module": "@jupyter-widgets/controls",
          "model_name": "DescriptionStyleModel",
          "model_module_version": "1.5.0",
          "state": {
            "_model_module": "@jupyter-widgets/controls",
            "_model_module_version": "1.5.0",
            "_model_name": "DescriptionStyleModel",
            "_view_count": null,
            "_view_module": "@jupyter-widgets/base",
            "_view_module_version": "1.2.0",
            "_view_name": "StyleView",
            "description_width": ""
          }
        },
        "9646934acbb5499f841726e81a9f28e3": {
          "model_module": "@jupyter-widgets/controls",
          "model_name": "HBoxModel",
          "model_module_version": "1.5.0",
          "state": {
            "_dom_classes": [],
            "_model_module": "@jupyter-widgets/controls",
            "_model_module_version": "1.5.0",
            "_model_name": "HBoxModel",
            "_view_count": null,
            "_view_module": "@jupyter-widgets/controls",
            "_view_module_version": "1.5.0",
            "_view_name": "HBoxView",
            "box_style": "",
            "children": [
              "IPY_MODEL_7554320fd5664201b1567b85c7cdf3a0",
              "IPY_MODEL_f1a680b0be184bf2ace54158279f5a31",
              "IPY_MODEL_204766deba884a62a6298e6eab8706e5"
            ],
            "layout": "IPY_MODEL_70d0c19b8fa040e9ab0f5d25a47aaaef"
          }
        },
        "7554320fd5664201b1567b85c7cdf3a0": {
          "model_module": "@jupyter-widgets/controls",
          "model_name": "HTMLModel",
          "model_module_version": "1.5.0",
          "state": {
            "_dom_classes": [],
            "_model_module": "@jupyter-widgets/controls",
            "_model_module_version": "1.5.0",
            "_model_name": "HTMLModel",
            "_view_count": null,
            "_view_module": "@jupyter-widgets/controls",
            "_view_module_version": "1.5.0",
            "_view_name": "HTMLView",
            "description": "",
            "description_tooltip": null,
            "layout": "IPY_MODEL_42332add4ab34f11a26517b9048a2703",
            "placeholder": "​",
            "style": "IPY_MODEL_f98a05d23f30484b9e2b7b8c288416cd",
            "value": "train-00000-of-00001.parquet: 100%"
          }
        },
        "f1a680b0be184bf2ace54158279f5a31": {
          "model_module": "@jupyter-widgets/controls",
          "model_name": "FloatProgressModel",
          "model_module_version": "1.5.0",
          "state": {
            "_dom_classes": [],
            "_model_module": "@jupyter-widgets/controls",
            "_model_module_version": "1.5.0",
            "_model_name": "FloatProgressModel",
            "_view_count": null,
            "_view_module": "@jupyter-widgets/controls",
            "_view_module_version": "1.5.0",
            "_view_name": "ProgressView",
            "bar_style": "success",
            "description": "",
            "description_tooltip": null,
            "layout": "IPY_MODEL_49fc8366bcf54fa2b6b6985979f68376",
            "max": 6357543,
            "min": 0,
            "orientation": "horizontal",
            "style": "IPY_MODEL_60f9a5fe3f6d4ebfb5d3aa25329d88ca",
            "value": 6357543
          }
        },
        "204766deba884a62a6298e6eab8706e5": {
          "model_module": "@jupyter-widgets/controls",
          "model_name": "HTMLModel",
          "model_module_version": "1.5.0",
          "state": {
            "_dom_classes": [],
            "_model_module": "@jupyter-widgets/controls",
            "_model_module_version": "1.5.0",
            "_model_name": "HTMLModel",
            "_view_count": null,
            "_view_module": "@jupyter-widgets/controls",
            "_view_module_version": "1.5.0",
            "_view_name": "HTMLView",
            "description": "",
            "description_tooltip": null,
            "layout": "IPY_MODEL_8f7f21b22de04c0aba715470bece6b4f",
            "placeholder": "​",
            "style": "IPY_MODEL_b50ee219ce3f430599336d08db4f6656",
            "value": " 6.36M/6.36M [00:00&lt;00:00, 62.3MB/s]"
          }
        },
        "70d0c19b8fa040e9ab0f5d25a47aaaef": {
          "model_module": "@jupyter-widgets/base",
          "model_name": "LayoutModel",
          "model_module_version": "1.2.0",
          "state": {
            "_model_module": "@jupyter-widgets/base",
            "_model_module_version": "1.2.0",
            "_model_name": "LayoutModel",
            "_view_count": null,
            "_view_module": "@jupyter-widgets/base",
            "_view_module_version": "1.2.0",
            "_view_name": "LayoutView",
            "align_content": null,
            "align_items": null,
            "align_self": null,
            "border": null,
            "bottom": null,
            "display": null,
            "flex": null,
            "flex_flow": null,
            "grid_area": null,
            "grid_auto_columns": null,
            "grid_auto_flow": null,
            "grid_auto_rows": null,
            "grid_column": null,
            "grid_gap": null,
            "grid_row": null,
            "grid_template_areas": null,
            "grid_template_columns": null,
            "grid_template_rows": null,
            "height": null,
            "justify_content": null,
            "justify_items": null,
            "left": null,
            "margin": null,
            "max_height": null,
            "max_width": null,
            "min_height": null,
            "min_width": null,
            "object_fit": null,
            "object_position": null,
            "order": null,
            "overflow": null,
            "overflow_x": null,
            "overflow_y": null,
            "padding": null,
            "right": null,
            "top": null,
            "visibility": null,
            "width": null
          }
        },
        "42332add4ab34f11a26517b9048a2703": {
          "model_module": "@jupyter-widgets/base",
          "model_name": "LayoutModel",
          "model_module_version": "1.2.0",
          "state": {
            "_model_module": "@jupyter-widgets/base",
            "_model_module_version": "1.2.0",
            "_model_name": "LayoutModel",
            "_view_count": null,
            "_view_module": "@jupyter-widgets/base",
            "_view_module_version": "1.2.0",
            "_view_name": "LayoutView",
            "align_content": null,
            "align_items": null,
            "align_self": null,
            "border": null,
            "bottom": null,
            "display": null,
            "flex": null,
            "flex_flow": null,
            "grid_area": null,
            "grid_auto_columns": null,
            "grid_auto_flow": null,
            "grid_auto_rows": null,
            "grid_column": null,
            "grid_gap": null,
            "grid_row": null,
            "grid_template_areas": null,
            "grid_template_columns": null,
            "grid_template_rows": null,
            "height": null,
            "justify_content": null,
            "justify_items": null,
            "left": null,
            "margin": null,
            "max_height": null,
            "max_width": null,
            "min_height": null,
            "min_width": null,
            "object_fit": null,
            "object_position": null,
            "order": null,
            "overflow": null,
            "overflow_x": null,
            "overflow_y": null,
            "padding": null,
            "right": null,
            "top": null,
            "visibility": null,
            "width": null
          }
        },
        "f98a05d23f30484b9e2b7b8c288416cd": {
          "model_module": "@jupyter-widgets/controls",
          "model_name": "DescriptionStyleModel",
          "model_module_version": "1.5.0",
          "state": {
            "_model_module": "@jupyter-widgets/controls",
            "_model_module_version": "1.5.0",
            "_model_name": "DescriptionStyleModel",
            "_view_count": null,
            "_view_module": "@jupyter-widgets/base",
            "_view_module_version": "1.2.0",
            "_view_name": "StyleView",
            "description_width": ""
          }
        },
        "49fc8366bcf54fa2b6b6985979f68376": {
          "model_module": "@jupyter-widgets/base",
          "model_name": "LayoutModel",
          "model_module_version": "1.2.0",
          "state": {
            "_model_module": "@jupyter-widgets/base",
            "_model_module_version": "1.2.0",
            "_model_name": "LayoutModel",
            "_view_count": null,
            "_view_module": "@jupyter-widgets/base",
            "_view_module_version": "1.2.0",
            "_view_name": "LayoutView",
            "align_content": null,
            "align_items": null,
            "align_self": null,
            "border": null,
            "bottom": null,
            "display": null,
            "flex": null,
            "flex_flow": null,
            "grid_area": null,
            "grid_auto_columns": null,
            "grid_auto_flow": null,
            "grid_auto_rows": null,
            "grid_column": null,
            "grid_gap": null,
            "grid_row": null,
            "grid_template_areas": null,
            "grid_template_columns": null,
            "grid_template_rows": null,
            "height": null,
            "justify_content": null,
            "justify_items": null,
            "left": null,
            "margin": null,
            "max_height": null,
            "max_width": null,
            "min_height": null,
            "min_width": null,
            "object_fit": null,
            "object_position": null,
            "order": null,
            "overflow": null,
            "overflow_x": null,
            "overflow_y": null,
            "padding": null,
            "right": null,
            "top": null,
            "visibility": null,
            "width": null
          }
        },
        "60f9a5fe3f6d4ebfb5d3aa25329d88ca": {
          "model_module": "@jupyter-widgets/controls",
          "model_name": "ProgressStyleModel",
          "model_module_version": "1.5.0",
          "state": {
            "_model_module": "@jupyter-widgets/controls",
            "_model_module_version": "1.5.0",
            "_model_name": "ProgressStyleModel",
            "_view_count": null,
            "_view_module": "@jupyter-widgets/base",
            "_view_module_version": "1.2.0",
            "_view_name": "StyleView",
            "bar_color": null,
            "description_width": ""
          }
        },
        "8f7f21b22de04c0aba715470bece6b4f": {
          "model_module": "@jupyter-widgets/base",
          "model_name": "LayoutModel",
          "model_module_version": "1.2.0",
          "state": {
            "_model_module": "@jupyter-widgets/base",
            "_model_module_version": "1.2.0",
            "_model_name": "LayoutModel",
            "_view_count": null,
            "_view_module": "@jupyter-widgets/base",
            "_view_module_version": "1.2.0",
            "_view_name": "LayoutView",
            "align_content": null,
            "align_items": null,
            "align_self": null,
            "border": null,
            "bottom": null,
            "display": null,
            "flex": null,
            "flex_flow": null,
            "grid_area": null,
            "grid_auto_columns": null,
            "grid_auto_flow": null,
            "grid_auto_rows": null,
            "grid_column": null,
            "grid_gap": null,
            "grid_row": null,
            "grid_template_areas": null,
            "grid_template_columns": null,
            "grid_template_rows": null,
            "height": null,
            "justify_content": null,
            "justify_items": null,
            "left": null,
            "margin": null,
            "max_height": null,
            "max_width": null,
            "min_height": null,
            "min_width": null,
            "object_fit": null,
            "object_position": null,
            "order": null,
            "overflow": null,
            "overflow_x": null,
            "overflow_y": null,
            "padding": null,
            "right": null,
            "top": null,
            "visibility": null,
            "width": null
          }
        },
        "b50ee219ce3f430599336d08db4f6656": {
          "model_module": "@jupyter-widgets/controls",
          "model_name": "DescriptionStyleModel",
          "model_module_version": "1.5.0",
          "state": {
            "_model_module": "@jupyter-widgets/controls",
            "_model_module_version": "1.5.0",
            "_model_name": "DescriptionStyleModel",
            "_view_count": null,
            "_view_module": "@jupyter-widgets/base",
            "_view_module_version": "1.2.0",
            "_view_name": "StyleView",
            "description_width": ""
          }
        },
        "d01a1955f8f5433ebd03bcf3fcbb4488": {
          "model_module": "@jupyter-widgets/controls",
          "model_name": "HBoxModel",
          "model_module_version": "1.5.0",
          "state": {
            "_dom_classes": [],
            "_model_module": "@jupyter-widgets/controls",
            "_model_module_version": "1.5.0",
            "_model_name": "HBoxModel",
            "_view_count": null,
            "_view_module": "@jupyter-widgets/controls",
            "_view_module_version": "1.5.0",
            "_view_name": "HBoxView",
            "box_style": "",
            "children": [
              "IPY_MODEL_1e506be761b740f6ab682c11acfc8dcb",
              "IPY_MODEL_b2785c6cd1414f56b0e0d80a95bb0215",
              "IPY_MODEL_6db5758794ca4611ba908f9e34eba43e"
            ],
            "layout": "IPY_MODEL_b148dfc28a3f47329e61ac209237ace4"
          }
        },
        "1e506be761b740f6ab682c11acfc8dcb": {
          "model_module": "@jupyter-widgets/controls",
          "model_name": "HTMLModel",
          "model_module_version": "1.5.0",
          "state": {
            "_dom_classes": [],
            "_model_module": "@jupyter-widgets/controls",
            "_model_module_version": "1.5.0",
            "_model_name": "HTMLModel",
            "_view_count": null,
            "_view_module": "@jupyter-widgets/controls",
            "_view_module_version": "1.5.0",
            "_view_name": "HTMLView",
            "description": "",
            "description_tooltip": null,
            "layout": "IPY_MODEL_1ed28db328fe4776b49b5bdd83b90e80",
            "placeholder": "​",
            "style": "IPY_MODEL_aef7f1caf19d455eb8658131cc5ed950",
            "value": "validation-00000-of-00001.parquet: 100%"
          }
        },
        "b2785c6cd1414f56b0e0d80a95bb0215": {
          "model_module": "@jupyter-widgets/controls",
          "model_name": "FloatProgressModel",
          "model_module_version": "1.5.0",
          "state": {
            "_dom_classes": [],
            "_model_module": "@jupyter-widgets/controls",
            "_model_module_version": "1.5.0",
            "_model_name": "FloatProgressModel",
            "_view_count": null,
            "_view_module": "@jupyter-widgets/controls",
            "_view_module_version": "1.5.0",
            "_view_name": "ProgressView",
            "bar_style": "success",
            "description": "",
            "description_tooltip": null,
            "layout": "IPY_MODEL_cfb0ff69e13d4370a946355bb1d913e1",
            "max": 657209,
            "min": 0,
            "orientation": "horizontal",
            "style": "IPY_MODEL_4b1bfcf5382740cea2b0f8ca03c194fc",
            "value": 657209
          }
        },
        "6db5758794ca4611ba908f9e34eba43e": {
          "model_module": "@jupyter-widgets/controls",
          "model_name": "HTMLModel",
          "model_module_version": "1.5.0",
          "state": {
            "_dom_classes": [],
            "_model_module": "@jupyter-widgets/controls",
            "_model_module_version": "1.5.0",
            "_model_name": "HTMLModel",
            "_view_count": null,
            "_view_module": "@jupyter-widgets/controls",
            "_view_module_version": "1.5.0",
            "_view_name": "HTMLView",
            "description": "",
            "description_tooltip": null,
            "layout": "IPY_MODEL_dfec53bf30084e0892e8c26d648cbaa1",
            "placeholder": "​",
            "style": "IPY_MODEL_be1546eab0c744128bc8985a4ddd26cb",
            "value": " 657k/657k [00:00&lt;00:00, 41.4MB/s]"
          }
        },
        "b148dfc28a3f47329e61ac209237ace4": {
          "model_module": "@jupyter-widgets/base",
          "model_name": "LayoutModel",
          "model_module_version": "1.2.0",
          "state": {
            "_model_module": "@jupyter-widgets/base",
            "_model_module_version": "1.2.0",
            "_model_name": "LayoutModel",
            "_view_count": null,
            "_view_module": "@jupyter-widgets/base",
            "_view_module_version": "1.2.0",
            "_view_name": "LayoutView",
            "align_content": null,
            "align_items": null,
            "align_self": null,
            "border": null,
            "bottom": null,
            "display": null,
            "flex": null,
            "flex_flow": null,
            "grid_area": null,
            "grid_auto_columns": null,
            "grid_auto_flow": null,
            "grid_auto_rows": null,
            "grid_column": null,
            "grid_gap": null,
            "grid_row": null,
            "grid_template_areas": null,
            "grid_template_columns": null,
            "grid_template_rows": null,
            "height": null,
            "justify_content": null,
            "justify_items": null,
            "left": null,
            "margin": null,
            "max_height": null,
            "max_width": null,
            "min_height": null,
            "min_width": null,
            "object_fit": null,
            "object_position": null,
            "order": null,
            "overflow": null,
            "overflow_x": null,
            "overflow_y": null,
            "padding": null,
            "right": null,
            "top": null,
            "visibility": null,
            "width": null
          }
        },
        "1ed28db328fe4776b49b5bdd83b90e80": {
          "model_module": "@jupyter-widgets/base",
          "model_name": "LayoutModel",
          "model_module_version": "1.2.0",
          "state": {
            "_model_module": "@jupyter-widgets/base",
            "_model_module_version": "1.2.0",
            "_model_name": "LayoutModel",
            "_view_count": null,
            "_view_module": "@jupyter-widgets/base",
            "_view_module_version": "1.2.0",
            "_view_name": "LayoutView",
            "align_content": null,
            "align_items": null,
            "align_self": null,
            "border": null,
            "bottom": null,
            "display": null,
            "flex": null,
            "flex_flow": null,
            "grid_area": null,
            "grid_auto_columns": null,
            "grid_auto_flow": null,
            "grid_auto_rows": null,
            "grid_column": null,
            "grid_gap": null,
            "grid_row": null,
            "grid_template_areas": null,
            "grid_template_columns": null,
            "grid_template_rows": null,
            "height": null,
            "justify_content": null,
            "justify_items": null,
            "left": null,
            "margin": null,
            "max_height": null,
            "max_width": null,
            "min_height": null,
            "min_width": null,
            "object_fit": null,
            "object_position": null,
            "order": null,
            "overflow": null,
            "overflow_x": null,
            "overflow_y": null,
            "padding": null,
            "right": null,
            "top": null,
            "visibility": null,
            "width": null
          }
        },
        "aef7f1caf19d455eb8658131cc5ed950": {
          "model_module": "@jupyter-widgets/controls",
          "model_name": "DescriptionStyleModel",
          "model_module_version": "1.5.0",
          "state": {
            "_model_module": "@jupyter-widgets/controls",
            "_model_module_version": "1.5.0",
            "_model_name": "DescriptionStyleModel",
            "_view_count": null,
            "_view_module": "@jupyter-widgets/base",
            "_view_module_version": "1.2.0",
            "_view_name": "StyleView",
            "description_width": ""
          }
        },
        "cfb0ff69e13d4370a946355bb1d913e1": {
          "model_module": "@jupyter-widgets/base",
          "model_name": "LayoutModel",
          "model_module_version": "1.2.0",
          "state": {
            "_model_module": "@jupyter-widgets/base",
            "_model_module_version": "1.2.0",
            "_model_name": "LayoutModel",
            "_view_count": null,
            "_view_module": "@jupyter-widgets/base",
            "_view_module_version": "1.2.0",
            "_view_name": "LayoutView",
            "align_content": null,
            "align_items": null,
            "align_self": null,
            "border": null,
            "bottom": null,
            "display": null,
            "flex": null,
            "flex_flow": null,
            "grid_area": null,
            "grid_auto_columns": null,
            "grid_auto_flow": null,
            "grid_auto_rows": null,
            "grid_column": null,
            "grid_gap": null,
            "grid_row": null,
            "grid_template_areas": null,
            "grid_template_columns": null,
            "grid_template_rows": null,
            "height": null,
            "justify_content": null,
            "justify_items": null,
            "left": null,
            "margin": null,
            "max_height": null,
            "max_width": null,
            "min_height": null,
            "min_width": null,
            "object_fit": null,
            "object_position": null,
            "order": null,
            "overflow": null,
            "overflow_x": null,
            "overflow_y": null,
            "padding": null,
            "right": null,
            "top": null,
            "visibility": null,
            "width": null
          }
        },
        "4b1bfcf5382740cea2b0f8ca03c194fc": {
          "model_module": "@jupyter-widgets/controls",
          "model_name": "ProgressStyleModel",
          "model_module_version": "1.5.0",
          "state": {
            "_model_module": "@jupyter-widgets/controls",
            "_model_module_version": "1.5.0",
            "_model_name": "ProgressStyleModel",
            "_view_count": null,
            "_view_module": "@jupyter-widgets/base",
            "_view_module_version": "1.2.0",
            "_view_name": "StyleView",
            "bar_color": null,
            "description_width": ""
          }
        },
        "dfec53bf30084e0892e8c26d648cbaa1": {
          "model_module": "@jupyter-widgets/base",
          "model_name": "LayoutModel",
          "model_module_version": "1.2.0",
          "state": {
            "_model_module": "@jupyter-widgets/base",
            "_model_module_version": "1.2.0",
            "_model_name": "LayoutModel",
            "_view_count": null,
            "_view_module": "@jupyter-widgets/base",
            "_view_module_version": "1.2.0",
            "_view_name": "LayoutView",
            "align_content": null,
            "align_items": null,
            "align_self": null,
            "border": null,
            "bottom": null,
            "display": null,
            "flex": null,
            "flex_flow": null,
            "grid_area": null,
            "grid_auto_columns": null,
            "grid_auto_flow": null,
            "grid_auto_rows": null,
            "grid_column": null,
            "grid_gap": null,
            "grid_row": null,
            "grid_template_areas": null,
            "grid_template_columns": null,
            "grid_template_rows": null,
            "height": null,
            "justify_content": null,
            "justify_items": null,
            "left": null,
            "margin": null,
            "max_height": null,
            "max_width": null,
            "min_height": null,
            "min_width": null,
            "object_fit": null,
            "object_position": null,
            "order": null,
            "overflow": null,
            "overflow_x": null,
            "overflow_y": null,
            "padding": null,
            "right": null,
            "top": null,
            "visibility": null,
            "width": null
          }
        },
        "be1546eab0c744128bc8985a4ddd26cb": {
          "model_module": "@jupyter-widgets/controls",
          "model_name": "DescriptionStyleModel",
          "model_module_version": "1.5.0",
          "state": {
            "_model_module": "@jupyter-widgets/controls",
            "_model_module_version": "1.5.0",
            "_model_name": "DescriptionStyleModel",
            "_view_count": null,
            "_view_module": "@jupyter-widgets/base",
            "_view_module_version": "1.2.0",
            "_view_name": "StyleView",
            "description_width": ""
          }
        },
        "e000d2b8501e4af9ad8323cffd011485": {
          "model_module": "@jupyter-widgets/controls",
          "model_name": "HBoxModel",
          "model_module_version": "1.5.0",
          "state": {
            "_dom_classes": [],
            "_model_module": "@jupyter-widgets/controls",
            "_model_module_version": "1.5.0",
            "_model_name": "HBoxModel",
            "_view_count": null,
            "_view_module": "@jupyter-widgets/controls",
            "_view_module_version": "1.5.0",
            "_view_name": "HBoxView",
            "box_style": "",
            "children": [
              "IPY_MODEL_d2e2507575af4815b953458835ec7c1e",
              "IPY_MODEL_8242c9644a5740b1b7aafb47761c3a6e",
              "IPY_MODEL_920d5f9aef47466a992268f4c72853da"
            ],
            "layout": "IPY_MODEL_ac5f5f50f5694ef4ab0cba6f637b14f2"
          }
        },
        "d2e2507575af4815b953458835ec7c1e": {
          "model_module": "@jupyter-widgets/controls",
          "model_name": "HTMLModel",
          "model_module_version": "1.5.0",
          "state": {
            "_dom_classes": [],
            "_model_module": "@jupyter-widgets/controls",
            "_model_module_version": "1.5.0",
            "_model_name": "HTMLModel",
            "_view_count": null,
            "_view_module": "@jupyter-widgets/controls",
            "_view_module_version": "1.5.0",
            "_view_name": "HTMLView",
            "description": "",
            "description_tooltip": null,
            "layout": "IPY_MODEL_8e81418bff8644e09b27df45bd48e7fd",
            "placeholder": "​",
            "style": "IPY_MODEL_88c626e0946344499feaca9868a2719e",
            "value": "Generating test split: 100%"
          }
        },
        "8242c9644a5740b1b7aafb47761c3a6e": {
          "model_module": "@jupyter-widgets/controls",
          "model_name": "FloatProgressModel",
          "model_module_version": "1.5.0",
          "state": {
            "_dom_classes": [],
            "_model_module": "@jupyter-widgets/controls",
            "_model_module_version": "1.5.0",
            "_model_name": "FloatProgressModel",
            "_view_count": null,
            "_view_module": "@jupyter-widgets/controls",
            "_view_module_version": "1.5.0",
            "_view_name": "ProgressView",
            "bar_style": "success",
            "description": "",
            "description_tooltip": null,
            "layout": "IPY_MODEL_5d3cf6152cd04d27831773590468ed5f",
            "max": 4358,
            "min": 0,
            "orientation": "horizontal",
            "style": "IPY_MODEL_601445698d28438aa5a843edf027b8c5",
            "value": 4358
          }
        },
        "920d5f9aef47466a992268f4c72853da": {
          "model_module": "@jupyter-widgets/controls",
          "model_name": "HTMLModel",
          "model_module_version": "1.5.0",
          "state": {
            "_dom_classes": [],
            "_model_module": "@jupyter-widgets/controls",
            "_model_module_version": "1.5.0",
            "_model_name": "HTMLModel",
            "_view_count": null,
            "_view_module": "@jupyter-widgets/controls",
            "_view_module_version": "1.5.0",
            "_view_name": "HTMLView",
            "description": "",
            "description_tooltip": null,
            "layout": "IPY_MODEL_973e7b1867434919ba1885e9ca67909a",
            "placeholder": "​",
            "style": "IPY_MODEL_dd4853b4162d4d8fb325907d0f47ae97",
            "value": " 4358/4358 [00:00&lt;00:00, 56925.50 examples/s]"
          }
        },
        "ac5f5f50f5694ef4ab0cba6f637b14f2": {
          "model_module": "@jupyter-widgets/base",
          "model_name": "LayoutModel",
          "model_module_version": "1.2.0",
          "state": {
            "_model_module": "@jupyter-widgets/base",
            "_model_module_version": "1.2.0",
            "_model_name": "LayoutModel",
            "_view_count": null,
            "_view_module": "@jupyter-widgets/base",
            "_view_module_version": "1.2.0",
            "_view_name": "LayoutView",
            "align_content": null,
            "align_items": null,
            "align_self": null,
            "border": null,
            "bottom": null,
            "display": null,
            "flex": null,
            "flex_flow": null,
            "grid_area": null,
            "grid_auto_columns": null,
            "grid_auto_flow": null,
            "grid_auto_rows": null,
            "grid_column": null,
            "grid_gap": null,
            "grid_row": null,
            "grid_template_areas": null,
            "grid_template_columns": null,
            "grid_template_rows": null,
            "height": null,
            "justify_content": null,
            "justify_items": null,
            "left": null,
            "margin": null,
            "max_height": null,
            "max_width": null,
            "min_height": null,
            "min_width": null,
            "object_fit": null,
            "object_position": null,
            "order": null,
            "overflow": null,
            "overflow_x": null,
            "overflow_y": null,
            "padding": null,
            "right": null,
            "top": null,
            "visibility": null,
            "width": null
          }
        },
        "8e81418bff8644e09b27df45bd48e7fd": {
          "model_module": "@jupyter-widgets/base",
          "model_name": "LayoutModel",
          "model_module_version": "1.2.0",
          "state": {
            "_model_module": "@jupyter-widgets/base",
            "_model_module_version": "1.2.0",
            "_model_name": "LayoutModel",
            "_view_count": null,
            "_view_module": "@jupyter-widgets/base",
            "_view_module_version": "1.2.0",
            "_view_name": "LayoutView",
            "align_content": null,
            "align_items": null,
            "align_self": null,
            "border": null,
            "bottom": null,
            "display": null,
            "flex": null,
            "flex_flow": null,
            "grid_area": null,
            "grid_auto_columns": null,
            "grid_auto_flow": null,
            "grid_auto_rows": null,
            "grid_column": null,
            "grid_gap": null,
            "grid_row": null,
            "grid_template_areas": null,
            "grid_template_columns": null,
            "grid_template_rows": null,
            "height": null,
            "justify_content": null,
            "justify_items": null,
            "left": null,
            "margin": null,
            "max_height": null,
            "max_width": null,
            "min_height": null,
            "min_width": null,
            "object_fit": null,
            "object_position": null,
            "order": null,
            "overflow": null,
            "overflow_x": null,
            "overflow_y": null,
            "padding": null,
            "right": null,
            "top": null,
            "visibility": null,
            "width": null
          }
        },
        "88c626e0946344499feaca9868a2719e": {
          "model_module": "@jupyter-widgets/controls",
          "model_name": "DescriptionStyleModel",
          "model_module_version": "1.5.0",
          "state": {
            "_model_module": "@jupyter-widgets/controls",
            "_model_module_version": "1.5.0",
            "_model_name": "DescriptionStyleModel",
            "_view_count": null,
            "_view_module": "@jupyter-widgets/base",
            "_view_module_version": "1.2.0",
            "_view_name": "StyleView",
            "description_width": ""
          }
        },
        "5d3cf6152cd04d27831773590468ed5f": {
          "model_module": "@jupyter-widgets/base",
          "model_name": "LayoutModel",
          "model_module_version": "1.2.0",
          "state": {
            "_model_module": "@jupyter-widgets/base",
            "_model_module_version": "1.2.0",
            "_model_name": "LayoutModel",
            "_view_count": null,
            "_view_module": "@jupyter-widgets/base",
            "_view_module_version": "1.2.0",
            "_view_name": "LayoutView",
            "align_content": null,
            "align_items": null,
            "align_self": null,
            "border": null,
            "bottom": null,
            "display": null,
            "flex": null,
            "flex_flow": null,
            "grid_area": null,
            "grid_auto_columns": null,
            "grid_auto_flow": null,
            "grid_auto_rows": null,
            "grid_column": null,
            "grid_gap": null,
            "grid_row": null,
            "grid_template_areas": null,
            "grid_template_columns": null,
            "grid_template_rows": null,
            "height": null,
            "justify_content": null,
            "justify_items": null,
            "left": null,
            "margin": null,
            "max_height": null,
            "max_width": null,
            "min_height": null,
            "min_width": null,
            "object_fit": null,
            "object_position": null,
            "order": null,
            "overflow": null,
            "overflow_x": null,
            "overflow_y": null,
            "padding": null,
            "right": null,
            "top": null,
            "visibility": null,
            "width": null
          }
        },
        "601445698d28438aa5a843edf027b8c5": {
          "model_module": "@jupyter-widgets/controls",
          "model_name": "ProgressStyleModel",
          "model_module_version": "1.5.0",
          "state": {
            "_model_module": "@jupyter-widgets/controls",
            "_model_module_version": "1.5.0",
            "_model_name": "ProgressStyleModel",
            "_view_count": null,
            "_view_module": "@jupyter-widgets/base",
            "_view_module_version": "1.2.0",
            "_view_name": "StyleView",
            "bar_color": null,
            "description_width": ""
          }
        },
        "973e7b1867434919ba1885e9ca67909a": {
          "model_module": "@jupyter-widgets/base",
          "model_name": "LayoutModel",
          "model_module_version": "1.2.0",
          "state": {
            "_model_module": "@jupyter-widgets/base",
            "_model_module_version": "1.2.0",
            "_model_name": "LayoutModel",
            "_view_count": null,
            "_view_module": "@jupyter-widgets/base",
            "_view_module_version": "1.2.0",
            "_view_name": "LayoutView",
            "align_content": null,
            "align_items": null,
            "align_self": null,
            "border": null,
            "bottom": null,
            "display": null,
            "flex": null,
            "flex_flow": null,
            "grid_area": null,
            "grid_auto_columns": null,
            "grid_auto_flow": null,
            "grid_auto_rows": null,
            "grid_column": null,
            "grid_gap": null,
            "grid_row": null,
            "grid_template_areas": null,
            "grid_template_columns": null,
            "grid_template_rows": null,
            "height": null,
            "justify_content": null,
            "justify_items": null,
            "left": null,
            "margin": null,
            "max_height": null,
            "max_width": null,
            "min_height": null,
            "min_width": null,
            "object_fit": null,
            "object_position": null,
            "order": null,
            "overflow": null,
            "overflow_x": null,
            "overflow_y": null,
            "padding": null,
            "right": null,
            "top": null,
            "visibility": null,
            "width": null
          }
        },
        "dd4853b4162d4d8fb325907d0f47ae97": {
          "model_module": "@jupyter-widgets/controls",
          "model_name": "DescriptionStyleModel",
          "model_module_version": "1.5.0",
          "state": {
            "_model_module": "@jupyter-widgets/controls",
            "_model_module_version": "1.5.0",
            "_model_name": "DescriptionStyleModel",
            "_view_count": null,
            "_view_module": "@jupyter-widgets/base",
            "_view_module_version": "1.2.0",
            "_view_name": "StyleView",
            "description_width": ""
          }
        },
        "6cf52e1819e546e5ab5406da8bc548ad": {
          "model_module": "@jupyter-widgets/controls",
          "model_name": "HBoxModel",
          "model_module_version": "1.5.0",
          "state": {
            "_dom_classes": [],
            "_model_module": "@jupyter-widgets/controls",
            "_model_module_version": "1.5.0",
            "_model_name": "HBoxModel",
            "_view_count": null,
            "_view_module": "@jupyter-widgets/controls",
            "_view_module_version": "1.5.0",
            "_view_name": "HBoxView",
            "box_style": "",
            "children": [
              "IPY_MODEL_1a0ad70079194a7498867486fc327e1d",
              "IPY_MODEL_cbd5eaa8c5384ed5a2d3791682ab39bd",
              "IPY_MODEL_4fafc6374f714794a2b8d7be321f6451"
            ],
            "layout": "IPY_MODEL_a5b25a9308fb49569bc87856ed538fb2"
          }
        },
        "1a0ad70079194a7498867486fc327e1d": {
          "model_module": "@jupyter-widgets/controls",
          "model_name": "HTMLModel",
          "model_module_version": "1.5.0",
          "state": {
            "_dom_classes": [],
            "_model_module": "@jupyter-widgets/controls",
            "_model_module_version": "1.5.0",
            "_model_name": "HTMLModel",
            "_view_count": null,
            "_view_module": "@jupyter-widgets/controls",
            "_view_module_version": "1.5.0",
            "_view_name": "HTMLView",
            "description": "",
            "description_tooltip": null,
            "layout": "IPY_MODEL_d563c788cf354bae9fdd8c9a4e2aade1",
            "placeholder": "​",
            "style": "IPY_MODEL_e97db52e58654fe9a9e5fadb756a62ae",
            "value": "Generating train split: 100%"
          }
        },
        "cbd5eaa8c5384ed5a2d3791682ab39bd": {
          "model_module": "@jupyter-widgets/controls",
          "model_name": "FloatProgressModel",
          "model_module_version": "1.5.0",
          "state": {
            "_dom_classes": [],
            "_model_module": "@jupyter-widgets/controls",
            "_model_module_version": "1.5.0",
            "_model_name": "FloatProgressModel",
            "_view_count": null,
            "_view_module": "@jupyter-widgets/controls",
            "_view_module_version": "1.5.0",
            "_view_name": "ProgressView",
            "bar_style": "success",
            "description": "",
            "description_tooltip": null,
            "layout": "IPY_MODEL_84345392418d4f89b0e5cdc862fada3f",
            "max": 36718,
            "min": 0,
            "orientation": "horizontal",
            "style": "IPY_MODEL_0771ad749b7f4dd998b298722a51ae3f",
            "value": 36718
          }
        },
        "4fafc6374f714794a2b8d7be321f6451": {
          "model_module": "@jupyter-widgets/controls",
          "model_name": "HTMLModel",
          "model_module_version": "1.5.0",
          "state": {
            "_dom_classes": [],
            "_model_module": "@jupyter-widgets/controls",
            "_model_module_version": "1.5.0",
            "_model_name": "HTMLModel",
            "_view_count": null,
            "_view_module": "@jupyter-widgets/controls",
            "_view_module_version": "1.5.0",
            "_view_name": "HTMLView",
            "description": "",
            "description_tooltip": null,
            "layout": "IPY_MODEL_eb61775bc80945cab72fb975d59a7c99",
            "placeholder": "​",
            "style": "IPY_MODEL_b29b25a5346c41fbbf6457c378d08300",
            "value": " 36718/36718 [00:00&lt;00:00, 484502.71 examples/s]"
          }
        },
        "a5b25a9308fb49569bc87856ed538fb2": {
          "model_module": "@jupyter-widgets/base",
          "model_name": "LayoutModel",
          "model_module_version": "1.2.0",
          "state": {
            "_model_module": "@jupyter-widgets/base",
            "_model_module_version": "1.2.0",
            "_model_name": "LayoutModel",
            "_view_count": null,
            "_view_module": "@jupyter-widgets/base",
            "_view_module_version": "1.2.0",
            "_view_name": "LayoutView",
            "align_content": null,
            "align_items": null,
            "align_self": null,
            "border": null,
            "bottom": null,
            "display": null,
            "flex": null,
            "flex_flow": null,
            "grid_area": null,
            "grid_auto_columns": null,
            "grid_auto_flow": null,
            "grid_auto_rows": null,
            "grid_column": null,
            "grid_gap": null,
            "grid_row": null,
            "grid_template_areas": null,
            "grid_template_columns": null,
            "grid_template_rows": null,
            "height": null,
            "justify_content": null,
            "justify_items": null,
            "left": null,
            "margin": null,
            "max_height": null,
            "max_width": null,
            "min_height": null,
            "min_width": null,
            "object_fit": null,
            "object_position": null,
            "order": null,
            "overflow": null,
            "overflow_x": null,
            "overflow_y": null,
            "padding": null,
            "right": null,
            "top": null,
            "visibility": null,
            "width": null
          }
        },
        "d563c788cf354bae9fdd8c9a4e2aade1": {
          "model_module": "@jupyter-widgets/base",
          "model_name": "LayoutModel",
          "model_module_version": "1.2.0",
          "state": {
            "_model_module": "@jupyter-widgets/base",
            "_model_module_version": "1.2.0",
            "_model_name": "LayoutModel",
            "_view_count": null,
            "_view_module": "@jupyter-widgets/base",
            "_view_module_version": "1.2.0",
            "_view_name": "LayoutView",
            "align_content": null,
            "align_items": null,
            "align_self": null,
            "border": null,
            "bottom": null,
            "display": null,
            "flex": null,
            "flex_flow": null,
            "grid_area": null,
            "grid_auto_columns": null,
            "grid_auto_flow": null,
            "grid_auto_rows": null,
            "grid_column": null,
            "grid_gap": null,
            "grid_row": null,
            "grid_template_areas": null,
            "grid_template_columns": null,
            "grid_template_rows": null,
            "height": null,
            "justify_content": null,
            "justify_items": null,
            "left": null,
            "margin": null,
            "max_height": null,
            "max_width": null,
            "min_height": null,
            "min_width": null,
            "object_fit": null,
            "object_position": null,
            "order": null,
            "overflow": null,
            "overflow_x": null,
            "overflow_y": null,
            "padding": null,
            "right": null,
            "top": null,
            "visibility": null,
            "width": null
          }
        },
        "e97db52e58654fe9a9e5fadb756a62ae": {
          "model_module": "@jupyter-widgets/controls",
          "model_name": "DescriptionStyleModel",
          "model_module_version": "1.5.0",
          "state": {
            "_model_module": "@jupyter-widgets/controls",
            "_model_module_version": "1.5.0",
            "_model_name": "DescriptionStyleModel",
            "_view_count": null,
            "_view_module": "@jupyter-widgets/base",
            "_view_module_version": "1.2.0",
            "_view_name": "StyleView",
            "description_width": ""
          }
        },
        "84345392418d4f89b0e5cdc862fada3f": {
          "model_module": "@jupyter-widgets/base",
          "model_name": "LayoutModel",
          "model_module_version": "1.2.0",
          "state": {
            "_model_module": "@jupyter-widgets/base",
            "_model_module_version": "1.2.0",
            "_model_name": "LayoutModel",
            "_view_count": null,
            "_view_module": "@jupyter-widgets/base",
            "_view_module_version": "1.2.0",
            "_view_name": "LayoutView",
            "align_content": null,
            "align_items": null,
            "align_self": null,
            "border": null,
            "bottom": null,
            "display": null,
            "flex": null,
            "flex_flow": null,
            "grid_area": null,
            "grid_auto_columns": null,
            "grid_auto_flow": null,
            "grid_auto_rows": null,
            "grid_column": null,
            "grid_gap": null,
            "grid_row": null,
            "grid_template_areas": null,
            "grid_template_columns": null,
            "grid_template_rows": null,
            "height": null,
            "justify_content": null,
            "justify_items": null,
            "left": null,
            "margin": null,
            "max_height": null,
            "max_width": null,
            "min_height": null,
            "min_width": null,
            "object_fit": null,
            "object_position": null,
            "order": null,
            "overflow": null,
            "overflow_x": null,
            "overflow_y": null,
            "padding": null,
            "right": null,
            "top": null,
            "visibility": null,
            "width": null
          }
        },
        "0771ad749b7f4dd998b298722a51ae3f": {
          "model_module": "@jupyter-widgets/controls",
          "model_name": "ProgressStyleModel",
          "model_module_version": "1.5.0",
          "state": {
            "_model_module": "@jupyter-widgets/controls",
            "_model_module_version": "1.5.0",
            "_model_name": "ProgressStyleModel",
            "_view_count": null,
            "_view_module": "@jupyter-widgets/base",
            "_view_module_version": "1.2.0",
            "_view_name": "StyleView",
            "bar_color": null,
            "description_width": ""
          }
        },
        "eb61775bc80945cab72fb975d59a7c99": {
          "model_module": "@jupyter-widgets/base",
          "model_name": "LayoutModel",
          "model_module_version": "1.2.0",
          "state": {
            "_model_module": "@jupyter-widgets/base",
            "_model_module_version": "1.2.0",
            "_model_name": "LayoutModel",
            "_view_count": null,
            "_view_module": "@jupyter-widgets/base",
            "_view_module_version": "1.2.0",
            "_view_name": "LayoutView",
            "align_content": null,
            "align_items": null,
            "align_self": null,
            "border": null,
            "bottom": null,
            "display": null,
            "flex": null,
            "flex_flow": null,
            "grid_area": null,
            "grid_auto_columns": null,
            "grid_auto_flow": null,
            "grid_auto_rows": null,
            "grid_column": null,
            "grid_gap": null,
            "grid_row": null,
            "grid_template_areas": null,
            "grid_template_columns": null,
            "grid_template_rows": null,
            "height": null,
            "justify_content": null,
            "justify_items": null,
            "left": null,
            "margin": null,
            "max_height": null,
            "max_width": null,
            "min_height": null,
            "min_width": null,
            "object_fit": null,
            "object_position": null,
            "order": null,
            "overflow": null,
            "overflow_x": null,
            "overflow_y": null,
            "padding": null,
            "right": null,
            "top": null,
            "visibility": null,
            "width": null
          }
        },
        "b29b25a5346c41fbbf6457c378d08300": {
          "model_module": "@jupyter-widgets/controls",
          "model_name": "DescriptionStyleModel",
          "model_module_version": "1.5.0",
          "state": {
            "_model_module": "@jupyter-widgets/controls",
            "_model_module_version": "1.5.0",
            "_model_name": "DescriptionStyleModel",
            "_view_count": null,
            "_view_module": "@jupyter-widgets/base",
            "_view_module_version": "1.2.0",
            "_view_name": "StyleView",
            "description_width": ""
          }
        },
        "200e88c7fc124722b8f0f3ee24e7ef53": {
          "model_module": "@jupyter-widgets/controls",
          "model_name": "HBoxModel",
          "model_module_version": "1.5.0",
          "state": {
            "_dom_classes": [],
            "_model_module": "@jupyter-widgets/controls",
            "_model_module_version": "1.5.0",
            "_model_name": "HBoxModel",
            "_view_count": null,
            "_view_module": "@jupyter-widgets/controls",
            "_view_module_version": "1.5.0",
            "_view_name": "HBoxView",
            "box_style": "",
            "children": [
              "IPY_MODEL_a28a92ea87114fc082099a6de2fc32c2",
              "IPY_MODEL_b41e856cd4004809901afe6231be476f",
              "IPY_MODEL_3122089302434c189afc490091d56fa4"
            ],
            "layout": "IPY_MODEL_ee0f7b1161e844b28ebc0b675acaab62"
          }
        },
        "a28a92ea87114fc082099a6de2fc32c2": {
          "model_module": "@jupyter-widgets/controls",
          "model_name": "HTMLModel",
          "model_module_version": "1.5.0",
          "state": {
            "_dom_classes": [],
            "_model_module": "@jupyter-widgets/controls",
            "_model_module_version": "1.5.0",
            "_model_name": "HTMLModel",
            "_view_count": null,
            "_view_module": "@jupyter-widgets/controls",
            "_view_module_version": "1.5.0",
            "_view_name": "HTMLView",
            "description": "",
            "description_tooltip": null,
            "layout": "IPY_MODEL_5a15fa835772418cb1cb1832ed87fb08",
            "placeholder": "​",
            "style": "IPY_MODEL_c92d98cadb1345fbb3b5edecbe7fbd12",
            "value": "Generating validation split: 100%"
          }
        },
        "b41e856cd4004809901afe6231be476f": {
          "model_module": "@jupyter-widgets/controls",
          "model_name": "FloatProgressModel",
          "model_module_version": "1.5.0",
          "state": {
            "_dom_classes": [],
            "_model_module": "@jupyter-widgets/controls",
            "_model_module_version": "1.5.0",
            "_model_name": "FloatProgressModel",
            "_view_count": null,
            "_view_module": "@jupyter-widgets/controls",
            "_view_module_version": "1.5.0",
            "_view_name": "ProgressView",
            "bar_style": "success",
            "description": "",
            "description_tooltip": null,
            "layout": "IPY_MODEL_1d2cadd5ca394946a9c2f662b6cd10b7",
            "max": 3760,
            "min": 0,
            "orientation": "horizontal",
            "style": "IPY_MODEL_2f75653f9dc4447aac9246cb388cdcd2",
            "value": 3760
          }
        },
        "3122089302434c189afc490091d56fa4": {
          "model_module": "@jupyter-widgets/controls",
          "model_name": "HTMLModel",
          "model_module_version": "1.5.0",
          "state": {
            "_dom_classes": [],
            "_model_module": "@jupyter-widgets/controls",
            "_model_module_version": "1.5.0",
            "_model_name": "HTMLModel",
            "_view_count": null,
            "_view_module": "@jupyter-widgets/controls",
            "_view_module_version": "1.5.0",
            "_view_name": "HTMLView",
            "description": "",
            "description_tooltip": null,
            "layout": "IPY_MODEL_87d7e378b7f54d1689618771846478ef",
            "placeholder": "​",
            "style": "IPY_MODEL_0b935d9447364ba99ab55a53409e3ae2",
            "value": " 3760/3760 [00:00&lt;00:00, 103241.70 examples/s]"
          }
        },
        "ee0f7b1161e844b28ebc0b675acaab62": {
          "model_module": "@jupyter-widgets/base",
          "model_name": "LayoutModel",
          "model_module_version": "1.2.0",
          "state": {
            "_model_module": "@jupyter-widgets/base",
            "_model_module_version": "1.2.0",
            "_model_name": "LayoutModel",
            "_view_count": null,
            "_view_module": "@jupyter-widgets/base",
            "_view_module_version": "1.2.0",
            "_view_name": "LayoutView",
            "align_content": null,
            "align_items": null,
            "align_self": null,
            "border": null,
            "bottom": null,
            "display": null,
            "flex": null,
            "flex_flow": null,
            "grid_area": null,
            "grid_auto_columns": null,
            "grid_auto_flow": null,
            "grid_auto_rows": null,
            "grid_column": null,
            "grid_gap": null,
            "grid_row": null,
            "grid_template_areas": null,
            "grid_template_columns": null,
            "grid_template_rows": null,
            "height": null,
            "justify_content": null,
            "justify_items": null,
            "left": null,
            "margin": null,
            "max_height": null,
            "max_width": null,
            "min_height": null,
            "min_width": null,
            "object_fit": null,
            "object_position": null,
            "order": null,
            "overflow": null,
            "overflow_x": null,
            "overflow_y": null,
            "padding": null,
            "right": null,
            "top": null,
            "visibility": null,
            "width": null
          }
        },
        "5a15fa835772418cb1cb1832ed87fb08": {
          "model_module": "@jupyter-widgets/base",
          "model_name": "LayoutModel",
          "model_module_version": "1.2.0",
          "state": {
            "_model_module": "@jupyter-widgets/base",
            "_model_module_version": "1.2.0",
            "_model_name": "LayoutModel",
            "_view_count": null,
            "_view_module": "@jupyter-widgets/base",
            "_view_module_version": "1.2.0",
            "_view_name": "LayoutView",
            "align_content": null,
            "align_items": null,
            "align_self": null,
            "border": null,
            "bottom": null,
            "display": null,
            "flex": null,
            "flex_flow": null,
            "grid_area": null,
            "grid_auto_columns": null,
            "grid_auto_flow": null,
            "grid_auto_rows": null,
            "grid_column": null,
            "grid_gap": null,
            "grid_row": null,
            "grid_template_areas": null,
            "grid_template_columns": null,
            "grid_template_rows": null,
            "height": null,
            "justify_content": null,
            "justify_items": null,
            "left": null,
            "margin": null,
            "max_height": null,
            "max_width": null,
            "min_height": null,
            "min_width": null,
            "object_fit": null,
            "object_position": null,
            "order": null,
            "overflow": null,
            "overflow_x": null,
            "overflow_y": null,
            "padding": null,
            "right": null,
            "top": null,
            "visibility": null,
            "width": null
          }
        },
        "c92d98cadb1345fbb3b5edecbe7fbd12": {
          "model_module": "@jupyter-widgets/controls",
          "model_name": "DescriptionStyleModel",
          "model_module_version": "1.5.0",
          "state": {
            "_model_module": "@jupyter-widgets/controls",
            "_model_module_version": "1.5.0",
            "_model_name": "DescriptionStyleModel",
            "_view_count": null,
            "_view_module": "@jupyter-widgets/base",
            "_view_module_version": "1.2.0",
            "_view_name": "StyleView",
            "description_width": ""
          }
        },
        "1d2cadd5ca394946a9c2f662b6cd10b7": {
          "model_module": "@jupyter-widgets/base",
          "model_name": "LayoutModel",
          "model_module_version": "1.2.0",
          "state": {
            "_model_module": "@jupyter-widgets/base",
            "_model_module_version": "1.2.0",
            "_model_name": "LayoutModel",
            "_view_count": null,
            "_view_module": "@jupyter-widgets/base",
            "_view_module_version": "1.2.0",
            "_view_name": "LayoutView",
            "align_content": null,
            "align_items": null,
            "align_self": null,
            "border": null,
            "bottom": null,
            "display": null,
            "flex": null,
            "flex_flow": null,
            "grid_area": null,
            "grid_auto_columns": null,
            "grid_auto_flow": null,
            "grid_auto_rows": null,
            "grid_column": null,
            "grid_gap": null,
            "grid_row": null,
            "grid_template_areas": null,
            "grid_template_columns": null,
            "grid_template_rows": null,
            "height": null,
            "justify_content": null,
            "justify_items": null,
            "left": null,
            "margin": null,
            "max_height": null,
            "max_width": null,
            "min_height": null,
            "min_width": null,
            "object_fit": null,
            "object_position": null,
            "order": null,
            "overflow": null,
            "overflow_x": null,
            "overflow_y": null,
            "padding": null,
            "right": null,
            "top": null,
            "visibility": null,
            "width": null
          }
        },
        "2f75653f9dc4447aac9246cb388cdcd2": {
          "model_module": "@jupyter-widgets/controls",
          "model_name": "ProgressStyleModel",
          "model_module_version": "1.5.0",
          "state": {
            "_model_module": "@jupyter-widgets/controls",
            "_model_module_version": "1.5.0",
            "_model_name": "ProgressStyleModel",
            "_view_count": null,
            "_view_module": "@jupyter-widgets/base",
            "_view_module_version": "1.2.0",
            "_view_name": "StyleView",
            "bar_color": null,
            "description_width": ""
          }
        },
        "87d7e378b7f54d1689618771846478ef": {
          "model_module": "@jupyter-widgets/base",
          "model_name": "LayoutModel",
          "model_module_version": "1.2.0",
          "state": {
            "_model_module": "@jupyter-widgets/base",
            "_model_module_version": "1.2.0",
            "_model_name": "LayoutModel",
            "_view_count": null,
            "_view_module": "@jupyter-widgets/base",
            "_view_module_version": "1.2.0",
            "_view_name": "LayoutView",
            "align_content": null,
            "align_items": null,
            "align_self": null,
            "border": null,
            "bottom": null,
            "display": null,
            "flex": null,
            "flex_flow": null,
            "grid_area": null,
            "grid_auto_columns": null,
            "grid_auto_flow": null,
            "grid_auto_rows": null,
            "grid_column": null,
            "grid_gap": null,
            "grid_row": null,
            "grid_template_areas": null,
            "grid_template_columns": null,
            "grid_template_rows": null,
            "height": null,
            "justify_content": null,
            "justify_items": null,
            "left": null,
            "margin": null,
            "max_height": null,
            "max_width": null,
            "min_height": null,
            "min_width": null,
            "object_fit": null,
            "object_position": null,
            "order": null,
            "overflow": null,
            "overflow_x": null,
            "overflow_y": null,
            "padding": null,
            "right": null,
            "top": null,
            "visibility": null,
            "width": null
          }
        },
        "0b935d9447364ba99ab55a53409e3ae2": {
          "model_module": "@jupyter-widgets/controls",
          "model_name": "DescriptionStyleModel",
          "model_module_version": "1.5.0",
          "state": {
            "_model_module": "@jupyter-widgets/controls",
            "_model_module_version": "1.5.0",
            "_model_name": "DescriptionStyleModel",
            "_view_count": null,
            "_view_module": "@jupyter-widgets/base",
            "_view_module_version": "1.2.0",
            "_view_name": "StyleView",
            "description_width": ""
          }
        }
      }
    }
  },
  "nbformat": 4,
  "nbformat_minor": 0
}